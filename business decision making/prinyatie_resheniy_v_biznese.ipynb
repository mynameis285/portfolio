{
 "cells": [
  {
   "cell_type": "markdown",
   "metadata": {},
   "source": [
    "# Принятие решений в бизнесе"
   ]
  },
  {
   "cell_type": "markdown",
   "metadata": {},
   "source": [
    "В данном проекте речь пойдет о крупном интернет-магазине. Совместно с отделом маркетинга мы подготовили список гипотез для увеличения выручки.\n",
    "\n",
    "**Цели исследования:**\n",
    "\n",
    "1. Приоритизировать гипотезы\n",
    "2. Проанализировать результаты А/В-теста.\n",
    "\n",
    "\n",
    "**Ход исследования**\n",
    "\n",
    "Данные о гипотезах, заказах и пользователях возьмем из файлов `/datasets/hypothesis.csv`,`/datasets/orders.csv` и `/datasets/visitors.csv`.О качестве данных ничего неизвестно. Поэтому, перед тем как перейти к исследованию, необходимо будет провести обзор данных.\n",
    "\n",
    "\n",
    "Структура `/datasets/hypothesis.csv`:\n",
    "\n",
    "- `Hypothesis` — краткое описание гипотезы;\n",
    "- `Reach` — охват пользователей по 10-балльной шкале;\n",
    "- `Impact` — влияние на пользователей по 10-балльной шкале;\n",
    "- `Confidence` — уверенность в гипотезе по 10-балльной шкале;\n",
    "- `Efforts` — затраты ресурсов на проверку гипотезы по 10-балльной шкале. Чем больше значение Efforts, тем дороже проверка гипотезы.\n",
    "\n",
    "Структура `/datasets/orders.csv.`:\n",
    "\n",
    "\n",
    "- `transactionId` — идентификатор заказа;\n",
    "- `visitorId` — идентификатор пользователя, совершившего заказ;\n",
    "- `date` — дата, когда был совершён заказ;\n",
    "- `revenue` — выручка заказа;\n",
    "- `group` — группа A/B-теста, в которую попал заказ.\n",
    "\n",
    "Структура `/datasets/visitors.csv.`: \n",
    "\n",
    "\n",
    "- `date` — дата;\n",
    "- `group` — группа A/B-теста;\n",
    "- `visitors` — количество пользователей в указанную дату в указанной группе A/B-теста\n",
    "\n",
    "Наше исследование разделено на три части, в каждой из которых будет определенное количество этапов:\n",
    "\n",
    "**Часть 1. Обзор и предобработка данных:**\n",
    "\n",
    "- Загрузка и обзор данных;\n",
    "- Предобработка данных;\n",
    "\n",
    "**Часть 2. Приоритизация гипотез:**\n",
    "\n",
    "- Применение фреймворков ICE и RICE для приоритизации гипотез;\n",
    "- Выводы по результатам приоритизации.\n",
    "\n",
    "**Часть 3. Анализ А/В-теста:**\n",
    "\n",
    "- Общий обзор на данные;\n",
    "- Применение кумулятивных методов;\n",
    "- Количество заказов на пользователя;\n",
    "- Сумма чеков на пользователя;\n",
    "- Вычисление статистической значимости.\n",
    "\n",
    "**Общий вывод.**"
   ]
  },
  {
   "cell_type": "markdown",
   "metadata": {},
   "source": [
    "## Обзор и предобработка данных."
   ]
  },
  {
   "cell_type": "markdown",
   "metadata": {},
   "source": [
    "### Загрузка и обзор данных"
   ]
  },
  {
   "cell_type": "markdown",
   "metadata": {},
   "source": [
    "Загрузим данные, изучим и выполним предобработку."
   ]
  },
  {
   "cell_type": "code",
   "execution_count": 1,
   "metadata": {},
   "outputs": [],
   "source": [
    "#импорт библиотек\n",
    "\n",
    "import pandas as pd\n",
    "import matplotlib.pyplot as plt\n",
    "import numpy as np\n",
    "import seaborn as sns\n",
    "import datetime as dt\n",
    "import scipy.stats as stats"
   ]
  },
  {
   "cell_type": "code",
   "execution_count": 2,
   "metadata": {},
   "outputs": [],
   "source": [
    "# загружаем файлы.\n",
    "\n",
    "try:\n",
    "    hypothesis = pd.read_csv('/datasets/hypothesis.csv', sep='\\t')\n",
    "except:\n",
    "    hypothesis = pd.read_csv('https://code.s3.yandex.net/datasets/hypothesis.csv')\n",
    "    \n",
    "try:\n",
    "    orders = pd.read_csv('/datasets/orders.csv', sep='\\t')\n",
    "except:\n",
    "    orders = pd.read_csv('https://code.s3.yandex.net/datasets/orders.csv')\n",
    "    \n",
    "try:\n",
    "    visitors = pd.read_csv('/datasets/visitors.csv', sep='\\t')\n",
    "except:\n",
    "    visitors = pd.read_csv('https://code.s3.yandex.net/datasets/visitors.csv')"
   ]
  },
  {
   "cell_type": "code",
   "execution_count": 3,
   "metadata": {
    "scrolled": false
   },
   "outputs": [
    {
     "data": {
      "text/html": [
       "<div>\n",
       "<style scoped>\n",
       "    .dataframe tbody tr th:only-of-type {\n",
       "        vertical-align: middle;\n",
       "    }\n",
       "\n",
       "    .dataframe tbody tr th {\n",
       "        vertical-align: top;\n",
       "    }\n",
       "\n",
       "    .dataframe thead th {\n",
       "        text-align: right;\n",
       "    }\n",
       "</style>\n",
       "<table border=\"1\" class=\"dataframe\">\n",
       "  <thead>\n",
       "    <tr style=\"text-align: right;\">\n",
       "      <th></th>\n",
       "      <th>Hypothesis</th>\n",
       "      <th>Reach</th>\n",
       "      <th>Impact</th>\n",
       "      <th>Confidence</th>\n",
       "      <th>Efforts</th>\n",
       "    </tr>\n",
       "  </thead>\n",
       "  <tbody>\n",
       "    <tr>\n",
       "      <th>0</th>\n",
       "      <td>Добавить два новых канала привлечения трафика, что позволит привлекать на 30% больше пользователей</td>\n",
       "      <td>3</td>\n",
       "      <td>10</td>\n",
       "      <td>8</td>\n",
       "      <td>6</td>\n",
       "    </tr>\n",
       "    <tr>\n",
       "      <th>1</th>\n",
       "      <td>Запустить собственную службу доставки, что сократит срок доставки заказов</td>\n",
       "      <td>2</td>\n",
       "      <td>5</td>\n",
       "      <td>4</td>\n",
       "      <td>10</td>\n",
       "    </tr>\n",
       "    <tr>\n",
       "      <th>2</th>\n",
       "      <td>Добавить блоки рекомендаций товаров на сайт интернет магазина, чтобы повысить конверсию и средний чек заказа</td>\n",
       "      <td>8</td>\n",
       "      <td>3</td>\n",
       "      <td>7</td>\n",
       "      <td>3</td>\n",
       "    </tr>\n",
       "    <tr>\n",
       "      <th>3</th>\n",
       "      <td>Изменить структура категорий, что увеличит конверсию, т.к. пользователи быстрее найдут нужный товар</td>\n",
       "      <td>8</td>\n",
       "      <td>3</td>\n",
       "      <td>3</td>\n",
       "      <td>8</td>\n",
       "    </tr>\n",
       "    <tr>\n",
       "      <th>4</th>\n",
       "      <td>Изменить цвет фона главной страницы, чтобы увеличить вовлеченность пользователей</td>\n",
       "      <td>3</td>\n",
       "      <td>1</td>\n",
       "      <td>1</td>\n",
       "      <td>1</td>\n",
       "    </tr>\n",
       "    <tr>\n",
       "      <th>5</th>\n",
       "      <td>Добавить страницу отзывов клиентов о магазине, что позволит увеличить количество заказов</td>\n",
       "      <td>3</td>\n",
       "      <td>2</td>\n",
       "      <td>2</td>\n",
       "      <td>3</td>\n",
       "    </tr>\n",
       "    <tr>\n",
       "      <th>6</th>\n",
       "      <td>Показать на главной странице баннеры с актуальными акциями и распродажами, чтобы увеличить конверсию</td>\n",
       "      <td>5</td>\n",
       "      <td>3</td>\n",
       "      <td>8</td>\n",
       "      <td>3</td>\n",
       "    </tr>\n",
       "    <tr>\n",
       "      <th>7</th>\n",
       "      <td>Добавить форму подписки на все основные страницы, чтобы собрать базу клиентов для email-рассылок</td>\n",
       "      <td>10</td>\n",
       "      <td>7</td>\n",
       "      <td>8</td>\n",
       "      <td>5</td>\n",
       "    </tr>\n",
       "    <tr>\n",
       "      <th>8</th>\n",
       "      <td>Запустить акцию, дающую скидку на товар в день рождения</td>\n",
       "      <td>1</td>\n",
       "      <td>9</td>\n",
       "      <td>9</td>\n",
       "      <td>5</td>\n",
       "    </tr>\n",
       "  </tbody>\n",
       "</table>\n",
       "</div>"
      ],
      "text/plain": [
       "                                                                                                     Hypothesis  \\\n",
       "0            Добавить два новых канала привлечения трафика, что позволит привлекать на 30% больше пользователей   \n",
       "1                                     Запустить собственную службу доставки, что сократит срок доставки заказов   \n",
       "2  Добавить блоки рекомендаций товаров на сайт интернет магазина, чтобы повысить конверсию и средний чек заказа   \n",
       "3           Изменить структура категорий, что увеличит конверсию, т.к. пользователи быстрее найдут нужный товар   \n",
       "4                              Изменить цвет фона главной страницы, чтобы увеличить вовлеченность пользователей   \n",
       "5                      Добавить страницу отзывов клиентов о магазине, что позволит увеличить количество заказов   \n",
       "6          Показать на главной странице баннеры с актуальными акциями и распродажами, чтобы увеличить конверсию   \n",
       "7              Добавить форму подписки на все основные страницы, чтобы собрать базу клиентов для email-рассылок   \n",
       "8                                                       Запустить акцию, дающую скидку на товар в день рождения   \n",
       "\n",
       "   Reach  Impact  Confidence  Efforts  \n",
       "0      3      10           8        6  \n",
       "1      2       5           4       10  \n",
       "2      8       3           7        3  \n",
       "3      8       3           3        8  \n",
       "4      3       1           1        1  \n",
       "5      3       2           2        3  \n",
       "6      5       3           8        3  \n",
       "7     10       7           8        5  \n",
       "8      1       9           9        5  "
      ]
     },
     "metadata": {},
     "output_type": "display_data"
    },
    {
     "data": {
      "text/html": [
       "<div>\n",
       "<style scoped>\n",
       "    .dataframe tbody tr th:only-of-type {\n",
       "        vertical-align: middle;\n",
       "    }\n",
       "\n",
       "    .dataframe tbody tr th {\n",
       "        vertical-align: top;\n",
       "    }\n",
       "\n",
       "    .dataframe thead th {\n",
       "        text-align: right;\n",
       "    }\n",
       "</style>\n",
       "<table border=\"1\" class=\"dataframe\">\n",
       "  <thead>\n",
       "    <tr style=\"text-align: right;\">\n",
       "      <th></th>\n",
       "      <th>transactionId</th>\n",
       "      <th>visitorId</th>\n",
       "      <th>date</th>\n",
       "      <th>revenue</th>\n",
       "      <th>group</th>\n",
       "    </tr>\n",
       "  </thead>\n",
       "  <tbody>\n",
       "    <tr>\n",
       "      <th>0</th>\n",
       "      <td>3667963787</td>\n",
       "      <td>3312258926</td>\n",
       "      <td>2019-08-15</td>\n",
       "      <td>1650</td>\n",
       "      <td>B</td>\n",
       "    </tr>\n",
       "    <tr>\n",
       "      <th>1</th>\n",
       "      <td>2804400009</td>\n",
       "      <td>3642806036</td>\n",
       "      <td>2019-08-15</td>\n",
       "      <td>730</td>\n",
       "      <td>B</td>\n",
       "    </tr>\n",
       "    <tr>\n",
       "      <th>2</th>\n",
       "      <td>2961555356</td>\n",
       "      <td>4069496402</td>\n",
       "      <td>2019-08-15</td>\n",
       "      <td>400</td>\n",
       "      <td>A</td>\n",
       "    </tr>\n",
       "    <tr>\n",
       "      <th>3</th>\n",
       "      <td>3797467345</td>\n",
       "      <td>1196621759</td>\n",
       "      <td>2019-08-15</td>\n",
       "      <td>9759</td>\n",
       "      <td>B</td>\n",
       "    </tr>\n",
       "    <tr>\n",
       "      <th>4</th>\n",
       "      <td>2282983706</td>\n",
       "      <td>2322279887</td>\n",
       "      <td>2019-08-15</td>\n",
       "      <td>2308</td>\n",
       "      <td>B</td>\n",
       "    </tr>\n",
       "  </tbody>\n",
       "</table>\n",
       "</div>"
      ],
      "text/plain": [
       "   transactionId   visitorId        date  revenue group\n",
       "0     3667963787  3312258926  2019-08-15     1650     B\n",
       "1     2804400009  3642806036  2019-08-15      730     B\n",
       "2     2961555356  4069496402  2019-08-15      400     A\n",
       "3     3797467345  1196621759  2019-08-15     9759     B\n",
       "4     2282983706  2322279887  2019-08-15     2308     B"
      ]
     },
     "metadata": {},
     "output_type": "display_data"
    },
    {
     "data": {
      "text/html": [
       "<div>\n",
       "<style scoped>\n",
       "    .dataframe tbody tr th:only-of-type {\n",
       "        vertical-align: middle;\n",
       "    }\n",
       "\n",
       "    .dataframe tbody tr th {\n",
       "        vertical-align: top;\n",
       "    }\n",
       "\n",
       "    .dataframe thead th {\n",
       "        text-align: right;\n",
       "    }\n",
       "</style>\n",
       "<table border=\"1\" class=\"dataframe\">\n",
       "  <thead>\n",
       "    <tr style=\"text-align: right;\">\n",
       "      <th></th>\n",
       "      <th>date</th>\n",
       "      <th>group</th>\n",
       "      <th>visitors</th>\n",
       "    </tr>\n",
       "  </thead>\n",
       "  <tbody>\n",
       "    <tr>\n",
       "      <th>0</th>\n",
       "      <td>2019-08-01</td>\n",
       "      <td>A</td>\n",
       "      <td>719</td>\n",
       "    </tr>\n",
       "    <tr>\n",
       "      <th>1</th>\n",
       "      <td>2019-08-02</td>\n",
       "      <td>A</td>\n",
       "      <td>619</td>\n",
       "    </tr>\n",
       "    <tr>\n",
       "      <th>2</th>\n",
       "      <td>2019-08-03</td>\n",
       "      <td>A</td>\n",
       "      <td>507</td>\n",
       "    </tr>\n",
       "    <tr>\n",
       "      <th>3</th>\n",
       "      <td>2019-08-04</td>\n",
       "      <td>A</td>\n",
       "      <td>717</td>\n",
       "    </tr>\n",
       "    <tr>\n",
       "      <th>4</th>\n",
       "      <td>2019-08-05</td>\n",
       "      <td>A</td>\n",
       "      <td>756</td>\n",
       "    </tr>\n",
       "  </tbody>\n",
       "</table>\n",
       "</div>"
      ],
      "text/plain": [
       "         date group  visitors\n",
       "0  2019-08-01     A       719\n",
       "1  2019-08-02     A       619\n",
       "2  2019-08-03     A       507\n",
       "3  2019-08-04     A       717\n",
       "4  2019-08-05     A       756"
      ]
     },
     "metadata": {},
     "output_type": "display_data"
    }
   ],
   "source": [
    "# сразу уберем предел отображения строк, чтобы видеть полное описание гипотез\n",
    "\n",
    "pd.set_option('display.max_colwidth', None)\n",
    "\n",
    "#посмотрим на содержание файлов\n",
    "\n",
    "display(hypothesis.head(10),orders.head(5),visitors.head(5))"
   ]
  },
  {
   "cell_type": "markdown",
   "metadata": {},
   "source": [
    "### Предобработка данных"
   ]
  },
  {
   "cell_type": "markdown",
   "metadata": {},
   "source": [
    "Приведем столбцы к нижнему регистру, переименуем там, где это небходимо, поменяем тип данных."
   ]
  },
  {
   "cell_type": "code",
   "execution_count": 4,
   "metadata": {},
   "outputs": [],
   "source": [
    "hypothesis.columns = hypothesis.columns.str.lower()\n",
    "\n",
    "orders = orders.rename(\n",
    "    columns={\n",
    "        'transactionId' : 'transaction_id',\n",
    "        'visitorId' : 'visitor_id',              \n",
    "    }\n",
    ")\n",
    "\n",
    "orders['date'] = orders['date'].map(\n",
    "    lambda x: dt.datetime.strptime(x, '%Y-%m-%d')\n",
    ")\n",
    "\n",
    "visitors['date'] = visitors['date'].map(\n",
    "    lambda x: dt.datetime.strptime(x, '%Y-%m-%d')\n",
    ")"
   ]
  },
  {
   "cell_type": "markdown",
   "metadata": {},
   "source": [
    "Проверим результат, а заодно проведем обзор данных медотом `info()`"
   ]
  },
  {
   "cell_type": "code",
   "execution_count": 5,
   "metadata": {},
   "outputs": [
    {
     "name": "stdout",
     "output_type": "stream",
     "text": [
      "<class 'pandas.core.frame.DataFrame'>\n",
      "RangeIndex: 9 entries, 0 to 8\n",
      "Data columns (total 5 columns):\n",
      " #   Column      Non-Null Count  Dtype \n",
      "---  ------      --------------  ----- \n",
      " 0   hypothesis  9 non-null      object\n",
      " 1   reach       9 non-null      int64 \n",
      " 2   impact      9 non-null      int64 \n",
      " 3   confidence  9 non-null      int64 \n",
      " 4   efforts     9 non-null      int64 \n",
      "dtypes: int64(4), object(1)\n",
      "memory usage: 492.0+ bytes\n"
     ]
    }
   ],
   "source": [
    "hypothesis.info()"
   ]
  },
  {
   "cell_type": "code",
   "execution_count": 6,
   "metadata": {},
   "outputs": [
    {
     "name": "stdout",
     "output_type": "stream",
     "text": [
      "<class 'pandas.core.frame.DataFrame'>\n",
      "RangeIndex: 1197 entries, 0 to 1196\n",
      "Data columns (total 5 columns):\n",
      " #   Column          Non-Null Count  Dtype         \n",
      "---  ------          --------------  -----         \n",
      " 0   transaction_id  1197 non-null   int64         \n",
      " 1   visitor_id      1197 non-null   int64         \n",
      " 2   date            1197 non-null   datetime64[ns]\n",
      " 3   revenue         1197 non-null   int64         \n",
      " 4   group           1197 non-null   object        \n",
      "dtypes: datetime64[ns](1), int64(3), object(1)\n",
      "memory usage: 46.9+ KB\n"
     ]
    }
   ],
   "source": [
    "orders.info()"
   ]
  },
  {
   "cell_type": "code",
   "execution_count": 7,
   "metadata": {
    "scrolled": true
   },
   "outputs": [
    {
     "name": "stdout",
     "output_type": "stream",
     "text": [
      "<class 'pandas.core.frame.DataFrame'>\n",
      "RangeIndex: 62 entries, 0 to 61\n",
      "Data columns (total 3 columns):\n",
      " #   Column    Non-Null Count  Dtype         \n",
      "---  ------    --------------  -----         \n",
      " 0   date      62 non-null     datetime64[ns]\n",
      " 1   group     62 non-null     object        \n",
      " 2   visitors  62 non-null     int64         \n",
      "dtypes: datetime64[ns](1), int64(1), object(1)\n",
      "memory usage: 1.6+ KB\n"
     ]
    }
   ],
   "source": [
    "visitors.info()"
   ]
  },
  {
   "cell_type": "markdown",
   "metadata": {},
   "source": [
    "Хотя после просмотра файлов методом `info()` мы видим, что количество строк во всех столбцах датафреймов одинаково, все равно пройдемся методом `isna()`"
   ]
  },
  {
   "cell_type": "code",
   "execution_count": 8,
   "metadata": {
    "scrolled": false
   },
   "outputs": [
    {
     "data": {
      "text/plain": [
       "hypothesis    0\n",
       "reach         0\n",
       "impact        0\n",
       "confidence    0\n",
       "efforts       0\n",
       "dtype: int64"
      ]
     },
     "metadata": {},
     "output_type": "display_data"
    },
    {
     "data": {
      "text/plain": [
       "transaction_id    0\n",
       "visitor_id        0\n",
       "date              0\n",
       "revenue           0\n",
       "group             0\n",
       "dtype: int64"
      ]
     },
     "metadata": {},
     "output_type": "display_data"
    },
    {
     "data": {
      "text/plain": [
       "date        0\n",
       "group       0\n",
       "visitors    0\n",
       "dtype: int64"
      ]
     },
     "metadata": {},
     "output_type": "display_data"
    }
   ],
   "source": [
    "display(hypothesis.isna().sum(), orders.isna().sum(), visitors.isna().sum())"
   ]
  },
  {
   "cell_type": "markdown",
   "metadata": {},
   "source": [
    "Проверим наличие явных дубликатов"
   ]
  },
  {
   "cell_type": "code",
   "execution_count": 46,
   "metadata": {
    "scrolled": true
   },
   "outputs": [
    {
     "name": "stdout",
     "output_type": "stream",
     "text": [
      "Количество дубликатов в hypothesis: 0\n",
      "Количество дубликатов в orders: 0\n",
      "Количество дубликатов в visitors: 0\n"
     ]
    }
   ],
   "source": [
    "print('Количество дубликатов в hypothesis:', hypothesis.duplicated().sum())\n",
    "print('Количество дубликатов в orders:', orders.duplicated().sum())\n",
    "print('Количество дубликатов в visitors:', visitors.duplicated().sum())"
   ]
  },
  {
   "cell_type": "markdown",
   "metadata": {},
   "source": [
    "Теперь с данными все впорядке. Перейдем ко второй части исследования."
   ]
  },
  {
   "cell_type": "markdown",
   "metadata": {},
   "source": [
    "## Приоритизация гипотез."
   ]
  },
  {
   "cell_type": "markdown",
   "metadata": {},
   "source": [
    "Проанализируем список гипотез для увеличения выручки, подготовленный совместно с отделом маркетинга.\n"
   ]
  },
  {
   "cell_type": "markdown",
   "metadata": {},
   "source": [
    "### Применим фреймвор *ICE* для приоритизации гипотез."
   ]
  },
  {
   "cell_type": "code",
   "execution_count": 10,
   "metadata": {
    "scrolled": true
   },
   "outputs": [
    {
     "data": {
      "text/html": [
       "<style type=\"text/css\">\n",
       "#T_c13ff_row0_col1 {\n",
       "  background-color: #ff0000;\n",
       "  color: #f1f1f1;\n",
       "}\n",
       "#T_c13ff_row1_col1 {\n",
       "  background-color: #fd2d2d;\n",
       "  color: #f1f1f1;\n",
       "}\n",
       "#T_c13ff_row2_col1 {\n",
       "  background-color: #fb4f4f;\n",
       "  color: #f1f1f1;\n",
       "}\n",
       "#T_c13ff_row3_col1 {\n",
       "  background-color: #f88282;\n",
       "  color: #f1f1f1;\n",
       "}\n",
       "#T_c13ff_row4_col1 {\n",
       "  background-color: #f89191;\n",
       "  color: #000000;\n",
       "}\n",
       "#T_c13ff_row5_col1 {\n",
       "  background-color: #f4e1e1;\n",
       "  color: #000000;\n",
       "}\n",
       "#T_c13ff_row6_col1 {\n",
       "  background-color: #f3ebeb;\n",
       "  color: #000000;\n",
       "}\n",
       "#T_c13ff_row7_col1 {\n",
       "  background-color: #f3eeee;\n",
       "  color: #000000;\n",
       "}\n",
       "#T_c13ff_row8_col1 {\n",
       "  background-color: #f3f0f0;\n",
       "  color: #000000;\n",
       "}\n",
       "</style>\n",
       "<table id=\"T_c13ff\">\n",
       "  <thead>\n",
       "    <tr>\n",
       "      <th class=\"blank level0\" >&nbsp;</th>\n",
       "      <th id=\"T_c13ff_level0_col0\" class=\"col_heading level0 col0\" >hypothesis</th>\n",
       "      <th id=\"T_c13ff_level0_col1\" class=\"col_heading level0 col1\" >ice</th>\n",
       "    </tr>\n",
       "  </thead>\n",
       "  <tbody>\n",
       "    <tr>\n",
       "      <th id=\"T_c13ff_level0_row0\" class=\"row_heading level0 row0\" >8</th>\n",
       "      <td id=\"T_c13ff_row0_col0\" class=\"data row0 col0\" >Запустить акцию, дающую скидку на товар в день рождения</td>\n",
       "      <td id=\"T_c13ff_row0_col1\" class=\"data row0 col1\" >16.20</td>\n",
       "    </tr>\n",
       "    <tr>\n",
       "      <th id=\"T_c13ff_level0_row1\" class=\"row_heading level0 row1\" >0</th>\n",
       "      <td id=\"T_c13ff_row1_col0\" class=\"data row1 col0\" >Добавить два новых канала привлечения трафика, что позволит привлекать на 30% больше пользователей</td>\n",
       "      <td id=\"T_c13ff_row1_col1\" class=\"data row1 col1\" >13.33</td>\n",
       "    </tr>\n",
       "    <tr>\n",
       "      <th id=\"T_c13ff_level0_row2\" class=\"row_heading level0 row2\" >7</th>\n",
       "      <td id=\"T_c13ff_row2_col0\" class=\"data row2 col0\" >Добавить форму подписки на все основные страницы, чтобы собрать базу клиентов для email-рассылок</td>\n",
       "      <td id=\"T_c13ff_row2_col1\" class=\"data row2 col1\" >11.20</td>\n",
       "    </tr>\n",
       "    <tr>\n",
       "      <th id=\"T_c13ff_level0_row3\" class=\"row_heading level0 row3\" >6</th>\n",
       "      <td id=\"T_c13ff_row3_col0\" class=\"data row3 col0\" >Показать на главной странице баннеры с актуальными акциями и распродажами, чтобы увеличить конверсию</td>\n",
       "      <td id=\"T_c13ff_row3_col1\" class=\"data row3 col1\" >8.00</td>\n",
       "    </tr>\n",
       "    <tr>\n",
       "      <th id=\"T_c13ff_level0_row4\" class=\"row_heading level0 row4\" >2</th>\n",
       "      <td id=\"T_c13ff_row4_col0\" class=\"data row4 col0\" >Добавить блоки рекомендаций товаров на сайт интернет магазина, чтобы повысить конверсию и средний чек заказа</td>\n",
       "      <td id=\"T_c13ff_row4_col1\" class=\"data row4 col1\" >7.00</td>\n",
       "    </tr>\n",
       "    <tr>\n",
       "      <th id=\"T_c13ff_level0_row5\" class=\"row_heading level0 row5\" >1</th>\n",
       "      <td id=\"T_c13ff_row5_col0\" class=\"data row5 col0\" >Запустить собственную службу доставки, что сократит срок доставки заказов</td>\n",
       "      <td id=\"T_c13ff_row5_col1\" class=\"data row5 col1\" >2.00</td>\n",
       "    </tr>\n",
       "    <tr>\n",
       "      <th id=\"T_c13ff_level0_row6\" class=\"row_heading level0 row6\" >5</th>\n",
       "      <td id=\"T_c13ff_row6_col0\" class=\"data row6 col0\" >Добавить страницу отзывов клиентов о магазине, что позволит увеличить количество заказов</td>\n",
       "      <td id=\"T_c13ff_row6_col1\" class=\"data row6 col1\" >1.33</td>\n",
       "    </tr>\n",
       "    <tr>\n",
       "      <th id=\"T_c13ff_level0_row7\" class=\"row_heading level0 row7\" >3</th>\n",
       "      <td id=\"T_c13ff_row7_col0\" class=\"data row7 col0\" >Изменить структура категорий, что увеличит конверсию, т.к. пользователи быстрее найдут нужный товар</td>\n",
       "      <td id=\"T_c13ff_row7_col1\" class=\"data row7 col1\" >1.12</td>\n",
       "    </tr>\n",
       "    <tr>\n",
       "      <th id=\"T_c13ff_level0_row8\" class=\"row_heading level0 row8\" >4</th>\n",
       "      <td id=\"T_c13ff_row8_col0\" class=\"data row8 col0\" >Изменить цвет фона главной страницы, чтобы увеличить вовлеченность пользователей</td>\n",
       "      <td id=\"T_c13ff_row8_col1\" class=\"data row8 col1\" >1.00</td>\n",
       "    </tr>\n",
       "  </tbody>\n",
       "</table>\n"
      ],
      "text/plain": [
       "<pandas.io.formats.style.Styler at 0x147e228d790>"
      ]
     },
     "execution_count": 10,
     "metadata": {},
     "output_type": "execute_result"
    }
   ],
   "source": [
    "hypothesis['ice'] = (hypothesis['impact'] * hypothesis['confidence']) / hypothesis['efforts']\n",
    "ice_score = hypothesis[['hypothesis','ice']].sort_values(by='ice', ascending=False).style.background_gradient(\n",
    "    cmap=sns.light_palette('red', as_cmap=True)).format({'ice': lambda x: f'{x:.2f}'}) \n",
    "ice_score"
   ]
  },
  {
   "cell_type": "markdown",
   "metadata": {},
   "source": [
    "Примем во внимание первые 5 гипотез. Далее слишком большой разрыв. Посмотрим на результаты метода RICE."
   ]
  },
  {
   "cell_type": "markdown",
   "metadata": {},
   "source": [
    "### Применим фреймвор *RICE* для приоритизации гипотез."
   ]
  },
  {
   "cell_type": "code",
   "execution_count": 11,
   "metadata": {},
   "outputs": [
    {
     "data": {
      "text/html": [
       "<style type=\"text/css\">\n",
       "#T_61574_row0_col1 {\n",
       "  background-color: #ff0000;\n",
       "  color: #f1f1f1;\n",
       "}\n",
       "#T_61574_row1_col1 {\n",
       "  background-color: #f97b7b;\n",
       "  color: #f1f1f1;\n",
       "}\n",
       "#T_61574_row2_col1, #T_61574_row3_col1 {\n",
       "  background-color: #f79f9f;\n",
       "  color: #000000;\n",
       "}\n",
       "#T_61574_row4_col1 {\n",
       "  background-color: #f4d3d3;\n",
       "  color: #000000;\n",
       "}\n",
       "#T_61574_row5_col1 {\n",
       "  background-color: #f3e3e3;\n",
       "  color: #000000;\n",
       "}\n",
       "#T_61574_row6_col1, #T_61574_row7_col1 {\n",
       "  background-color: #f3eeee;\n",
       "  color: #000000;\n",
       "}\n",
       "#T_61574_row8_col1 {\n",
       "  background-color: #f3f0f0;\n",
       "  color: #000000;\n",
       "}\n",
       "</style>\n",
       "<table id=\"T_61574\">\n",
       "  <thead>\n",
       "    <tr>\n",
       "      <th class=\"blank level0\" >&nbsp;</th>\n",
       "      <th id=\"T_61574_level0_col0\" class=\"col_heading level0 col0\" >hypothesis</th>\n",
       "      <th id=\"T_61574_level0_col1\" class=\"col_heading level0 col1\" >rice</th>\n",
       "    </tr>\n",
       "  </thead>\n",
       "  <tbody>\n",
       "    <tr>\n",
       "      <th id=\"T_61574_level0_row0\" class=\"row_heading level0 row0\" >7</th>\n",
       "      <td id=\"T_61574_row0_col0\" class=\"data row0 col0\" >Добавить форму подписки на все основные страницы, чтобы собрать базу клиентов для email-рассылок</td>\n",
       "      <td id=\"T_61574_row0_col1\" class=\"data row0 col1\" >112.00</td>\n",
       "    </tr>\n",
       "    <tr>\n",
       "      <th id=\"T_61574_level0_row1\" class=\"row_heading level0 row1\" >2</th>\n",
       "      <td id=\"T_61574_row1_col0\" class=\"data row1 col0\" >Добавить блоки рекомендаций товаров на сайт интернет магазина, чтобы повысить конверсию и средний чек заказа</td>\n",
       "      <td id=\"T_61574_row1_col1\" class=\"data row1 col1\" >56.00</td>\n",
       "    </tr>\n",
       "    <tr>\n",
       "      <th id=\"T_61574_level0_row2\" class=\"row_heading level0 row2\" >0</th>\n",
       "      <td id=\"T_61574_row2_col0\" class=\"data row2 col0\" >Добавить два новых канала привлечения трафика, что позволит привлекать на 30% больше пользователей</td>\n",
       "      <td id=\"T_61574_row2_col1\" class=\"data row2 col1\" >40.00</td>\n",
       "    </tr>\n",
       "    <tr>\n",
       "      <th id=\"T_61574_level0_row3\" class=\"row_heading level0 row3\" >6</th>\n",
       "      <td id=\"T_61574_row3_col0\" class=\"data row3 col0\" >Показать на главной странице баннеры с актуальными акциями и распродажами, чтобы увеличить конверсию</td>\n",
       "      <td id=\"T_61574_row3_col1\" class=\"data row3 col1\" >40.00</td>\n",
       "    </tr>\n",
       "    <tr>\n",
       "      <th id=\"T_61574_level0_row4\" class=\"row_heading level0 row4\" >8</th>\n",
       "      <td id=\"T_61574_row4_col0\" class=\"data row4 col0\" >Запустить акцию, дающую скидку на товар в день рождения</td>\n",
       "      <td id=\"T_61574_row4_col1\" class=\"data row4 col1\" >16.20</td>\n",
       "    </tr>\n",
       "    <tr>\n",
       "      <th id=\"T_61574_level0_row5\" class=\"row_heading level0 row5\" >3</th>\n",
       "      <td id=\"T_61574_row5_col0\" class=\"data row5 col0\" >Изменить структура категорий, что увеличит конверсию, т.к. пользователи быстрее найдут нужный товар</td>\n",
       "      <td id=\"T_61574_row5_col1\" class=\"data row5 col1\" >9.00</td>\n",
       "    </tr>\n",
       "    <tr>\n",
       "      <th id=\"T_61574_level0_row6\" class=\"row_heading level0 row6\" >1</th>\n",
       "      <td id=\"T_61574_row6_col0\" class=\"data row6 col0\" >Запустить собственную службу доставки, что сократит срок доставки заказов</td>\n",
       "      <td id=\"T_61574_row6_col1\" class=\"data row6 col1\" >4.00</td>\n",
       "    </tr>\n",
       "    <tr>\n",
       "      <th id=\"T_61574_level0_row7\" class=\"row_heading level0 row7\" >5</th>\n",
       "      <td id=\"T_61574_row7_col0\" class=\"data row7 col0\" >Добавить страницу отзывов клиентов о магазине, что позволит увеличить количество заказов</td>\n",
       "      <td id=\"T_61574_row7_col1\" class=\"data row7 col1\" >4.00</td>\n",
       "    </tr>\n",
       "    <tr>\n",
       "      <th id=\"T_61574_level0_row8\" class=\"row_heading level0 row8\" >4</th>\n",
       "      <td id=\"T_61574_row8_col0\" class=\"data row8 col0\" >Изменить цвет фона главной страницы, чтобы увеличить вовлеченность пользователей</td>\n",
       "      <td id=\"T_61574_row8_col1\" class=\"data row8 col1\" >3.00</td>\n",
       "    </tr>\n",
       "  </tbody>\n",
       "</table>\n"
      ],
      "text/plain": [
       "<pandas.io.formats.style.Styler at 0x147e1ee6e90>"
      ]
     },
     "execution_count": 11,
     "metadata": {},
     "output_type": "execute_result"
    }
   ],
   "source": [
    "hypothesis['rice'] = (hypothesis['reach'] * hypothesis['impact'] * hypothesis['confidence']) / hypothesis['efforts']\n",
    "rice_score = hypothesis[['hypothesis','rice']].sort_values(by='rice', ascending=False).style.background_gradient(\n",
    "    cmap=sns.light_palette('red', as_cmap=True)).format({'rice': lambda x: f'{x:.2f}'}) \n",
    "rice_score"
   ]
  },
  {
   "cell_type": "markdown",
   "metadata": {},
   "source": [
    "**Вывод:**\n",
    "\n",
    "\n",
    "Если взять также топ-5 гипотез, то мы увидим те же гипотезы, которые выделил метод ICE (0, 2, 6, 7, 8).\n",
    "Звучат они следующим образом:\n",
    "- Добавить два новых канала привлечения трафика, что позволит привлекать на 30% больше пользователей;\n",
    "- Добавить блоки рекомендаций товаров на сайт интернет магазина, чтобы повысить конверсию и средний чек заказа;\n",
    "- Показать на главной странице баннеры с актуальными акциями и распродажами, чтобы увеличить конверсию;\n",
    "- Добавить форму подписки на все основные страницы, чтобы собрать базу клиентов для email-рассылок;\n",
    "- Запустить акцию, дающую скидку на товар в день рождения\n",
    "\n",
    "Эти гипотезы имеют средние или небольшие затраты для проверки, хорошее влияние на пользователей, их опыт и удовлетворение от продукта. Либо мы имеем высокую уверенность, что эти изменения повлияют на пользователей именно так, как мы предполагаем.\n",
    "\n",
    "\n",
    "На количественную оценку метода RICE значительно повлиял параметр `reach`, т.е. пользовательский охват. А потому смотрим на место гипотезы среди остальных, а не на абсолютную оценку. Не столь важно, какой метод применять - главное оценивать его параметры.\n",
    "\n",
    "Отталкиваясь от результатов второй части, думаю, первой для проверки можем выбрать гипотезу 0: \"добавить два новых канала привлечения трафика, что позволит привлекать на 30% больше пользователей\".\n",
    "\n"
   ]
  },
  {
   "cell_type": "markdown",
   "metadata": {},
   "source": [
    "## Анализ А/В-теста."
   ]
  },
  {
   "cell_type": "markdown",
   "metadata": {},
   "source": [
    "### Общий обзор на данные."
   ]
  },
  {
   "cell_type": "markdown",
   "metadata": {},
   "source": [
    "Посмотрим, как долго длился сам тест."
   ]
  },
  {
   "cell_type": "code",
   "execution_count": 12,
   "metadata": {},
   "outputs": [
    {
     "data": {
      "text/plain": [
       "Timedelta('30 days 00:00:00')"
      ]
     },
     "execution_count": 12,
     "metadata": {},
     "output_type": "execute_result"
    }
   ],
   "source": [
    "max_date = visitors['date'].max()\n",
    "min_date = visitors['date'].min()\n",
    "\n",
    "diff = max_date - min_date\n",
    "diff"
   ]
  },
  {
   "cell_type": "markdown",
   "metadata": {},
   "source": [
    "Тест длился 30 дней. Посмотрим на количество пользователей в каждой группе."
   ]
  },
  {
   "cell_type": "code",
   "execution_count": 97,
   "metadata": {
    "scrolled": true
   },
   "outputs": [
    {
     "name": "stdout",
     "output_type": "stream",
     "text": [
      "Количество пользователей: 37652\n"
     ]
    },
    {
     "data": {
      "text/html": [
       "<div>\n",
       "<style scoped>\n",
       "    .dataframe tbody tr th:only-of-type {\n",
       "        vertical-align: middle;\n",
       "    }\n",
       "\n",
       "    .dataframe tbody tr th {\n",
       "        vertical-align: top;\n",
       "    }\n",
       "\n",
       "    .dataframe thead th {\n",
       "        text-align: right;\n",
       "    }\n",
       "</style>\n",
       "<table border=\"1\" class=\"dataframe\">\n",
       "  <thead>\n",
       "    <tr style=\"text-align: right;\">\n",
       "      <th></th>\n",
       "      <th>visitors</th>\n",
       "      <th>0</th>\n",
       "    </tr>\n",
       "  </thead>\n",
       "  <tbody>\n",
       "    <tr>\n",
       "      <th>0</th>\n",
       "      <td>18736</td>\n",
       "      <td>0.5</td>\n",
       "    </tr>\n",
       "    <tr>\n",
       "      <th>1</th>\n",
       "      <td>18916</td>\n",
       "      <td>0.5</td>\n",
       "    </tr>\n",
       "  </tbody>\n",
       "</table>\n",
       "</div>"
      ],
      "text/plain": [
       "   visitors    0\n",
       "0     18736  0.5\n",
       "1     18916  0.5"
      ]
     },
     "execution_count": 97,
     "metadata": {},
     "output_type": "execute_result"
    }
   ],
   "source": [
    "print('Количество пользователей:', visitors['visitors'].sum())\n",
    "\n",
    "visitors.groupby('group').agg({'visitors': 'sum'}).value_counts(normalize=True).reset_index()"
   ]
  },
  {
   "cell_type": "markdown",
   "metadata": {},
   "source": [
    "Выборка не маленькая - 37,6 тысяч пользователей. Соотношение по группам практически 50 на 50. \n",
    "\n",
    "Посмотрим на данные о покупателях."
   ]
  },
  {
   "cell_type": "code",
   "execution_count": 49,
   "metadata": {
    "scrolled": true
   },
   "outputs": [
    {
     "data": {
      "text/html": [
       "<div>\n",
       "<style scoped>\n",
       "    .dataframe tbody tr th:only-of-type {\n",
       "        vertical-align: middle;\n",
       "    }\n",
       "\n",
       "    .dataframe tbody tr th {\n",
       "        vertical-align: top;\n",
       "    }\n",
       "\n",
       "    .dataframe thead th {\n",
       "        text-align: right;\n",
       "    }\n",
       "</style>\n",
       "<table border=\"1\" class=\"dataframe\">\n",
       "  <thead>\n",
       "    <tr style=\"text-align: right;\">\n",
       "      <th></th>\n",
       "      <th>group</th>\n",
       "      <th>visitor_id</th>\n",
       "      <th>revenue</th>\n",
       "      <th>revenue_to_visitors_ratio</th>\n",
       "    </tr>\n",
       "  </thead>\n",
       "  <tbody>\n",
       "    <tr>\n",
       "      <th>0</th>\n",
       "      <td>A</td>\n",
       "      <td>557</td>\n",
       "      <td>4084803</td>\n",
       "      <td>7333.58</td>\n",
       "    </tr>\n",
       "    <tr>\n",
       "      <th>1</th>\n",
       "      <td>B</td>\n",
       "      <td>640</td>\n",
       "      <td>5907760</td>\n",
       "      <td>9230.88</td>\n",
       "    </tr>\n",
       "  </tbody>\n",
       "</table>\n",
       "</div>"
      ],
      "text/plain": [
       "  group  visitor_id  revenue revenue_to_visitors_ratio\n",
       "0     A         557  4084803                   7333.58\n",
       "1     B         640  5907760                   9230.88"
      ]
     },
     "execution_count": 49,
     "metadata": {},
     "output_type": "execute_result"
    }
   ],
   "source": [
    "orders_inf = (\n",
    "    orders.groupby('group', as_index=False)\n",
    "    .agg({'visitor_id': 'count', 'revenue': 'sum'})\n",
    ")\n",
    "\n",
    "\n",
    "# средняя выручка на пользователя\n",
    "\n",
    "\n",
    "orders_inf['revenue_to_visitors_ratio'] = (\n",
    "    orders_inf['revenue'] / orders_inf['visitor_id']\n",
    ").map(lambda x: \"{0:.2f}\".format(x))\n",
    "\n",
    "orders_inf"
   ]
  },
  {
   "cell_type": "code",
   "execution_count": 116,
   "metadata": {
    "scrolled": true
   },
   "outputs": [
    {
     "name": "stdout",
     "output_type": "stream",
     "text": [
      "Пользователей, попавших в две группы: 58\n"
     ]
    }
   ],
   "source": [
    "# проверим, есть ли пользователи, которые попали в обе группы.\n",
    "\n",
    "tgroups = orders.groupby('visitor_id').agg({'group': 'nunique'})\n",
    "tgroups = tgroups.query(\"group > 1\").count()\n",
    "\n",
    "print('Пользователей, попавших в две группы:', tgroups[0])"
   ]
  },
  {
   "cell_type": "code",
   "execution_count": 134,
   "metadata": {
    "scrolled": true
   },
   "outputs": [
    {
     "name": "stdout",
     "output_type": "stream",
     "text": [
      "Доля заказов группы А: 46.53 %\n",
      "Доля заказов группы B: 53.47 %\n",
      "Относительное различие количества заказов: 12.98 %\n"
     ]
    }
   ],
   "source": [
    "a = round((orders_inf['visitor_id'][0] / orders_inf['visitor_id'].sum() * 100),2)\n",
    "b = round((orders_inf['visitor_id'][1] / orders_inf['visitor_id'].sum() * 100),2)\n",
    "\n",
    "print('Доля заказов группы А:', a ,'%')\n",
    "print('Доля заказов группы B:', b, '%')\n",
    "print('Относительное различие количества заказов:', round((1-a/b)*100,2),'%')"
   ]
  },
  {
   "cell_type": "markdown",
   "metadata": {},
   "source": [
    "При этом относительное различие количества заказов - почти 13% (без поправки на уникальность пользователей). По выручке у группы В показатели также лучше. \n",
    "\n",
    "\n",
    "Так ли все хорошо на самом деле у группы В, выясним в дальнейшем исследовании."
   ]
  },
  {
   "cell_type": "markdown",
   "metadata": {},
   "source": [
    "### Кумулятивные методы"
   ]
  },
  {
   "cell_type": "markdown",
   "metadata": {},
   "source": [
    "Чтобы построить графики, нужно собрать кумулятивные данные. Объявим датафрейм `cumulative_data` со столбцами: \n",
    "- `date` — дата;\n",
    "- `group` — группа A/B-теста (A или B);\n",
    "- `orders` — кумулятивное количество заказов на указанную дату в указанной группе;\n",
    "- `buyers` — кумулятивное количество пользователей, совершивших хотя бы один заказ, на указанную дату в указанной группе;\n",
    "- `revenue` — кумулятивная выручка на указанную дату в указанной группе (средний чек);\n",
    "- `visitors` — кумулятивное количество посетителей интернет-магазина на указанную дату в определённой группе."
   ]
  },
  {
   "cell_type": "code",
   "execution_count": 18,
   "metadata": {},
   "outputs": [
    {
     "data": {
      "text/html": [
       "<div>\n",
       "<style scoped>\n",
       "    .dataframe tbody tr th:only-of-type {\n",
       "        vertical-align: middle;\n",
       "    }\n",
       "\n",
       "    .dataframe tbody tr th {\n",
       "        vertical-align: top;\n",
       "    }\n",
       "\n",
       "    .dataframe thead th {\n",
       "        text-align: right;\n",
       "    }\n",
       "</style>\n",
       "<table border=\"1\" class=\"dataframe\">\n",
       "  <thead>\n",
       "    <tr style=\"text-align: right;\">\n",
       "      <th></th>\n",
       "      <th>date</th>\n",
       "      <th>group</th>\n",
       "    </tr>\n",
       "  </thead>\n",
       "  <tbody>\n",
       "    <tr>\n",
       "      <th>0</th>\n",
       "      <td>2019-08-15</td>\n",
       "      <td>B</td>\n",
       "    </tr>\n",
       "    <tr>\n",
       "      <th>2</th>\n",
       "      <td>2019-08-15</td>\n",
       "      <td>A</td>\n",
       "    </tr>\n",
       "    <tr>\n",
       "      <th>45</th>\n",
       "      <td>2019-08-16</td>\n",
       "      <td>A</td>\n",
       "    </tr>\n",
       "    <tr>\n",
       "      <th>47</th>\n",
       "      <td>2019-08-16</td>\n",
       "      <td>B</td>\n",
       "    </tr>\n",
       "    <tr>\n",
       "      <th>55</th>\n",
       "      <td>2019-08-01</td>\n",
       "      <td>A</td>\n",
       "    </tr>\n",
       "  </tbody>\n",
       "</table>\n",
       "</div>"
      ],
      "text/plain": [
       "         date group\n",
       "0  2019-08-15     B\n",
       "2  2019-08-15     A\n",
       "45 2019-08-16     A\n",
       "47 2019-08-16     B\n",
       "55 2019-08-01     A"
      ]
     },
     "execution_count": 18,
     "metadata": {},
     "output_type": "execute_result"
    }
   ],
   "source": [
    "# создаем массив уникальных пар значений дат и групп теста\n",
    "\n",
    "dates_groups = orders[['date','group']].drop_duplicates()\n",
    "dates_groups.head(5)"
   ]
  },
  {
   "cell_type": "code",
   "execution_count": 135,
   "metadata": {},
   "outputs": [
    {
     "data": {
      "text/html": [
       "<div>\n",
       "<style scoped>\n",
       "    .dataframe tbody tr th:only-of-type {\n",
       "        vertical-align: middle;\n",
       "    }\n",
       "\n",
       "    .dataframe tbody tr th {\n",
       "        vertical-align: top;\n",
       "    }\n",
       "\n",
       "    .dataframe thead th {\n",
       "        text-align: right;\n",
       "    }\n",
       "</style>\n",
       "<table border=\"1\" class=\"dataframe\">\n",
       "  <thead>\n",
       "    <tr style=\"text-align: right;\">\n",
       "      <th></th>\n",
       "      <th>date</th>\n",
       "      <th>group</th>\n",
       "      <th>transaction_id</th>\n",
       "      <th>visitor_id</th>\n",
       "      <th>revenue</th>\n",
       "    </tr>\n",
       "  </thead>\n",
       "  <tbody>\n",
       "    <tr>\n",
       "      <th>55</th>\n",
       "      <td>2019-08-01</td>\n",
       "      <td>A</td>\n",
       "      <td>24</td>\n",
       "      <td>20</td>\n",
       "      <td>148579</td>\n",
       "    </tr>\n",
       "    <tr>\n",
       "      <th>66</th>\n",
       "      <td>2019-08-01</td>\n",
       "      <td>B</td>\n",
       "      <td>21</td>\n",
       "      <td>20</td>\n",
       "      <td>101217</td>\n",
       "    </tr>\n",
       "    <tr>\n",
       "      <th>175</th>\n",
       "      <td>2019-08-02</td>\n",
       "      <td>A</td>\n",
       "      <td>44</td>\n",
       "      <td>38</td>\n",
       "      <td>242401</td>\n",
       "    </tr>\n",
       "    <tr>\n",
       "      <th>173</th>\n",
       "      <td>2019-08-02</td>\n",
       "      <td>B</td>\n",
       "      <td>45</td>\n",
       "      <td>43</td>\n",
       "      <td>266748</td>\n",
       "    </tr>\n",
       "    <tr>\n",
       "      <th>291</th>\n",
       "      <td>2019-08-03</td>\n",
       "      <td>A</td>\n",
       "      <td>68</td>\n",
       "      <td>62</td>\n",
       "      <td>354874</td>\n",
       "    </tr>\n",
       "  </tbody>\n",
       "</table>\n",
       "</div>"
      ],
      "text/plain": [
       "          date group  transaction_id  visitor_id  revenue\n",
       "55  2019-08-01     A              24          20   148579\n",
       "66  2019-08-01     B              21          20   101217\n",
       "175 2019-08-02     A              44          38   242401\n",
       "173 2019-08-02     B              45          43   266748\n",
       "291 2019-08-03     A              68          62   354874"
      ]
     },
     "execution_count": 135,
     "metadata": {},
     "output_type": "execute_result"
    }
   ],
   "source": [
    "# получаем агрегированные кумулятивные по дням данные о заказах \n",
    "\n",
    "orders_aggregated = dates_groups.apply(\n",
    "    lambda x: orders[\n",
    "        np.logical_and(\n",
    "            orders['date'] <= x['date'], orders['group'] == x['group']\n",
    "        )\n",
    "    ].agg(\n",
    "        {\n",
    "            'date': 'max',\n",
    "            'group': 'max',\n",
    "            'transaction_id': 'nunique',\n",
    "            'visitor_id': 'nunique',\n",
    "            'revenue': 'sum',\n",
    "        }\n",
    "    ),\n",
    "    axis=1,\n",
    ").sort_values(by=['date', 'group'])\n",
    "\n",
    "orders_aggregated.head(5)\n"
   ]
  },
  {
   "cell_type": "code",
   "execution_count": 20,
   "metadata": {},
   "outputs": [
    {
     "data": {
      "text/html": [
       "<div>\n",
       "<style scoped>\n",
       "    .dataframe tbody tr th:only-of-type {\n",
       "        vertical-align: middle;\n",
       "    }\n",
       "\n",
       "    .dataframe tbody tr th {\n",
       "        vertical-align: top;\n",
       "    }\n",
       "\n",
       "    .dataframe thead th {\n",
       "        text-align: right;\n",
       "    }\n",
       "</style>\n",
       "<table border=\"1\" class=\"dataframe\">\n",
       "  <thead>\n",
       "    <tr style=\"text-align: right;\">\n",
       "      <th></th>\n",
       "      <th>date</th>\n",
       "      <th>group</th>\n",
       "      <th>visitors</th>\n",
       "    </tr>\n",
       "  </thead>\n",
       "  <tbody>\n",
       "    <tr>\n",
       "      <th>55</th>\n",
       "      <td>2019-08-01</td>\n",
       "      <td>A</td>\n",
       "      <td>719</td>\n",
       "    </tr>\n",
       "    <tr>\n",
       "      <th>66</th>\n",
       "      <td>2019-08-01</td>\n",
       "      <td>B</td>\n",
       "      <td>713</td>\n",
       "    </tr>\n",
       "    <tr>\n",
       "      <th>175</th>\n",
       "      <td>2019-08-02</td>\n",
       "      <td>A</td>\n",
       "      <td>1338</td>\n",
       "    </tr>\n",
       "    <tr>\n",
       "      <th>173</th>\n",
       "      <td>2019-08-02</td>\n",
       "      <td>B</td>\n",
       "      <td>1294</td>\n",
       "    </tr>\n",
       "    <tr>\n",
       "      <th>291</th>\n",
       "      <td>2019-08-03</td>\n",
       "      <td>A</td>\n",
       "      <td>1845</td>\n",
       "    </tr>\n",
       "  </tbody>\n",
       "</table>\n",
       "</div>"
      ],
      "text/plain": [
       "          date group  visitors\n",
       "55  2019-08-01     A       719\n",
       "66  2019-08-01     B       713\n",
       "175 2019-08-02     A      1338\n",
       "173 2019-08-02     B      1294\n",
       "291 2019-08-03     A      1845"
      ]
     },
     "execution_count": 20,
     "metadata": {},
     "output_type": "execute_result"
    }
   ],
   "source": [
    "# получаем агрегированные кумулятивные по дням данные о посетителях интернет-магазина \n",
    "\n",
    "visitors_aggregated = dates_groups.apply(  \n",
    "    lambda x: visitors[\n",
    "        np.logical_and(\n",
    "            visitors['date'] <= x['date'], visitors['group'] == x['group']\n",
    "        )\n",
    "    ].agg({'date': 'max', 'group': 'max', 'visitors': 'sum'}),\n",
    "    axis=1,\n",
    ").sort_values(by=['date', 'group'])\n",
    "\n",
    "visitors_aggregated.head(5)"
   ]
  },
  {
   "cell_type": "code",
   "execution_count": 136,
   "metadata": {
    "scrolled": true
   },
   "outputs": [
    {
     "data": {
      "text/html": [
       "<div>\n",
       "<style scoped>\n",
       "    .dataframe tbody tr th:only-of-type {\n",
       "        vertical-align: middle;\n",
       "    }\n",
       "\n",
       "    .dataframe tbody tr th {\n",
       "        vertical-align: top;\n",
       "    }\n",
       "\n",
       "    .dataframe thead th {\n",
       "        text-align: right;\n",
       "    }\n",
       "</style>\n",
       "<table border=\"1\" class=\"dataframe\">\n",
       "  <thead>\n",
       "    <tr style=\"text-align: right;\">\n",
       "      <th></th>\n",
       "      <th>date</th>\n",
       "      <th>group</th>\n",
       "      <th>orders</th>\n",
       "      <th>buyers</th>\n",
       "      <th>revenue</th>\n",
       "      <th>visitors</th>\n",
       "    </tr>\n",
       "  </thead>\n",
       "  <tbody>\n",
       "    <tr>\n",
       "      <th>0</th>\n",
       "      <td>2019-08-01</td>\n",
       "      <td>A</td>\n",
       "      <td>24</td>\n",
       "      <td>20</td>\n",
       "      <td>148579</td>\n",
       "      <td>719</td>\n",
       "    </tr>\n",
       "    <tr>\n",
       "      <th>1</th>\n",
       "      <td>2019-08-01</td>\n",
       "      <td>B</td>\n",
       "      <td>21</td>\n",
       "      <td>20</td>\n",
       "      <td>101217</td>\n",
       "      <td>713</td>\n",
       "    </tr>\n",
       "    <tr>\n",
       "      <th>2</th>\n",
       "      <td>2019-08-02</td>\n",
       "      <td>A</td>\n",
       "      <td>44</td>\n",
       "      <td>38</td>\n",
       "      <td>242401</td>\n",
       "      <td>1338</td>\n",
       "    </tr>\n",
       "    <tr>\n",
       "      <th>3</th>\n",
       "      <td>2019-08-02</td>\n",
       "      <td>B</td>\n",
       "      <td>45</td>\n",
       "      <td>43</td>\n",
       "      <td>266748</td>\n",
       "      <td>1294</td>\n",
       "    </tr>\n",
       "    <tr>\n",
       "      <th>4</th>\n",
       "      <td>2019-08-03</td>\n",
       "      <td>A</td>\n",
       "      <td>68</td>\n",
       "      <td>62</td>\n",
       "      <td>354874</td>\n",
       "      <td>1845</td>\n",
       "    </tr>\n",
       "  </tbody>\n",
       "</table>\n",
       "</div>"
      ],
      "text/plain": [
       "        date group  orders  buyers  revenue  visitors\n",
       "0 2019-08-01     A      24      20   148579       719\n",
       "1 2019-08-01     B      21      20   101217       713\n",
       "2 2019-08-02     A      44      38   242401      1338\n",
       "3 2019-08-02     B      45      43   266748      1294\n",
       "4 2019-08-03     A      68      62   354874      1845"
      ]
     },
     "execution_count": 136,
     "metadata": {},
     "output_type": "execute_result"
    }
   ],
   "source": [
    "# объединяем кумулятивные данные в одной таблице и присваиваем ее столбцам понятные названия\n",
    "\n",
    "cumulative_data = orders_aggregated.merge(visitors_aggregated, left_on=['date', 'group'], right_on=['date', 'group'])\n",
    "cumulative_data.columns = ['date', 'group', 'orders', 'buyers', 'revenue', 'visitors']\n",
    "cumulative_data.head(5)"
   ]
  },
  {
   "cell_type": "code",
   "execution_count": 144,
   "metadata": {},
   "outputs": [
    {
     "name": "stdout",
     "output_type": "stream",
     "text": [
      "Минимальная дата в visitors: 2019-08-01 00:00:00\n",
      "Минимальная дата в cumulative_data: 2019-08-01 00:00:00\n",
      "\n",
      "Максимальная дата в visitors: 2019-08-31 00:00:00\n",
      "Максимальная дата в cumulative_data: 2019-08-31 00:00:00\n"
     ]
    }
   ],
   "source": [
    "#проверим, корректно ли был создан датафрейм. \n",
    "#выведем информацию о датах, которую мы проверяли ранее и из датафрейма cumulative_data\n",
    "\n",
    "print('Минимальная дата в visitors:', min_date)\n",
    "print('Минимальная дата в cumulative_data:', cumulative_data['date'].min())\n",
    "print()\n",
    "print('Максимальная дата в visitors:', max_date)\n",
    "print('Максимальная дата в cumulative_data:', cumulative_data['date'].max())"
   ]
  },
  {
   "cell_type": "markdown",
   "metadata": {},
   "source": [
    "Мы собрали все нужные кумулятивные данные, можем перейти к построению графиков."
   ]
  },
  {
   "cell_type": "markdown",
   "metadata": {},
   "source": [
    "#### Кумулятивная выручка по группам. "
   ]
  },
  {
   "cell_type": "code",
   "execution_count": 23,
   "metadata": {},
   "outputs": [
    {
     "data": {
      "image/png": "[encoded data removed]",
      "text/plain": [
       "<Figure size 1500x480 with 1 Axes>"
      ]
     },
     "metadata": {},
     "output_type": "display_data"
    }
   ],
   "source": [
    "# датафрейм с кумулятивным количеством заказов и кумулятивной выручкой по дням в группе А\n",
    "\n",
    "cumulative_revenue_A = cumulative_data[cumulative_data['group']=='A'][['date','revenue', 'orders']]\n",
    "\n",
    "# датафрейм с кумулятивным количеством заказов и кумулятивной выручкой по дням в группе B\n",
    "\n",
    "cumulative_revenue_B = cumulative_data[cumulative_data['group']=='B'][['date','revenue', 'orders']]\n",
    "\n",
    "# Строим график выручки группы А\n",
    "\n",
    "plt.figure().set_figwidth(15)\n",
    "plt.plot(cumulative_revenue_A['date'], cumulative_revenue_A['revenue'], label='A')\n",
    "\n",
    "# Строим график выручки группы B\n",
    "\n",
    "plt.plot(cumulative_revenue_B['date'], cumulative_revenue_B['revenue'], label='B')\n",
    "\n",
    "plt.legend() \n",
    "plt.grid()\n",
    "plt.title('Кумулятивная выручка по группам')\n",
    "plt.xlabel('даты')\n",
    "plt.ylabel('выручка в млн.')\n",
    "plt.show()"
   ]
  },
  {
   "cell_type": "markdown",
   "metadata": {},
   "source": [
    "**Вывод:** выручка почти равонмерно увеличивается в течение всего теста - это хороший знак.\n",
    "Обе группы шли практически одинаково, однако график выручки группы В в районе 18-го августа делает резкий скачок роста и продолжает лидировать остаток теста. Это может сигнализировать о всплесках числа заказов, либо о появлении очень дорогих заказов."
   ]
  },
  {
   "cell_type": "markdown",
   "metadata": {},
   "source": [
    "#### Кумулятивное среднее чека по группам."
   ]
  },
  {
   "cell_type": "code",
   "execution_count": 24,
   "metadata": {},
   "outputs": [
    {
     "data": {
      "image/png": "[encoded data removed]",
      "text/plain": [
       "<Figure size 1500x480 with 1 Axes>"
      ]
     },
     "metadata": {},
     "output_type": "display_data"
    }
   ],
   "source": [
    "plt.figure().set_figwidth(15)\n",
    "plt.plot(cumulative_revenue_A['date'], cumulative_revenue_A['revenue']/cumulative_revenue_A['orders'], label='A')\n",
    "plt.plot(cumulative_revenue_B['date'], cumulative_revenue_B['revenue']/cumulative_revenue_B['orders'], label='B')\n",
    "plt.legend() \n",
    "plt.grid()\n",
    "plt.title('Кумулятивное среднее чека по группам')\n",
    "plt.xlabel('даты')\n",
    "plt.ylabel('сумма среднего чека')\n",
    "plt.show()"
   ]
  },
  {
   "cell_type": "markdown",
   "metadata": {},
   "source": [
    "**Вывод:** похоже кумулятивное значение среднего чека группы А с середины теста зафиксировалось. В группе В видим резкий скачок роста также в районе 18-го августа, это может говорить о том, что в группу В 18-го августа попали крупные заказы. В таком случае, группе В нужно больше данных чтобы прийти к реальному среднему чеку и зафиксироваться на его уровне.\n"
   ]
  },
  {
   "cell_type": "markdown",
   "metadata": {},
   "source": [
    "#### Относительное изменение кумулятивного среднего чека группы B к группе A."
   ]
  },
  {
   "cell_type": "code",
   "execution_count": 25,
   "metadata": {},
   "outputs": [
    {
     "data": {
      "image/png": "[encoded data removed]",
      "text/plain": [
       "<Figure size 1500x480 with 1 Axes>"
      ]
     },
     "metadata": {},
     "output_type": "display_data"
    }
   ],
   "source": [
    "# собираем данные в одном датафрейме\n",
    "\n",
    "merged_cumulative_revenue = cumulative_revenue_A.merge(cumulative_revenue_B, left_on='date', right_on='date', how='left', suffixes=['_A', '_B'])\n",
    "\n",
    "# cтроим отношение средних чеков\n",
    "\n",
    "plt.figure().set_figwidth(15)\n",
    "plt.plot(merged_cumulative_revenue['date'], (merged_cumulative_revenue['revenue_B']/merged_cumulative_revenue['orders_B'])/(merged_cumulative_revenue['revenue_A']/merged_cumulative_revenue['orders_A'])-1, label=\"Относительное изменение кумулятивного среднего чека группы B к группе A.\")\n",
    "plt.legend()\n",
    "\n",
    "# добавляем ось X\n",
    "\n",
    "plt.axhline(y=0, color='black', linestyle='--')\n",
    "plt.grid()\n",
    "plt.title('Относительное изменение кумулятивного среднего чека группы B к группе A.')\n",
    "plt.ylabel('различие между группами')\n",
    "plt.xlabel('даты')\n",
    "plt.show()"
   ]
  },
  {
   "cell_type": "markdown",
   "metadata": {},
   "source": [
    "**Вывод:** в нескольких точках график различия между сегментами резко скачет, график не стабилизирован. Где-то уж точно спрятались крупные заказы и выбросы."
   ]
  },
  {
   "cell_type": "markdown",
   "metadata": {},
   "source": [
    "#### Кумулятивное среднее количества заказов на посетителя по группам"
   ]
  },
  {
   "cell_type": "code",
   "execution_count": 26,
   "metadata": {},
   "outputs": [
    {
     "data": {
      "image/png": "[encoded data removed]",
      "text/plain": [
       "<Figure size 1500x480 with 1 Axes>"
      ]
     },
     "metadata": {},
     "output_type": "display_data"
    }
   ],
   "source": [
    "# считаем кумулятивное среднее количества заказов\n",
    "\n",
    "cumulative_data['mean_orders'] = cumulative_data['orders']/cumulative_data['visitors']\n",
    "\n",
    "# отделяем данные по группе A\n",
    "\n",
    "cumulative_data_A = cumulative_data[cumulative_data['group']=='A']\n",
    "\n",
    "# отделяем данные по группе B\n",
    "\n",
    "cumulative_data_B = cumulative_data[cumulative_data['group']=='B']\n",
    "\n",
    "# строим графики\n",
    "\n",
    "plt.figure().set_figwidth(15)\n",
    "plt.plot(cumulative_data_A['date'], cumulative_data_A['mean_orders'], label='A')\n",
    "plt.plot(cumulative_data_B['date'], cumulative_data_B['mean_orders'], label='B')\n",
    "plt.legend()\n",
    "plt.grid()\n",
    "plt.title('Кумулятивное среднее количества заказов на посетителя по группам')\n",
    "plt.xlabel('даты')\n",
    "plt.ylabel('среднее количество заказов на посетителя')\n",
    "\n",
    "# задаем масштаб осей\n",
    "\n",
    "\n",
    "plt.ylim(0.02,0.04)\n",
    "plt.show()\n"
   ]
  },
  {
   "cell_type": "markdown",
   "metadata": {},
   "source": [
    "**Вывод:** в начале теста наблюдались небольшие колебания, но график довольно быстро выровнялся. Пользователи группы В лидируют по данному показателю."
   ]
  },
  {
   "cell_type": "markdown",
   "metadata": {},
   "source": [
    "#### Относительное изменение кумулятивного среднего количества заказов на посетителя группы B к группе A."
   ]
  },
  {
   "cell_type": "code",
   "execution_count": 146,
   "metadata": {},
   "outputs": [
    {
     "data": {
      "image/png": "[encoded data removed]",
      "text/plain": [
       "<Figure size 1500x480 with 1 Axes>"
      ]
     },
     "metadata": {},
     "output_type": "display_data"
    }
   ],
   "source": [
    "merged_cumulative_mean_orders = (\n",
    "    cumulative_data_A[['date','mean_orders']]\n",
    "    .merge(cumulative_data_B[['date','mean_orders']], left_on='date', right_on='date', how='left', suffixes=['_A', '_B'])\n",
    ")\n",
    "\n",
    "plt.figure().set_figwidth(15)\n",
    "plt.plot(merged_cumulative_mean_orders['date'], \n",
    "         merged_cumulative_mean_orders['mean_orders_B']/merged_cumulative_mean_orders['mean_orders_A']-1, \n",
    "         label=\"Относительный прирост среднего количества заказов на посетителя группы B относительно группы A\")\n",
    "plt.legend()\n",
    "plt.grid()\n",
    "plt.title('Относительное изменение кумулятивного среднего количества заказов на посетителя группы B к группе A.')\n",
    "plt.xlabel('даты')\n",
    "plt.ylabel('различие между группами')\n",
    "\n",
    "plt.axhline(y=0, color='black', linestyle='--')\n",
    "plt.axhline(y=0.10, color='grey', linestyle='--')\n",
    "\n",
    "plt.ylim(-0.15,0.25)\n",
    "plt.show()"
   ]
  },
  {
   "cell_type": "markdown",
   "metadata": {},
   "source": [
    "**Вывод:** почти с начала исследования группа В лидирует по кумулятивному среднему количеству заказов на посетителя. Становится лучше и лучше, после чего, вероятно зафиксировалась около прироста в 10% относительно группы А. Впрочем, сперва стоит поискать аномалии, возможно, они изменят картину."
   ]
  },
  {
   "cell_type": "markdown",
   "metadata": {},
   "source": [
    "### Количество заказов по пользователям."
   ]
  },
  {
   "cell_type": "code",
   "execution_count": 28,
   "metadata": {},
   "outputs": [
    {
     "data": {
      "text/html": [
       "<div>\n",
       "<style scoped>\n",
       "    .dataframe tbody tr th:only-of-type {\n",
       "        vertical-align: middle;\n",
       "    }\n",
       "\n",
       "    .dataframe tbody tr th {\n",
       "        vertical-align: top;\n",
       "    }\n",
       "\n",
       "    .dataframe thead th {\n",
       "        text-align: right;\n",
       "    }\n",
       "</style>\n",
       "<table border=\"1\" class=\"dataframe\">\n",
       "  <thead>\n",
       "    <tr style=\"text-align: right;\">\n",
       "      <th></th>\n",
       "      <th>user_id</th>\n",
       "      <th>orders</th>\n",
       "    </tr>\n",
       "  </thead>\n",
       "  <tbody>\n",
       "    <tr>\n",
       "      <th>1023</th>\n",
       "      <td>4256040402</td>\n",
       "      <td>11</td>\n",
       "    </tr>\n",
       "    <tr>\n",
       "      <th>591</th>\n",
       "      <td>2458001652</td>\n",
       "      <td>11</td>\n",
       "    </tr>\n",
       "    <tr>\n",
       "      <th>569</th>\n",
       "      <td>2378935119</td>\n",
       "      <td>9</td>\n",
       "    </tr>\n",
       "    <tr>\n",
       "      <th>487</th>\n",
       "      <td>2038680547</td>\n",
       "      <td>8</td>\n",
       "    </tr>\n",
       "    <tr>\n",
       "      <th>44</th>\n",
       "      <td>199603092</td>\n",
       "      <td>5</td>\n",
       "    </tr>\n",
       "  </tbody>\n",
       "</table>\n",
       "</div>"
      ],
      "text/plain": [
       "         user_id  orders\n",
       "1023  4256040402      11\n",
       "591   2458001652      11\n",
       "569   2378935119       9\n",
       "487   2038680547       8\n",
       "44     199603092       5"
      ]
     },
     "execution_count": 28,
     "metadata": {},
     "output_type": "execute_result"
    }
   ],
   "source": [
    "orders_by_users = (\n",
    "    orders.groupby('visitor_id', as_index=False)\n",
    "    .agg({'transaction_id': 'nunique'})\n",
    ")\n",
    "\n",
    "orders_by_users.columns = ['user_id', 'orders']\n",
    "orders_by_users.sort_values(by='orders', ascending=False).head(5)"
   ]
  },
  {
   "cell_type": "markdown",
   "metadata": {},
   "source": [
    "Перейдем к визуализации"
   ]
  },
  {
   "cell_type": "markdown",
   "metadata": {},
   "source": [
    "#### Гистограмма."
   ]
  },
  {
   "cell_type": "code",
   "execution_count": 29,
   "metadata": {
    "scrolled": true
   },
   "outputs": [
    {
     "data": {
      "image/png": "[encoded data removed]",
      "text/plain": [
       "<Figure size 2000x500 with 1 Axes>"
      ]
     },
     "metadata": {},
     "output_type": "display_data"
    }
   ],
   "source": [
    "orders_by_users.hist(column='orders', bins=15,figsize=(20,5), color='green')\n",
    "\n",
    "plt.title('Гистограмма распределения количества заказов на пользователя')\n",
    "plt.xlabel('количество заказов')\n",
    "plt.ylabel('количество пользователей')\n",
    "plt.show()"
   ]
  },
  {
   "cell_type": "markdown",
   "metadata": {},
   "source": [
    "#### Точечная диаграмма"
   ]
  },
  {
   "cell_type": "code",
   "execution_count": 30,
   "metadata": {
    "scrolled": false
   },
   "outputs": [
    {
     "data": {
      "image/png": "[encoded data removed]",
      "text/plain": [
       "<Figure size 1500x480 with 1 Axes>"
      ]
     },
     "metadata": {},
     "output_type": "display_data"
    }
   ],
   "source": [
    "x_values = pd.Series(range(0,len(orders_by_users)))\n",
    "\n",
    "plt.figure().set_figwidth(15)\n",
    "plt.scatter(x_values, orders_by_users['orders'], alpha=0.5,color='green') \n",
    "\n",
    "plt.title('Точечная диаграмма распределения количества заказов на пользователя')\n",
    "plt.xlabel('количество пользователей')\n",
    "plt.ylabel('количество заказов')\n",
    "plt.show()\n"
   ]
  },
  {
   "cell_type": "markdown",
   "metadata": {},
   "source": [
    "**Вывод:** огромное количество пользователей совершали заказ всего один раз. Есть и определенная прослойка, совершавшая 2-3 заказа, их точная доля не ясна. Непонятно, считать их аномалиями или нет. Максимальное количество заказов на пользователя - 11. Это точно аномалия, однако проверим с помощью перцентилей."
   ]
  },
  {
   "cell_type": "markdown",
   "metadata": {},
   "source": [
    "#### 95-й и 99-й перцентили количества заказов на пользователя."
   ]
  },
  {
   "cell_type": "code",
   "execution_count": 31,
   "metadata": {},
   "outputs": [
    {
     "data": {
      "text/plain": [
       "array([2., 4.])"
      ]
     },
     "execution_count": 31,
     "metadata": {},
     "output_type": "execute_result"
    }
   ],
   "source": [
    "np.percentile(orders_by_users['orders'], [95, 99])"
   ]
  },
  {
   "cell_type": "markdown",
   "metadata": {},
   "source": [
    "**Вывод:** 95-й и 99-й перцентили количества заказов на одного пользователя равны 2 и 4 заказа на пользователя, т.е, не более 5% пользователей совершали более 2-х заказов и не более 1% совершали более 4-х заказов.\n",
    "Примем за аномальных пользователей тех, кто совершил от 5 заказов.\n"
   ]
  },
  {
   "cell_type": "markdown",
   "metadata": {},
   "source": [
    "### Сумма чека по пользователям."
   ]
  },
  {
   "cell_type": "markdown",
   "metadata": {},
   "source": [
    "#### Гистограмма."
   ]
  },
  {
   "cell_type": "code",
   "execution_count": 32,
   "metadata": {
    "scrolled": true
   },
   "outputs": [
    {
     "data": {
      "image/png": "[encoded data removed]",
      "text/plain": [
       "<Figure size 2000x500 with 1 Axes>"
      ]
     },
     "metadata": {},
     "output_type": "display_data"
    }
   ],
   "source": [
    "#устанавливаем range, чтобы детальнее посмотреть на распределение сумм. Сумму в 1,3 млн. мы увидим на след графике\n",
    "\n",
    "orders.hist(column='revenue', bins=75, range=(0,100000) ,figsize=(20,5), color='red')\n",
    "\n",
    "\n",
    "plt.title('Гистограмма распределения суммы чека по пользователям')\n",
    "plt.xlabel('количество заказов')\n",
    "plt.ylabel('количество пользователей')\n",
    "plt.show()"
   ]
  },
  {
   "cell_type": "markdown",
   "metadata": {},
   "source": [
    "#### Точечная диаграмма"
   ]
  },
  {
   "cell_type": "code",
   "execution_count": 33,
   "metadata": {
    "scrolled": false
   },
   "outputs": [
    {
     "data": {
      "image/png": "[encoded data removed]",
      "text/plain": [
       "<Figure size 1500x480 with 1 Axes>"
      ]
     },
     "metadata": {},
     "output_type": "display_data"
    }
   ],
   "source": [
    "x_values = pd.Series(range(0,len(orders['revenue'])))\n",
    "plt.figure().set_figwidth(15)\n",
    "plt.scatter(x_values, orders['revenue'], alpha=0.5, color='red')\n",
    "\n",
    "plt.title('Точечная диаграмма распределения суммы чека по пользователям')\n",
    "plt.xlabel('количество пользователей')\n",
    "plt.ylabel('сумма заказа')\n",
    "plt.show()"
   ]
  },
  {
   "cell_type": "code",
   "execution_count": 34,
   "metadata": {},
   "outputs": [
    {
     "data": {
      "image/png": "[encoded data removed]",
      "text/plain": [
       "<Figure size 1500x480 with 1 Axes>"
      ]
     },
     "metadata": {},
     "output_type": "display_data"
    }
   ],
   "source": [
    "x_values = pd.Series(range(0,len(orders['revenue'])))\n",
    "plt.figure().set_figwidth(15)\n",
    "plt.scatter(x_values, orders['revenue'], alpha=0.5, color='red')\n",
    "\n",
    "plt.title('Точечная диаграмма распределения суммы чека по пользователям')\n",
    "plt.xlabel('количество пользователей')\n",
    "plt.ylabel('сумма заказа')\n",
    "plt.ylim(0,105000)\n",
    "plt.show()"
   ]
  },
  {
   "cell_type": "markdown",
   "metadata": {},
   "source": [
    "**Вывод:** вот мы и нашли возможную причину резких скачков на кумулятивных графиках. Заказ почти в 1,3 млн.! Однозначно аномалия. Есть также заказ в районе 200 тыс. и определенное количество заказов от 100 до 160 тыс."
   ]
  },
  {
   "cell_type": "markdown",
   "metadata": {},
   "source": [
    "#### 95-й и 99-й перцентили суммы чека на пользователя."
   ]
  },
  {
   "cell_type": "code",
   "execution_count": 35,
   "metadata": {},
   "outputs": [
    {
     "data": {
      "text/plain": [
       "array([28000. , 58233.2])"
      ]
     },
     "execution_count": 35,
     "metadata": {},
     "output_type": "execute_result"
    }
   ],
   "source": [
    "np.percentile(orders['revenue'], [95, 99])"
   ]
  },
  {
   "cell_type": "markdown",
   "metadata": {},
   "source": [
    "**Вывод:** 95-й и 99-й перцентили стоимости суммы чека на пользователя равны 28 000 и 58 223 рублям, т.е, не более 5% пользователей совершали заказ на сумму свыше 28 000 руб. и не более 1% совершали заказ на сумму свыше 58 223 руб. Примем за аномальных пользователей тех, кто совершл заказ свыше 58 223 руб."
   ]
  },
  {
   "cell_type": "markdown",
   "metadata": {},
   "source": [
    "### Cтатистическая значимость."
   ]
  },
  {
   "cell_type": "markdown",
   "metadata": {},
   "source": [
    "#### Cтатистическая значимость различий в среднем количестве заказов на посетителя между группами по «сырым» данным. "
   ]
  },
  {
   "cell_type": "markdown",
   "metadata": {},
   "source": [
    "Подготовим данные"
   ]
  },
  {
   "cell_type": "code",
   "execution_count": 36,
   "metadata": {
    "scrolled": false
   },
   "outputs": [
    {
     "data": {
      "text/html": [
       "<div>\n",
       "<style scoped>\n",
       "    .dataframe tbody tr th:only-of-type {\n",
       "        vertical-align: middle;\n",
       "    }\n",
       "\n",
       "    .dataframe tbody tr th {\n",
       "        vertical-align: top;\n",
       "    }\n",
       "\n",
       "    .dataframe thead th {\n",
       "        text-align: right;\n",
       "    }\n",
       "</style>\n",
       "<table border=\"1\" class=\"dataframe\">\n",
       "  <thead>\n",
       "    <tr style=\"text-align: right;\">\n",
       "      <th></th>\n",
       "      <th>date</th>\n",
       "      <th>orders_per_date_A</th>\n",
       "      <th>revenue_per_date_A</th>\n",
       "      <th>orders_per_date_B</th>\n",
       "      <th>revenue_per_date_B</th>\n",
       "      <th>orders_cummulative_A</th>\n",
       "      <th>revenue_cummulative_A</th>\n",
       "      <th>orders_cummulative_B</th>\n",
       "      <th>revenue_cummulative_B</th>\n",
       "      <th>visitors_per_date_A</th>\n",
       "      <th>visitors_per_date_B</th>\n",
       "      <th>visitors_cummulative_A</th>\n",
       "      <th>visitors_cummulative_B</th>\n",
       "    </tr>\n",
       "  </thead>\n",
       "  <tbody>\n",
       "    <tr>\n",
       "      <th>0</th>\n",
       "      <td>2019-08-01</td>\n",
       "      <td>24</td>\n",
       "      <td>148579</td>\n",
       "      <td>21</td>\n",
       "      <td>101217</td>\n",
       "      <td>24</td>\n",
       "      <td>148579</td>\n",
       "      <td>21</td>\n",
       "      <td>101217</td>\n",
       "      <td>719</td>\n",
       "      <td>713</td>\n",
       "      <td>719</td>\n",
       "      <td>713</td>\n",
       "    </tr>\n",
       "    <tr>\n",
       "      <th>1</th>\n",
       "      <td>2019-08-02</td>\n",
       "      <td>20</td>\n",
       "      <td>93822</td>\n",
       "      <td>24</td>\n",
       "      <td>165531</td>\n",
       "      <td>44</td>\n",
       "      <td>242401</td>\n",
       "      <td>45</td>\n",
       "      <td>266748</td>\n",
       "      <td>619</td>\n",
       "      <td>581</td>\n",
       "      <td>1338</td>\n",
       "      <td>1294</td>\n",
       "    </tr>\n",
       "    <tr>\n",
       "      <th>2</th>\n",
       "      <td>2019-08-03</td>\n",
       "      <td>24</td>\n",
       "      <td>112473</td>\n",
       "      <td>16</td>\n",
       "      <td>114248</td>\n",
       "      <td>68</td>\n",
       "      <td>354874</td>\n",
       "      <td>61</td>\n",
       "      <td>380996</td>\n",
       "      <td>507</td>\n",
       "      <td>509</td>\n",
       "      <td>1845</td>\n",
       "      <td>1803</td>\n",
       "    </tr>\n",
       "    <tr>\n",
       "      <th>3</th>\n",
       "      <td>2019-08-04</td>\n",
       "      <td>16</td>\n",
       "      <td>70825</td>\n",
       "      <td>17</td>\n",
       "      <td>108571</td>\n",
       "      <td>84</td>\n",
       "      <td>425699</td>\n",
       "      <td>78</td>\n",
       "      <td>489567</td>\n",
       "      <td>717</td>\n",
       "      <td>770</td>\n",
       "      <td>2562</td>\n",
       "      <td>2573</td>\n",
       "    </tr>\n",
       "    <tr>\n",
       "      <th>4</th>\n",
       "      <td>2019-08-05</td>\n",
       "      <td>25</td>\n",
       "      <td>124218</td>\n",
       "      <td>23</td>\n",
       "      <td>92428</td>\n",
       "      <td>109</td>\n",
       "      <td>549917</td>\n",
       "      <td>101</td>\n",
       "      <td>581995</td>\n",
       "      <td>756</td>\n",
       "      <td>707</td>\n",
       "      <td>3318</td>\n",
       "      <td>3280</td>\n",
       "    </tr>\n",
       "  </tbody>\n",
       "</table>\n",
       "</div>"
      ],
      "text/plain": [
       "        date  orders_per_date_A  revenue_per_date_A  orders_per_date_B  \\\n",
       "0 2019-08-01                 24              148579                 21   \n",
       "1 2019-08-02                 20               93822                 24   \n",
       "2 2019-08-03                 24              112473                 16   \n",
       "3 2019-08-04                 16               70825                 17   \n",
       "4 2019-08-05                 25              124218                 23   \n",
       "\n",
       "   revenue_per_date_B  orders_cummulative_A  revenue_cummulative_A  \\\n",
       "0              101217                    24                 148579   \n",
       "1              165531                    44                 242401   \n",
       "2              114248                    68                 354874   \n",
       "3              108571                    84                 425699   \n",
       "4               92428                   109                 549917   \n",
       "\n",
       "   orders_cummulative_B  revenue_cummulative_B  visitors_per_date_A  \\\n",
       "0                    21                 101217                  719   \n",
       "1                    45                 266748                  619   \n",
       "2                    61                 380996                  507   \n",
       "3                    78                 489567                  717   \n",
       "4                   101                 581995                  756   \n",
       "\n",
       "   visitors_per_date_B  visitors_cummulative_A  visitors_cummulative_B  \n",
       "0                  713                     719                     713  \n",
       "1                  581                    1338                    1294  \n",
       "2                  509                    1845                    1803  \n",
       "3                  770                    2562                    2573  \n",
       "4                  707                    3318                    3280  "
      ]
     },
     "execution_count": 36,
     "metadata": {},
     "output_type": "execute_result"
    }
   ],
   "source": [
    "visitors_A_daily = visitors[visitors['group'] == 'A'][['date', 'visitors']]\n",
    "visitors_A_daily.columns = ['date', 'visitors_per_date_A']\n",
    "\n",
    "visitors_A_cummulative = visitors_A_daily.apply(\n",
    "    lambda x: visitors_A_daily[visitors_A_daily['date'] <= x['date']].agg(\n",
    "        {'date': 'max', 'visitors_per_date_A': 'sum'}\n",
    "    ),\n",
    "    axis=1,\n",
    ")\n",
    "visitors_A_cummulative.columns = ['date', 'visitors_cummulative_A']\n",
    "\n",
    "visitors_B_daily = visitors[visitors['group'] == 'B'][['date', 'visitors']]\n",
    "visitors_B_daily.columns = ['date', 'visitors_per_date_B']\n",
    "\n",
    "visitors_B_cummulative = visitors_B_daily.apply(\n",
    "    lambda x: visitors_B_daily[visitors_B_daily['date'] <= x['date']].agg(\n",
    "        {'date': 'max', 'visitors_per_date_B': 'sum'}\n",
    "    ),\n",
    "    axis=1,\n",
    ")\n",
    "visitors_B_cummulative.columns = ['date', 'visitors_cummulative_B']\n",
    "\n",
    "orders_A_daily = (\n",
    "    orders[orders['group'] == 'A'][['date', 'transaction_id', 'visitor_id', 'revenue']]\n",
    "    .groupby('date', as_index=False)\n",
    "    .agg({'transaction_id': pd.Series.nunique, 'revenue': 'sum'})\n",
    ")\n",
    "orders_A_daily.columns = ['date', 'orders_per_date_A', 'revenue_per_date_A']\n",
    "\n",
    "orders_A_cummulative = orders_A_daily.apply(\n",
    "    lambda x: orders_A_daily[orders_A_daily['date'] <= x['date']].agg(\n",
    "        {'date': 'max', 'orders_per_date_A': 'sum', 'revenue_per_date_A': 'sum'}\n",
    "    ),\n",
    "    axis=1,\n",
    ").sort_values(by=['date'])\n",
    "orders_A_cummulative.columns = [\n",
    "    'date',\n",
    "    'orders_cummulative_A',\n",
    "    'revenue_cummulative_A',\n",
    "]\n",
    "\n",
    "orders_B_daily = (\n",
    "    orders[orders['group'] == 'B'][['date', 'transaction_id', 'visitor_id', 'revenue']]\n",
    "    .groupby('date', as_index=False)\n",
    "    .agg({'transaction_id': pd.Series.nunique, 'revenue': 'sum'})\n",
    ")\n",
    "orders_B_daily.columns = ['date', 'orders_per_date_B', 'revenue_per_date_B']\n",
    "\n",
    "orders_B_cummulative = orders_B_daily.apply(\n",
    "    lambda x: orders_B_daily[orders_B_daily['date'] <= x['date']].agg(\n",
    "        {'date': 'max', 'orders_per_date_B': 'sum', 'revenue_per_date_B': 'sum'}\n",
    "    ),\n",
    "    axis=1,\n",
    ").sort_values(by=['date'])\n",
    "orders_B_cummulative.columns = [\n",
    "    'date',\n",
    "    'orders_cummulative_B',\n",
    "    'revenue_cummulative_B',\n",
    "]\n",
    "\n",
    "data = (\n",
    "    orders_A_daily.merge(\n",
    "        orders_B_daily, left_on='date', right_on='date', how='left'\n",
    "    )\n",
    "    .merge(orders_A_cummulative, left_on='date', right_on='date', how='left')\n",
    "    .merge(orders_B_cummulative, left_on='date', right_on='date', how='left')\n",
    "    .merge(visitors_A_daily, left_on='date', right_on='date', how='left')\n",
    "    .merge(visitors_B_daily, left_on='date', right_on='date', how='left')\n",
    "    .merge(visitors_A_cummulative, left_on='date', right_on='date', how='left')\n",
    "    .merge(visitors_B_cummulative, left_on='date', right_on='date', how='left')\n",
    ")\n",
    "\n",
    "data.head(5)"
   ]
  },
  {
   "cell_type": "markdown",
   "metadata": {},
   "source": [
    "Структура датафрейма `data`:\n",
    "\n",
    "- `date` — дата;\n",
    "- `orders_per_date_A` — количество заказов в выбранную дату в группе A;\n",
    "- `revenue_per_date_A` — суммарная выручка в выбранную дату в группе A;\n",
    "- `orders_per_date_B` — количество заказов в выбранную дату в группе B;\n",
    "- `revenue_per_date_B` — суммарная выручка в выбранную дату в группе B;\n",
    "- `orders_cummulative_A` — суммарное число заказов до выбранной даты включительно в группе A;\n",
    "- `revenue_cummulative_A` — суммарная выручка до выбранной даты включительно в группе A;\n",
    "- `orders_cummulative_B` — суммарное количество заказов до выбранной даты включительно в группе B;\n",
    "- `revenue_cummulative_B` — суммарная выручка до выбранной даты включительно в группе B;\n",
    "- `visitors_per_date_A` — количество пользователей в выбранную дату в группе A;\n",
    "- `visitors_per_date_B` — количество пользователей в выбранную дату в группе B;\n",
    "- `visitors_cummulative_A` — количество пользователей до выбранной даты включительно в группе A;\n",
    "- `visitors_cummulative_B` — количество пользователей до выбранной даты включительно в группе B."
   ]
  },
  {
   "cell_type": "markdown",
   "metadata": {},
   "source": [
    "Сформулируем гипотезы:\n",
    "\n",
    "- **Нулевая**: Статистически значимых различий в среднем количестве заказов между группами по \"сырым\" данным нет. \n",
    "- **Альтернативная**: Статистически значимые различия в среднем между группами по \"сырым\" данным есть. \n",
    "\n",
    "Уровень статистической значимости примем равный alpha = 0.05\n",
    "\n",
    "\n",
    "Посчитаем статистическую значимость различия в среднем количестве заказов между группами.\n",
    "\n",
    "Создадим переменные `orders_by_users_A` и `orders_by_users_B` со столбцами `['user_id', 'orders']`. В них для пользователей, которые заказывали хотя бы 1 раз, укажем число совершённых заказов. \n",
    "\n",
    "Объявим переменные `sample_A` и `sample_B`, в которых пользователям из разных групп будет соответствовать количество заказов. Тем, кто ничего не заказал, будут соответствовать нули. Это нужно, чтобы подготовить выборки к проверке критерием Манна-Уитни."
   ]
  },
  {
   "cell_type": "code",
   "execution_count": 147,
   "metadata": {},
   "outputs": [],
   "source": [
    "orders_by_users_A = (\n",
    "    orders[orders['group'] == 'A']\n",
    "    .groupby('visitor_id', as_index=False)\n",
    "    .agg({'transaction_id': pd.Series.nunique})\n",
    ")\n",
    "orders_by_users_A.columns = ['user_id', 'orders']\n",
    "\n",
    "orders_by_users_B = (\n",
    "    orders[orders['group'] == 'B']\n",
    "    .groupby('visitor_id', as_index=False)\n",
    "    .agg({'transaction_id': pd.Series.nunique})\n",
    ")\n",
    "orders_by_users_B.columns = ['user_id', 'orders']\n",
    "\n",
    "sample_A = pd.concat(\n",
    "    [\n",
    "        orders_by_users_A['orders'],\n",
    "        pd.Series(\n",
    "            0,\n",
    "            index=np.arange(\n",
    "                data['visitors_per_date_A'].sum() - len(orders_by_users_A['orders'])\n",
    "            ),\n",
    "            name='orders',\n",
    "        ),\n",
    "    ],\n",
    "    axis=0,\n",
    ")\n",
    "\n",
    "sample_B = pd.concat(\n",
    "    [\n",
    "        orders_by_users_B['orders'],\n",
    "        pd.Series(\n",
    "            0,\n",
    "            index=np.arange(\n",
    "                data['visitors_per_date_B'].sum() - len(orders_by_users_B['orders'])\n",
    "            ),\n",
    "            name='orders',\n",
    "        ),\n",
    "    ],\n",
    "    axis=0,\n",
    ")"
   ]
  },
  {
   "cell_type": "code",
   "execution_count": 148,
   "metadata": {},
   "outputs": [],
   "source": [
    "#создадим функцию, потому что сравнения в дальнейшем придется делать несколько раз.\n",
    "\n",
    "def pvalue_stat (group_a, group_b):\n",
    "    \"\"\"\n",
    "    функция для сравнения статистических различий\n",
    "    \n",
    "    \"\"\"\n",
    "    alpha = .05\n",
    "    pvalue = stats.mannwhitneyu(group_a, group_b)[1]\n",
    "    print('pvalue: {0:.3f}'.format(pvalue))\n",
    "    if (pvalue < alpha):\n",
    "          print('Отвергаем нулевую гипотезу')\n",
    "    else:\n",
    "          print('Не получилось отвергнуть нулевую гипотезу')\n",
    "    print('Относительная разница:{0:.1%}'.format(group_b.mean() / group_a.mean() - 1))\n",
    "           "
   ]
  },
  {
   "cell_type": "code",
   "execution_count": 149,
   "metadata": {
    "scrolled": true
   },
   "outputs": [
    {
     "name": "stdout",
     "output_type": "stream",
     "text": [
      "pvalue: 0.017\n",
      "Отвергаем нулевую гипотезу\n",
      "Относительная разница:13.8%\n"
     ]
    }
   ],
   "source": [
    "pvalue_stat(sample_A, sample_B)"
   ]
  },
  {
   "cell_type": "markdown",
   "metadata": {},
   "source": [
    "**Вывод:** pvalue меньше 0.05, нулевую гипотезу отвергаем. Анализ \"сырых данных\" сообщает, что в среднем количестве заказов между группами есть статистически значимые различия. Относительный выигрыш группы B равен 13.8%"
   ]
  },
  {
   "cell_type": "markdown",
   "metadata": {},
   "source": [
    "#### Cтатистическая значимость различий в среднем чеке заказа между группами по «сырым» данным. "
   ]
  },
  {
   "cell_type": "markdown",
   "metadata": {},
   "source": [
    "Сформулируем гипотезы:\n",
    "\n",
    "- **Нулевая**: Статистически значимых различий в среднем чеке между группами по \"сырым\" данным нет. \n",
    "- **Альтернативная**: Статистически значимые различия в среднем чеке между группами по \"сырым\" данным есть. \n",
    "\n",
    "\n",
    "Уровень статистической значимости также примем равный alpha = 0.05\n",
    "\n",
    "\n",
    "Чтобы рассчитать статистическую значимость различий в среднем чеке, передадим критерию `mannwhitneyu()` данные о выручке с заказов. \n",
    "А ещё найдём относительные различия в среднем чеке между группами:\n"
   ]
  },
  {
   "cell_type": "code",
   "execution_count": 40,
   "metadata": {},
   "outputs": [
    {
     "name": "stdout",
     "output_type": "stream",
     "text": [
      "pvalue: 0.729\n",
      "Не получилось отвергнуть нулевую гипотезу\n",
      "Относительная разница:25.9%\n"
     ]
    }
   ],
   "source": [
    "pvalue_stat(orders[orders['group']=='A']['revenue'], orders[orders['group']=='B']['revenue'])"
   ]
  },
  {
   "cell_type": "markdown",
   "metadata": {},
   "source": [
    "**Вывод:** pvalue значительно больше 0.05. Значит, причин отвергать нулевую гипотезу и считать, что в среднем чеке есть различия, нет. И это несмотря на то, что средний чек группы B значительно выше среднего чека группы A на 26%. Все дело в том, что мы применяем непараметрический тест Уилкоксона-Манна-Уитни `mannwhitneyu()`, он работает с рангами — номерами значений в упорядоченном ряду — никак не учитывая сами значения. Данный метод менее подвержен к выбросам."
   ]
  },
  {
   "cell_type": "markdown",
   "metadata": {},
   "source": [
    "#### Cтатистическая значимость различий в среднем количестве заказов на посетителя между группами по «очищенным» данным. "
   ]
  },
  {
   "cell_type": "markdown",
   "metadata": {},
   "source": [
    "Напомним, что найденные ранее 95-й и 99-й перцентили средних чеков равны 28 000 и 58 223 рублям. А 95-й и 99-й перцентили количества заказов на одного пользователя равны 2 и 4 заказазам на пользователя.\n",
    "Примем за аномальных пользователей тех, кто совершил от 5 заказов или совершил заказ дороже 58 223 рублей. Так мы уберём 1% пользователей с наибольшим числом заказов и 1% пользователей с дорогими заказами. Сделаем срезы пользователей с числом заказов больше 4 — `users_with_many_orders` и пользователей, совершивших заказы дороже 58 223 — `users_with_expensive_orders`. Объединим их в таблице `abnormal_users`. \n",
    "\n",
    "Узнаем, сколько всего аномальных пользователей атрибутом `shape`."
   ]
  },
  {
   "cell_type": "code",
   "execution_count": 168,
   "metadata": {
    "scrolled": true
   },
   "outputs": [
    {
     "name": "stdout",
     "output_type": "stream",
     "text": [
      "Количество аномальных пользователей: 15\n"
     ]
    }
   ],
   "source": [
    "users_with_many_orders = pd.concat(\n",
    "    [\n",
    "        orders_by_users_A[orders_by_users_A['orders'] > np.percentile(orders_by_users['orders'], 99)]['user_id'],\n",
    "        orders_by_users_B[orders_by_users_B['orders'] > np.percentile(orders_by_users['orders'], 99)]['user_id'],\n",
    "    ],\n",
    "    axis=0,\n",
    ")\n",
    "users_with_expensive_orders = orders[orders['revenue'] > np.percentile(orders['revenue'], 99)]['visitor_id']\n",
    "abnormal_users = (\n",
    "    pd.concat([users_with_many_orders, users_with_expensive_orders], axis=0)\n",
    "    .drop_duplicates()\n",
    "    .sort_values()\n",
    "    .reset_index()\n",
    ")\n",
    "\n",
    "print('Количество аномальных пользователей:', abnormal_users.shape[0])"
   ]
  },
  {
   "cell_type": "markdown",
   "metadata": {},
   "source": [
    "15 аномальных пользователей. Узнаем, как их действия повлияли на результаты теста. Посчитаем статистическую значимость различий в среднем количестве заказов между группами теста по \"очищенным данным\". Подготовим данные для выборки количества заказов по пользователям по группам теста и посмотрим результаты:"
   ]
  },
  {
   "cell_type": "code",
   "execution_count": 42,
   "metadata": {},
   "outputs": [
    {
     "name": "stdout",
     "output_type": "stream",
     "text": [
      "pvalue: 0.014\n",
      "Отвергаем нулевую гипотезу\n",
      "Относительная разница:15.3%\n"
     ]
    }
   ],
   "source": [
    "sample_A_filtered = pd.concat(\n",
    "    [\n",
    "        orders_by_users_A[\n",
    "            np.logical_not(orders_by_users_A['user_id'].isin(abnormal_users))\n",
    "        ]['orders'],\n",
    "        pd.Series(\n",
    "            0,\n",
    "            index=np.arange(\n",
    "                data['visitors_per_date_A'].sum() - len(orders_by_users_A['orders'])\n",
    "            ),\n",
    "            name='orders',\n",
    "        ),\n",
    "    ],\n",
    "    axis=0,\n",
    ")\n",
    "\n",
    "sample_B_filtered = pd.concat(\n",
    "    [\n",
    "        orders_by_users_B[\n",
    "            np.logical_not(orders_by_users_B['user_id'].isin(abnormal_users))\n",
    "        ]['orders'],\n",
    "        pd.Series(\n",
    "            0,\n",
    "            index=np.arange(\n",
    "                data['visitors_per_date_B'].sum() - len(orders_by_users_B['orders'])\n",
    "            ),\n",
    "            name='orders',\n",
    "        ),\n",
    "    ],\n",
    "    axis=0,\n",
    ")\n",
    "\n",
    "pvalue_stat(sample_A_filtered, sample_B_filtered)"
   ]
  },
  {
   "cell_type": "markdown",
   "metadata": {},
   "source": [
    "Сформулируем гипотезы:\n",
    "\n",
    "- **Нулевая**: Статистически значимых различий в среднем количестве заказов между группами по \"очищенным\" данным нет. \n",
    "- **Альтернативная**: Статистически значимые различия в среднем между группами по \"очищенным\" данным есть. \n",
    "\n",
    "Уровень статистической значимости также примем равный alpha = 0.05\n",
    "\n",
    "\n",
    "**Вывод:** pvalue на \"очищенных данных\" по-прежнему меньше 0.05, нулевую гипотезу отвергаем. Анализ \"очищенных данных\" также сообщает, что в среднем количестве заказов между группами есть статистически значимые различия. Относительный выигрыш группы B увеличился с 13.8% до 15.3% Проверим, произошло ли что-нибудь с результатами по среднему чеку?"
   ]
  },
  {
   "cell_type": "markdown",
   "metadata": {},
   "source": [
    "#### Cтатистическая значимость различий в среднем чеке заказа между группами по «очищенным» данным."
   ]
  },
  {
   "cell_type": "markdown",
   "metadata": {},
   "source": [
    "Сформулируем гипотезы:\n",
    "\n",
    "- **Нулевая**: Статистически значимых различий в среднем чеке между группами по \"очищенным\" данным нет. \n",
    "- **Альтернативная**: Статистически значимые различия в среднем чеке между группами по \"очищенным\" данным есть. \n",
    "    \n",
    "    \n",
    "Уровень статистической значимости равный alpha = 0.05"
   ]
  },
  {
   "cell_type": "code",
   "execution_count": 43,
   "metadata": {},
   "outputs": [
    {
     "name": "stdout",
     "output_type": "stream",
     "text": [
      "pvalue: 0.851\n",
      "Не получилось отвергнуть нулевую гипотезу\n",
      "Относительная разница:-0.6%\n"
     ]
    }
   ],
   "source": [
    "pvalue_stat(\n",
    "    orders[(orders['group']=='A') & np.logical_not(orders['visitor_id'].isin(abnormal_users))]['revenue'], \n",
    "    orders[(orders['group']=='B') & np.logical_not(orders['visitor_id'].isin(abnormal_users))]['revenue']\n",
    "                  )"
   ]
  },
  {
   "cell_type": "markdown",
   "metadata": {},
   "source": [
    "Напомним, на \"сырых данных\" были следующие показатели:\n",
    "\n",
    "- pvalue: 0.729\n",
    "- Не получилось отвергнуть нулевую гипотезу\n",
    "- Относительная разница:25.9%\n",
    "\n",
    "**Вывод:** что мы видим на \"очищенных данных\" - pvalue увеличился, но разница между сегментами сократилась до такой степени, что образовался относительный не большой проигрыш группы В, равный 0.6%, т.е разницы по среднему чеку между группами практически нет. Хотя общие выводы по результатам теста не изменились. Такой пример хорошо показывает, как сильно аномалии могут влиять на результаты A/B-теста, заказ в 1.3 млн. не мог не сказаться.\n"
   ]
  },
  {
   "cell_type": "markdown",
   "metadata": {},
   "source": [
    "### Общий вывод."
   ]
  },
  {
   "cell_type": "markdown",
   "metadata": {},
   "source": [
    "В ходе нашего исследования мы проанализировали список гипотез для увеличения выручки, подготовленный совместно с отделом маркетинга.\n",
    "* Выделили топ-5 гипотез:\n",
    "    * Добавить два новых канала привлечения трафика, что позволит привлекать на 30% больше пользователей;\n",
    "    * Добавить блоки рекомендаций товаров на сайт интернет магазина, чтобы повысить конверсию и средний чек заказа;\n",
    "    * Показать на главной странице баннеры с актуальными акциями и распродажами, чтобы увеличить конверсию;\n",
    "    * Добавить форму подписки на все основные страницы, чтобы собрать базу клиентов для email-рассылок;\n",
    "    * Запустить акцию, дающую скидку на товар в день рождения\n",
    "\n",
    "Эти гипотезы имеют средние или не большие затраты для проверки, хорошее влияние на пользователей, их опыт и удовлетворение от продукта. Либо мы имеем высокую уверенность что эти изменения повлияют на пользователей именно так, как мы предполагаем."
   ]
  },
  {
   "cell_type": "markdown",
   "metadata": {},
   "source": [
    "В части анализа А/В-теста.\n",
    "\n",
    "* А/В-тест длился 30 дней;\n",
    "* всего поучаствовало в тесте за это время 37,6 тысяч пользователей;\n",
    "* осуществлено было 1197 заказов\n",
    "\n",
    "Среди покупателей имеются аномальные значения, в частности:\n",
    "* более 4 заказов одного пользователя за тестируемый период - не более 1%;\n",
    "* заказы свыше 58 223 руб. - не более 1%\n",
    " \n",
    " \n",
    "Статистическая значимость была определена следующим образом:\n",
    "* в среднем количестве заказов на посетителя между группами по «сырым» данным относительная разница в пользу группы В - 13,8%\n",
    "* в среднем количестве заказов на посетителя между группами между группами по «очищенным» данным в пользу группы В - 15,3%\n",
    "\n",
    "\n",
    "* в среднем чеке заказа между группами по «сырым» данным в пользу группы В - 25,9%\n",
    "* в среднем чеке заказа между группами по «очищенным» данным в пользу группы А - 0,6%\n",
    "\n",
    "Таким образом, мы можем сделать вывод, что несмотря на то, что сумма среднего чека заказа осталась практически неизменной, среднее количество заказов у группы В увеличилось по отношению к группе А на 13-15%. Исходя из итого, мы принимаем решение остановить тест и зафиксировать победу группы В."
   ]
  }
 ],
 "metadata": {
  "ExecuteTimeLog": [
   {
    "duration": 1317,
    "start_time": "2023-05-01T11:56:08.329Z"
   },
   {
    "duration": 196,
    "start_time": "2023-05-01T11:57:04.820Z"
   },
   {
    "duration": 20,
    "start_time": "2023-05-01T11:57:56.159Z"
   },
   {
    "duration": 26,
    "start_time": "2023-05-01T11:58:35.134Z"
   },
   {
    "duration": 22,
    "start_time": "2023-05-01T11:58:57.536Z"
   },
   {
    "duration": 24,
    "start_time": "2023-05-01T11:59:14.500Z"
   },
   {
    "duration": 36,
    "start_time": "2023-05-01T11:59:43.889Z"
   },
   {
    "duration": 16,
    "start_time": "2023-05-01T12:00:00.994Z"
   },
   {
    "duration": 17,
    "start_time": "2023-05-01T12:00:33.815Z"
   },
   {
    "duration": 26,
    "start_time": "2023-05-01T12:00:48.791Z"
   },
   {
    "duration": 14,
    "start_time": "2023-05-01T12:01:46.670Z"
   },
   {
    "duration": 4,
    "start_time": "2023-05-01T12:02:02.811Z"
   },
   {
    "duration": 9,
    "start_time": "2023-05-01T12:03:18.920Z"
   },
   {
    "duration": 11,
    "start_time": "2023-05-01T12:03:33.439Z"
   },
   {
    "duration": 109,
    "start_time": "2023-05-01T12:04:28.735Z"
   },
   {
    "duration": 11,
    "start_time": "2023-05-01T12:04:37.231Z"
   },
   {
    "duration": 13,
    "start_time": "2023-05-01T12:04:41.402Z"
   },
   {
    "duration": 36,
    "start_time": "2023-05-01T12:05:34.813Z"
   },
   {
    "duration": 13,
    "start_time": "2023-05-01T12:06:03.414Z"
   },
   {
    "duration": 2,
    "start_time": "2023-05-01T12:09:38.346Z"
   },
   {
    "duration": 4,
    "start_time": "2023-05-01T12:09:41.450Z"
   },
   {
    "duration": 4,
    "start_time": "2023-05-01T12:09:57.830Z"
   },
   {
    "duration": 5,
    "start_time": "2023-05-01T12:10:04.756Z"
   },
   {
    "duration": 4,
    "start_time": "2023-05-01T12:10:33.565Z"
   },
   {
    "duration": 9,
    "start_time": "2023-05-01T12:11:32.792Z"
   },
   {
    "duration": 18,
    "start_time": "2023-05-01T12:13:10.357Z"
   },
   {
    "duration": 77,
    "start_time": "2023-05-01T12:13:18.006Z"
   },
   {
    "duration": 90,
    "start_time": "2023-05-01T12:13:38.099Z"
   },
   {
    "duration": 8,
    "start_time": "2023-05-01T12:14:54.158Z"
   },
   {
    "duration": 9,
    "start_time": "2023-05-01T12:15:06.398Z"
   },
   {
    "duration": 9,
    "start_time": "2023-05-01T12:15:12.152Z"
   },
   {
    "duration": 8,
    "start_time": "2023-05-01T12:15:18.197Z"
   },
   {
    "duration": 10,
    "start_time": "2023-05-01T12:15:22.196Z"
   },
   {
    "duration": 13,
    "start_time": "2023-05-01T12:15:37.236Z"
   },
   {
    "duration": 3,
    "start_time": "2023-05-01T12:30:59.321Z"
   },
   {
    "duration": 6,
    "start_time": "2023-05-01T12:31:36.725Z"
   },
   {
    "duration": 5,
    "start_time": "2023-05-01T12:32:04.015Z"
   },
   {
    "duration": 1088,
    "start_time": "2023-05-01T12:33:12.588Z"
   },
   {
    "duration": 87,
    "start_time": "2023-05-01T12:33:13.677Z"
   },
   {
    "duration": 17,
    "start_time": "2023-05-01T12:33:13.766Z"
   },
   {
    "duration": 21,
    "start_time": "2023-05-01T12:33:13.784Z"
   },
   {
    "duration": 13,
    "start_time": "2023-05-01T12:33:13.806Z"
   },
   {
    "duration": 15,
    "start_time": "2023-05-01T12:33:13.821Z"
   },
   {
    "duration": 24,
    "start_time": "2023-05-01T12:33:13.837Z"
   },
   {
    "duration": 38,
    "start_time": "2023-05-01T12:33:13.863Z"
   },
   {
    "duration": 15,
    "start_time": "2023-05-01T12:35:49.320Z"
   },
   {
    "duration": 16,
    "start_time": "2023-05-01T12:36:14.729Z"
   },
   {
    "duration": 6,
    "start_time": "2023-05-01T12:41:05.506Z"
   },
   {
    "duration": 5,
    "start_time": "2023-05-01T12:41:11.265Z"
   },
   {
    "duration": 8,
    "start_time": "2023-05-01T12:41:38.905Z"
   },
   {
    "duration": 45,
    "start_time": "2023-05-01T12:51:31.772Z"
   },
   {
    "duration": 97,
    "start_time": "2023-05-01T12:51:45.998Z"
   },
   {
    "duration": 14,
    "start_time": "2023-05-01T12:51:52.416Z"
   },
   {
    "duration": 13,
    "start_time": "2023-05-01T12:52:03.245Z"
   },
   {
    "duration": 17,
    "start_time": "2023-05-01T12:52:37.027Z"
   },
   {
    "duration": 15,
    "start_time": "2023-05-01T12:53:07.058Z"
   },
   {
    "duration": 15,
    "start_time": "2023-05-01T12:53:16.244Z"
   },
   {
    "duration": 15,
    "start_time": "2023-05-01T12:53:24.401Z"
   },
   {
    "duration": 13,
    "start_time": "2023-05-01T12:55:15.284Z"
   },
   {
    "duration": 19,
    "start_time": "2023-05-01T13:13:59.393Z"
   },
   {
    "duration": 4,
    "start_time": "2023-05-01T14:56:09.831Z"
   },
   {
    "duration": 5,
    "start_time": "2023-05-01T14:57:21.653Z"
   },
   {
    "duration": 11,
    "start_time": "2023-05-01T14:59:35.633Z"
   },
   {
    "duration": 19,
    "start_time": "2023-05-01T15:00:01.122Z"
   },
   {
    "duration": 12,
    "start_time": "2023-05-01T15:00:24.737Z"
   },
   {
    "duration": 20,
    "start_time": "2023-05-01T15:00:31.713Z"
   },
   {
    "duration": 11,
    "start_time": "2023-05-01T15:00:50.847Z"
   },
   {
    "duration": 11,
    "start_time": "2023-05-01T15:02:58.319Z"
   },
   {
    "duration": 9,
    "start_time": "2023-05-01T15:03:09.986Z"
   },
   {
    "duration": 10,
    "start_time": "2023-05-01T15:03:29.149Z"
   },
   {
    "duration": 9,
    "start_time": "2023-05-01T15:03:55.539Z"
   },
   {
    "duration": 9,
    "start_time": "2023-05-01T15:04:03.246Z"
   },
   {
    "duration": 7,
    "start_time": "2023-05-01T15:04:17.416Z"
   },
   {
    "duration": 7,
    "start_time": "2023-05-01T15:05:01.857Z"
   },
   {
    "duration": 141,
    "start_time": "2023-05-01T15:06:58.496Z"
   },
   {
    "duration": 9,
    "start_time": "2023-05-01T15:07:03.166Z"
   },
   {
    "duration": 3,
    "start_time": "2023-05-01T15:08:21.522Z"
   },
   {
    "duration": 3,
    "start_time": "2023-05-01T15:08:27.068Z"
   },
   {
    "duration": 4,
    "start_time": "2023-05-01T15:08:59.596Z"
   },
   {
    "duration": 11,
    "start_time": "2023-05-01T15:11:52.757Z"
   },
   {
    "duration": 13,
    "start_time": "2023-05-01T15:12:01.360Z"
   },
   {
    "duration": 15,
    "start_time": "2023-05-01T15:12:10.031Z"
   },
   {
    "duration": 12,
    "start_time": "2023-05-01T15:13:16.312Z"
   },
   {
    "duration": 13,
    "start_time": "2023-05-01T15:14:12.757Z"
   },
   {
    "duration": 12,
    "start_time": "2023-05-01T15:14:17.564Z"
   },
   {
    "duration": 12,
    "start_time": "2023-05-01T15:14:29.055Z"
   },
   {
    "duration": 12,
    "start_time": "2023-05-01T15:17:57.366Z"
   },
   {
    "duration": 13,
    "start_time": "2023-05-01T15:18:31.770Z"
   },
   {
    "duration": 5,
    "start_time": "2023-05-01T15:20:15.256Z"
   },
   {
    "duration": 5,
    "start_time": "2023-05-01T15:21:29.462Z"
   },
   {
    "duration": 4,
    "start_time": "2023-05-01T15:21:54.132Z"
   },
   {
    "duration": 8,
    "start_time": "2023-05-01T15:22:04.122Z"
   },
   {
    "duration": 5,
    "start_time": "2023-05-01T15:22:22.455Z"
   },
   {
    "duration": 5,
    "start_time": "2023-05-01T15:22:32.177Z"
   },
   {
    "duration": 6,
    "start_time": "2023-05-01T15:22:52.036Z"
   },
   {
    "duration": 7,
    "start_time": "2023-05-01T15:23:00.930Z"
   },
   {
    "duration": 8,
    "start_time": "2023-05-01T15:23:16.877Z"
   },
   {
    "duration": 4,
    "start_time": "2023-05-01T15:23:22.607Z"
   },
   {
    "duration": 3,
    "start_time": "2023-05-01T15:23:40.192Z"
   },
   {
    "duration": 7,
    "start_time": "2023-05-01T15:23:44.032Z"
   },
   {
    "duration": 7,
    "start_time": "2023-05-01T15:24:00.591Z"
   },
   {
    "duration": 6,
    "start_time": "2023-05-01T15:24:10.608Z"
   },
   {
    "duration": 8,
    "start_time": "2023-05-01T15:34:58.910Z"
   },
   {
    "duration": 11,
    "start_time": "2023-05-01T15:35:44.610Z"
   },
   {
    "duration": 11,
    "start_time": "2023-05-01T15:35:48.114Z"
   },
   {
    "duration": 161,
    "start_time": "2023-05-01T15:36:11.020Z"
   },
   {
    "duration": 114,
    "start_time": "2023-05-01T15:37:04.200Z"
   },
   {
    "duration": 150,
    "start_time": "2023-05-01T15:37:10.511Z"
   },
   {
    "duration": 104,
    "start_time": "2023-05-01T15:37:16.331Z"
   },
   {
    "duration": 14,
    "start_time": "2023-05-01T15:37:59.033Z"
   },
   {
    "duration": 12,
    "start_time": "2023-05-01T15:38:04.998Z"
   },
   {
    "duration": 248,
    "start_time": "2023-05-01T15:45:34.727Z"
   },
   {
    "duration": 164,
    "start_time": "2023-05-01T15:46:50.403Z"
   },
   {
    "duration": 171,
    "start_time": "2023-05-01T15:46:54.402Z"
   },
   {
    "duration": 173,
    "start_time": "2023-05-01T15:46:58.712Z"
   },
   {
    "duration": 161,
    "start_time": "2023-05-01T15:47:07.246Z"
   },
   {
    "duration": 189,
    "start_time": "2023-05-01T15:47:24.344Z"
   },
   {
    "duration": 288,
    "start_time": "2023-05-01T15:48:53.801Z"
   },
   {
    "duration": 206,
    "start_time": "2023-05-01T15:49:25.948Z"
   },
   {
    "duration": 208,
    "start_time": "2023-05-01T15:57:17.369Z"
   },
   {
    "duration": 240,
    "start_time": "2023-05-01T15:57:28.968Z"
   },
   {
    "duration": 179,
    "start_time": "2023-05-01T15:57:41.091Z"
   },
   {
    "duration": 212,
    "start_time": "2023-05-01T15:58:13.100Z"
   },
   {
    "duration": 198,
    "start_time": "2023-05-01T15:58:39.073Z"
   },
   {
    "duration": 9,
    "start_time": "2023-05-01T16:19:12.239Z"
   },
   {
    "duration": 1152,
    "start_time": "2023-05-01T16:20:30.931Z"
   },
   {
    "duration": 1095,
    "start_time": "2023-05-01T16:21:07.112Z"
   },
   {
    "duration": 249,
    "start_time": "2023-05-01T16:21:15.757Z"
   },
   {
    "duration": 276,
    "start_time": "2023-05-01T16:21:46.677Z"
   },
   {
    "duration": 255,
    "start_time": "2023-05-01T16:22:15.796Z"
   },
   {
    "duration": 286,
    "start_time": "2023-05-01T16:22:23.592Z"
   },
   {
    "duration": 349,
    "start_time": "2023-05-01T16:23:09.384Z"
   },
   {
    "duration": 194,
    "start_time": "2023-05-01T16:28:02.909Z"
   },
   {
    "duration": 169,
    "start_time": "2023-05-01T16:30:26.888Z"
   },
   {
    "duration": 210,
    "start_time": "2023-05-01T16:30:31.921Z"
   },
   {
    "duration": 194,
    "start_time": "2023-05-01T16:31:01.140Z"
   },
   {
    "duration": 9,
    "start_time": "2023-05-01T17:13:54.271Z"
   },
   {
    "duration": 275,
    "start_time": "2023-05-01T17:15:23.493Z"
   },
   {
    "duration": 319,
    "start_time": "2023-05-01T17:16:24.105Z"
   },
   {
    "duration": 291,
    "start_time": "2023-05-01T17:17:04.177Z"
   },
   {
    "duration": 354,
    "start_time": "2023-05-01T17:18:25.312Z"
   },
   {
    "duration": 339,
    "start_time": "2023-05-01T17:19:12.728Z"
   },
   {
    "duration": 11,
    "start_time": "2023-05-01T17:25:08.606Z"
   },
   {
    "duration": 11,
    "start_time": "2023-05-01T17:26:03.535Z"
   },
   {
    "duration": 150,
    "start_time": "2023-05-01T17:26:24.443Z"
   },
   {
    "duration": 147,
    "start_time": "2023-05-01T17:26:57.172Z"
   },
   {
    "duration": 268,
    "start_time": "2023-05-01T17:28:13.683Z"
   },
   {
    "duration": 146,
    "start_time": "2023-05-01T17:29:09.337Z"
   },
   {
    "duration": 110,
    "start_time": "2023-05-01T17:29:23.240Z"
   },
   {
    "duration": 99,
    "start_time": "2023-05-01T17:29:45.516Z"
   },
   {
    "duration": 98,
    "start_time": "2023-05-01T17:29:54.820Z"
   },
   {
    "duration": 118,
    "start_time": "2023-05-01T17:30:21.238Z"
   },
   {
    "duration": 116,
    "start_time": "2023-05-01T17:30:25.701Z"
   },
   {
    "duration": 97,
    "start_time": "2023-05-01T17:30:29.890Z"
   },
   {
    "duration": 114,
    "start_time": "2023-05-01T17:30:35.035Z"
   },
   {
    "duration": 113,
    "start_time": "2023-05-01T17:30:38.731Z"
   },
   {
    "duration": 127,
    "start_time": "2023-05-01T17:31:41.624Z"
   },
   {
    "duration": 126,
    "start_time": "2023-05-01T17:42:51.171Z"
   },
   {
    "duration": 5,
    "start_time": "2023-05-01T17:43:05.484Z"
   },
   {
    "duration": 237,
    "start_time": "2023-05-01T17:49:24.268Z"
   },
   {
    "duration": 17,
    "start_time": "2023-05-01T17:50:06.813Z"
   },
   {
    "duration": 210,
    "start_time": "2023-05-01T17:50:23.033Z"
   },
   {
    "duration": 340,
    "start_time": "2023-05-01T17:51:47.879Z"
   },
   {
    "duration": 239,
    "start_time": "2023-05-01T17:52:55.883Z"
   },
   {
    "duration": 115,
    "start_time": "2023-05-01T17:53:31.156Z"
   },
   {
    "duration": 120,
    "start_time": "2023-05-01T17:53:38.754Z"
   },
   {
    "duration": 128,
    "start_time": "2023-05-01T17:53:58.758Z"
   },
   {
    "duration": 146,
    "start_time": "2023-05-01T17:54:40.531Z"
   },
   {
    "duration": 143,
    "start_time": "2023-05-01T17:55:03.813Z"
   },
   {
    "duration": 7,
    "start_time": "2023-05-01T18:00:15.763Z"
   },
   {
    "duration": 161,
    "start_time": "2023-05-01T18:02:09.334Z"
   },
   {
    "duration": 94,
    "start_time": "2023-05-01T18:08:33.802Z"
   },
   {
    "duration": 60,
    "start_time": "2023-05-01T18:18:20.698Z"
   },
   {
    "duration": 99,
    "start_time": "2023-05-01T18:18:36.948Z"
   },
   {
    "duration": 110,
    "start_time": "2023-05-01T18:18:59.443Z"
   },
   {
    "duration": 294,
    "start_time": "2023-05-01T18:19:24.343Z"
   },
   {
    "duration": 125,
    "start_time": "2023-05-01T18:38:37.575Z"
   },
   {
    "duration": 10,
    "start_time": "2023-05-01T18:43:51.268Z"
   },
   {
    "duration": 90,
    "start_time": "2023-05-01T18:49:54.101Z"
   },
   {
    "duration": 3,
    "start_time": "2023-05-01T18:50:12.540Z"
   },
   {
    "duration": 10,
    "start_time": "2023-05-01T18:50:48.001Z"
   },
   {
    "duration": 23,
    "start_time": "2023-05-01T18:51:01.906Z"
   },
   {
    "duration": 73,
    "start_time": "2023-05-01T18:52:21.022Z"
   },
   {
    "duration": 20,
    "start_time": "2023-05-01T18:52:21.521Z"
   },
   {
    "duration": 74,
    "start_time": "2023-05-01T18:52:37.105Z"
   },
   {
    "duration": 21,
    "start_time": "2023-05-01T18:52:39.498Z"
   },
   {
    "duration": 4,
    "start_time": "2023-05-01T18:53:37.399Z"
   },
   {
    "duration": 20,
    "start_time": "2023-05-01T18:53:37.902Z"
   },
   {
    "duration": 3,
    "start_time": "2023-05-01T18:54:05.853Z"
   },
   {
    "duration": 22,
    "start_time": "2023-05-01T18:54:06.441Z"
   },
   {
    "duration": 4,
    "start_time": "2023-05-01T18:54:46.818Z"
   },
   {
    "duration": 20,
    "start_time": "2023-05-01T18:54:48.174Z"
   },
   {
    "duration": 12,
    "start_time": "2023-05-01T19:00:46.714Z"
   },
   {
    "duration": 13,
    "start_time": "2023-05-01T19:01:26.879Z"
   },
   {
    "duration": 8,
    "start_time": "2023-05-01T19:02:13.810Z"
   },
   {
    "duration": 8,
    "start_time": "2023-05-01T19:09:18.305Z"
   },
   {
    "duration": 84,
    "start_time": "2023-05-01T19:09:49.622Z"
   },
   {
    "duration": 74,
    "start_time": "2023-05-01T19:09:54.205Z"
   },
   {
    "duration": 8,
    "start_time": "2023-05-01T19:10:01.019Z"
   },
   {
    "duration": 10,
    "start_time": "2023-05-01T19:13:58.868Z"
   },
   {
    "duration": 9,
    "start_time": "2023-05-01T19:14:22.502Z"
   },
   {
    "duration": 26,
    "start_time": "2023-05-01T19:14:29.168Z"
   },
   {
    "duration": 11,
    "start_time": "2023-05-01T19:24:27.919Z"
   },
   {
    "duration": 15,
    "start_time": "2023-05-01T19:24:54.409Z"
   },
   {
    "duration": 9,
    "start_time": "2023-05-01T19:31:10.874Z"
   },
   {
    "duration": 81,
    "start_time": "2023-05-01T19:37:34.712Z"
   },
   {
    "duration": 229,
    "start_time": "2023-05-01T20:25:47.085Z"
   },
   {
    "duration": 10,
    "start_time": "2023-05-01T20:34:04.694Z"
   },
   {
    "duration": 1233,
    "start_time": "2023-05-02T00:58:59.960Z"
   },
   {
    "duration": 63,
    "start_time": "2023-05-02T00:59:01.195Z"
   },
   {
    "duration": 22,
    "start_time": "2023-05-02T00:59:01.261Z"
   },
   {
    "duration": 59,
    "start_time": "2023-05-02T00:59:01.286Z"
   },
   {
    "duration": 55,
    "start_time": "2023-05-02T00:59:01.346Z"
   },
   {
    "duration": 70,
    "start_time": "2023-05-02T00:59:01.404Z"
   },
   {
    "duration": 55,
    "start_time": "2023-05-02T00:59:01.476Z"
   },
   {
    "duration": 45,
    "start_time": "2023-05-02T00:59:01.533Z"
   },
   {
    "duration": 45,
    "start_time": "2023-05-02T00:59:01.580Z"
   },
   {
    "duration": 92,
    "start_time": "2023-05-02T00:59:01.629Z"
   },
   {
    "duration": 17,
    "start_time": "2023-05-02T00:59:01.723Z"
   },
   {
    "duration": 23,
    "start_time": "2023-05-02T00:59:01.742Z"
   },
   {
    "duration": 60,
    "start_time": "2023-05-02T00:59:01.767Z"
   },
   {
    "duration": 19,
    "start_time": "2023-05-02T00:59:01.828Z"
   },
   {
    "duration": 53,
    "start_time": "2023-05-02T00:59:01.849Z"
   },
   {
    "duration": 39,
    "start_time": "2023-05-02T00:59:01.904Z"
   },
   {
    "duration": 36,
    "start_time": "2023-05-02T00:59:01.945Z"
   },
   {
    "duration": 177,
    "start_time": "2023-05-02T00:59:01.982Z"
   },
   {
    "duration": 144,
    "start_time": "2023-05-02T00:59:02.160Z"
   },
   {
    "duration": 12,
    "start_time": "2023-05-02T00:59:02.306Z"
   },
   {
    "duration": 307,
    "start_time": "2023-05-02T00:59:02.319Z"
   },
   {
    "duration": 224,
    "start_time": "2023-05-02T00:59:02.628Z"
   },
   {
    "duration": 348,
    "start_time": "2023-05-02T00:59:02.858Z"
   },
   {
    "duration": 221,
    "start_time": "2023-05-02T00:59:03.207Z"
   },
   {
    "duration": 371,
    "start_time": "2023-05-02T00:59:03.430Z"
   },
   {
    "duration": 11,
    "start_time": "2023-05-02T00:59:03.803Z"
   },
   {
    "duration": 192,
    "start_time": "2023-05-02T00:59:03.816Z"
   },
   {
    "duration": 230,
    "start_time": "2023-05-02T00:59:04.011Z"
   },
   {
    "duration": 5,
    "start_time": "2023-05-02T00:59:04.242Z"
   },
   {
    "duration": 262,
    "start_time": "2023-05-02T00:59:04.249Z"
   },
   {
    "duration": 169,
    "start_time": "2023-05-02T00:59:04.513Z"
   },
   {
    "duration": 5,
    "start_time": "2023-05-02T00:59:04.684Z"
   },
   {
    "duration": 249,
    "start_time": "2023-05-02T00:59:04.690Z"
   },
   {
    "duration": 149,
    "start_time": "2023-05-02T00:59:04.941Z"
   },
   {
    "duration": 4,
    "start_time": "2023-05-02T00:59:05.092Z"
   },
   {
    "duration": 24,
    "start_time": "2023-05-02T00:59:05.097Z"
   },
   {
    "duration": 8,
    "start_time": "2023-05-02T00:59:05.123Z"
   },
   {
    "duration": 33,
    "start_time": "2023-05-02T00:59:05.133Z"
   },
   {
    "duration": 28,
    "start_time": "2023-05-02T00:59:05.168Z"
   },
   {
    "duration": 10,
    "start_time": "2023-05-02T00:59:05.197Z"
   },
   {
    "duration": 1605,
    "start_time": "2023-05-02T06:19:43.687Z"
   },
   {
    "duration": 171,
    "start_time": "2023-05-02T06:19:45.294Z"
   },
   {
    "duration": 20,
    "start_time": "2023-05-02T06:19:45.468Z"
   },
   {
    "duration": 50,
    "start_time": "2023-05-02T06:19:45.490Z"
   },
   {
    "duration": 19,
    "start_time": "2023-05-02T06:19:45.542Z"
   },
   {
    "duration": 16,
    "start_time": "2023-05-02T06:19:45.563Z"
   },
   {
    "duration": 22,
    "start_time": "2023-05-02T06:19:45.581Z"
   },
   {
    "duration": 20,
    "start_time": "2023-05-02T06:19:45.605Z"
   },
   {
    "duration": 13,
    "start_time": "2023-05-02T06:19:45.629Z"
   },
   {
    "duration": 93,
    "start_time": "2023-05-02T06:19:45.646Z"
   },
   {
    "duration": 22,
    "start_time": "2023-05-02T06:19:45.741Z"
   },
   {
    "duration": 6,
    "start_time": "2023-05-02T06:19:45.765Z"
   },
   {
    "duration": 10,
    "start_time": "2023-05-02T06:19:45.792Z"
   },
   {
    "duration": 6,
    "start_time": "2023-05-02T06:19:45.804Z"
   },
   {
    "duration": 14,
    "start_time": "2023-05-02T06:19:45.812Z"
   },
   {
    "duration": 7,
    "start_time": "2023-05-02T06:19:45.828Z"
   },
   {
    "duration": 64,
    "start_time": "2023-05-02T06:19:45.837Z"
   },
   {
    "duration": 217,
    "start_time": "2023-05-02T06:19:45.903Z"
   },
   {
    "duration": 162,
    "start_time": "2023-05-02T06:19:46.122Z"
   },
   {
    "duration": 19,
    "start_time": "2023-05-02T06:19:46.286Z"
   },
   {
    "duration": 339,
    "start_time": "2023-05-02T06:19:46.307Z"
   },
   {
    "duration": 234,
    "start_time": "2023-05-02T06:19:46.648Z"
   },
   {
    "duration": 449,
    "start_time": "2023-05-02T06:19:46.892Z"
   },
   {
    "duration": 308,
    "start_time": "2023-05-02T06:19:47.343Z"
   },
   {
    "duration": 415,
    "start_time": "2023-05-02T06:19:47.654Z"
   },
   {
    "duration": 26,
    "start_time": "2023-05-02T06:19:48.071Z"
   },
   {
    "duration": 221,
    "start_time": "2023-05-02T06:19:48.102Z"
   },
   {
    "duration": 279,
    "start_time": "2023-05-02T06:19:48.325Z"
   },
   {
    "duration": 6,
    "start_time": "2023-05-02T06:19:48.606Z"
   },
   {
    "duration": 377,
    "start_time": "2023-05-02T06:19:48.614Z"
   },
   {
    "duration": 185,
    "start_time": "2023-05-02T06:19:48.993Z"
   },
   {
    "duration": 14,
    "start_time": "2023-05-02T06:19:49.180Z"
   },
   {
    "duration": 250,
    "start_time": "2023-05-02T06:19:49.195Z"
   },
   {
    "duration": 171,
    "start_time": "2023-05-02T06:19:49.446Z"
   },
   {
    "duration": 29,
    "start_time": "2023-05-02T06:19:49.619Z"
   },
   {
    "duration": 45,
    "start_time": "2023-05-02T06:19:49.649Z"
   },
   {
    "duration": 11,
    "start_time": "2023-05-02T06:19:49.697Z"
   },
   {
    "duration": 11,
    "start_time": "2023-05-02T06:19:49.710Z"
   },
   {
    "duration": 31,
    "start_time": "2023-05-02T06:19:49.723Z"
   },
   {
    "duration": 44,
    "start_time": "2023-05-02T06:19:49.756Z"
   },
   {
    "duration": 49,
    "start_time": "2023-05-02T15:20:40.510Z"
   },
   {
    "duration": 1365,
    "start_time": "2023-05-02T15:20:49.611Z"
   },
   {
    "duration": 225,
    "start_time": "2023-05-02T15:20:50.979Z"
   },
   {
    "duration": 21,
    "start_time": "2023-05-02T15:20:51.205Z"
   },
   {
    "duration": 15,
    "start_time": "2023-05-02T15:20:51.228Z"
   },
   {
    "duration": 13,
    "start_time": "2023-05-02T15:20:51.246Z"
   },
   {
    "duration": 37,
    "start_time": "2023-05-02T15:20:51.261Z"
   },
   {
    "duration": 13,
    "start_time": "2023-05-02T15:20:51.300Z"
   },
   {
    "duration": 14,
    "start_time": "2023-05-02T15:20:51.314Z"
   },
   {
    "duration": 19,
    "start_time": "2023-05-02T15:20:51.329Z"
   },
   {
    "duration": 79,
    "start_time": "2023-05-02T15:20:51.350Z"
   },
   {
    "duration": 17,
    "start_time": "2023-05-02T15:20:51.431Z"
   },
   {
    "duration": 6,
    "start_time": "2023-05-02T15:20:51.451Z"
   },
   {
    "duration": 38,
    "start_time": "2023-05-02T15:20:51.459Z"
   },
   {
    "duration": 10,
    "start_time": "2023-05-02T15:20:51.501Z"
   },
   {
    "duration": 20,
    "start_time": "2023-05-02T15:20:51.513Z"
   },
   {
    "duration": 12,
    "start_time": "2023-05-02T15:20:51.534Z"
   },
   {
    "duration": 45,
    "start_time": "2023-05-02T15:20:51.547Z"
   },
   {
    "duration": 178,
    "start_time": "2023-05-02T15:20:51.594Z"
   },
   {
    "duration": 147,
    "start_time": "2023-05-02T15:20:51.773Z"
   },
   {
    "duration": 13,
    "start_time": "2023-05-02T15:20:51.922Z"
   },
   {
    "duration": 312,
    "start_time": "2023-05-02T15:20:51.936Z"
   },
   {
    "duration": 219,
    "start_time": "2023-05-02T15:20:52.250Z"
   },
   {
    "duration": 410,
    "start_time": "2023-05-02T15:20:52.471Z"
   },
   {
    "duration": 227,
    "start_time": "2023-05-02T15:20:52.882Z"
   },
   {
    "duration": 336,
    "start_time": "2023-05-02T15:20:53.111Z"
   },
   {
    "duration": 11,
    "start_time": "2023-05-02T15:20:53.448Z"
   },
   {
    "duration": 178,
    "start_time": "2023-05-02T15:20:53.461Z"
   },
   {
    "duration": 210,
    "start_time": "2023-05-02T15:20:53.641Z"
   },
   {
    "duration": 4,
    "start_time": "2023-05-02T15:20:53.853Z"
   },
   {
    "duration": 255,
    "start_time": "2023-05-02T15:20:53.859Z"
   },
   {
    "duration": 157,
    "start_time": "2023-05-02T15:20:54.115Z"
   },
   {
    "duration": 4,
    "start_time": "2023-05-02T15:20:54.274Z"
   },
   {
    "duration": 218,
    "start_time": "2023-05-02T15:20:54.292Z"
   },
   {
    "duration": 155,
    "start_time": "2023-05-02T15:20:54.512Z"
   },
   {
    "duration": 4,
    "start_time": "2023-05-02T15:20:54.669Z"
   },
   {
    "duration": 51,
    "start_time": "2023-05-02T15:20:54.675Z"
   },
   {
    "duration": 9,
    "start_time": "2023-05-02T15:20:54.727Z"
   },
   {
    "duration": 14,
    "start_time": "2023-05-02T15:20:54.737Z"
   },
   {
    "duration": 51,
    "start_time": "2023-05-02T15:20:54.753Z"
   },
   {
    "duration": 8,
    "start_time": "2023-05-02T15:20:54.806Z"
   },
   {
    "duration": 12,
    "start_time": "2023-05-02T15:21:04.135Z"
   },
   {
    "duration": 6,
    "start_time": "2023-05-02T15:22:34.913Z"
   },
   {
    "duration": 8,
    "start_time": "2023-05-02T15:22:38.951Z"
   },
   {
    "duration": 5,
    "start_time": "2023-05-02T15:23:25.637Z"
   },
   {
    "duration": 8,
    "start_time": "2023-05-02T15:23:32.524Z"
   },
   {
    "duration": 6,
    "start_time": "2023-05-02T15:23:40.284Z"
   },
   {
    "duration": 13,
    "start_time": "2023-05-02T15:25:23.619Z"
   },
   {
    "duration": 120,
    "start_time": "2023-05-02T15:35:33.462Z"
   },
   {
    "duration": 11,
    "start_time": "2023-05-02T15:35:36.439Z"
   },
   {
    "duration": 9,
    "start_time": "2023-05-02T15:35:43.727Z"
   },
   {
    "duration": 10,
    "start_time": "2023-05-02T15:36:09.439Z"
   },
   {
    "duration": 9,
    "start_time": "2023-05-02T15:36:28.542Z"
   },
   {
    "duration": 7,
    "start_time": "2023-05-02T15:36:59.917Z"
   },
   {
    "duration": 8,
    "start_time": "2023-05-02T15:37:21.121Z"
   },
   {
    "duration": 9,
    "start_time": "2023-05-02T15:39:04.728Z"
   },
   {
    "duration": 344,
    "start_time": "2023-05-02T15:43:34.048Z"
   },
   {
    "duration": 259,
    "start_time": "2023-05-02T15:43:51.817Z"
   },
   {
    "duration": 228,
    "start_time": "2023-05-02T15:44:29.727Z"
   },
   {
    "duration": 216,
    "start_time": "2023-05-02T15:44:43.831Z"
   },
   {
    "duration": 368,
    "start_time": "2023-05-02T15:45:08.717Z"
   },
   {
    "duration": 162,
    "start_time": "2023-05-02T15:50:23.349Z"
   },
   {
    "duration": 231,
    "start_time": "2023-05-02T15:50:34.639Z"
   },
   {
    "duration": 227,
    "start_time": "2023-05-02T15:51:09.315Z"
   },
   {
    "duration": 169,
    "start_time": "2023-05-02T15:51:22.983Z"
   },
   {
    "duration": 198,
    "start_time": "2023-05-02T15:51:28.762Z"
   },
   {
    "duration": 187,
    "start_time": "2023-05-02T15:51:44.444Z"
   },
   {
    "duration": 176,
    "start_time": "2023-05-02T15:51:52.118Z"
   },
   {
    "duration": 149,
    "start_time": "2023-05-02T15:51:58.117Z"
   },
   {
    "duration": 146,
    "start_time": "2023-05-02T15:52:11.362Z"
   },
   {
    "duration": 157,
    "start_time": "2023-05-02T15:52:38.481Z"
   },
   {
    "duration": 153,
    "start_time": "2023-05-02T15:52:43.817Z"
   },
   {
    "duration": 169,
    "start_time": "2023-05-02T15:53:09.756Z"
   },
   {
    "duration": 200,
    "start_time": "2023-05-02T15:53:16.435Z"
   },
   {
    "duration": 191,
    "start_time": "2023-05-02T15:53:19.933Z"
   },
   {
    "duration": 231,
    "start_time": "2023-05-02T15:53:23.687Z"
   },
   {
    "duration": 160,
    "start_time": "2023-05-02T15:53:28.277Z"
   },
   {
    "duration": 1201,
    "start_time": "2023-05-02T15:55:00.618Z"
   },
   {
    "duration": 72,
    "start_time": "2023-05-02T15:55:01.821Z"
   },
   {
    "duration": 27,
    "start_time": "2023-05-02T15:55:01.895Z"
   },
   {
    "duration": 15,
    "start_time": "2023-05-02T15:55:01.924Z"
   },
   {
    "duration": 50,
    "start_time": "2023-05-02T15:55:01.942Z"
   },
   {
    "duration": 28,
    "start_time": "2023-05-02T15:55:01.994Z"
   },
   {
    "duration": 24,
    "start_time": "2023-05-02T15:55:02.024Z"
   },
   {
    "duration": 26,
    "start_time": "2023-05-02T15:55:02.050Z"
   },
   {
    "duration": 37,
    "start_time": "2023-05-02T15:55:02.078Z"
   },
   {
    "duration": 98,
    "start_time": "2023-05-02T15:55:02.117Z"
   },
   {
    "duration": 16,
    "start_time": "2023-05-02T15:55:02.217Z"
   },
   {
    "duration": 20,
    "start_time": "2023-05-02T15:55:02.235Z"
   },
   {
    "duration": 39,
    "start_time": "2023-05-02T15:55:02.256Z"
   },
   {
    "duration": 33,
    "start_time": "2023-05-02T15:55:02.299Z"
   },
   {
    "duration": 20,
    "start_time": "2023-05-02T15:55:02.334Z"
   },
   {
    "duration": 33,
    "start_time": "2023-05-02T15:55:02.357Z"
   },
   {
    "duration": 27,
    "start_time": "2023-05-02T15:55:02.392Z"
   },
   {
    "duration": 31,
    "start_time": "2023-05-02T15:55:02.421Z"
   },
   {
    "duration": 210,
    "start_time": "2023-05-02T15:55:02.453Z"
   },
   {
    "duration": 135,
    "start_time": "2023-05-02T15:55:02.665Z"
   },
   {
    "duration": 14,
    "start_time": "2023-05-02T15:55:02.802Z"
   },
   {
    "duration": 20,
    "start_time": "2023-05-02T15:55:02.817Z"
   },
   {
    "duration": 326,
    "start_time": "2023-05-02T15:55:02.840Z"
   },
   {
    "duration": 196,
    "start_time": "2023-05-02T15:55:03.169Z"
   },
   {
    "duration": 352,
    "start_time": "2023-05-02T15:55:03.367Z"
   },
   {
    "duration": 263,
    "start_time": "2023-05-02T15:55:03.721Z"
   },
   {
    "duration": 369,
    "start_time": "2023-05-02T15:55:03.985Z"
   },
   {
    "duration": 14,
    "start_time": "2023-05-02T15:55:04.356Z"
   },
   {
    "duration": 181,
    "start_time": "2023-05-02T15:55:04.372Z"
   },
   {
    "duration": 231,
    "start_time": "2023-05-02T15:55:04.556Z"
   },
   {
    "duration": 5,
    "start_time": "2023-05-02T15:55:04.789Z"
   },
   {
    "duration": 278,
    "start_time": "2023-05-02T15:55:04.796Z"
   },
   {
    "duration": 170,
    "start_time": "2023-05-02T15:55:05.076Z"
   },
   {
    "duration": 210,
    "start_time": "2023-05-02T15:55:05.248Z"
   },
   {
    "duration": 5,
    "start_time": "2023-05-02T15:55:05.460Z"
   },
   {
    "duration": 123,
    "start_time": "2023-05-02T15:55:05.467Z"
   },
   {
    "duration": 0,
    "start_time": "2023-05-02T15:55:05.591Z"
   },
   {
    "duration": 0,
    "start_time": "2023-05-02T15:55:05.593Z"
   },
   {
    "duration": 0,
    "start_time": "2023-05-02T15:55:05.594Z"
   },
   {
    "duration": 0,
    "start_time": "2023-05-02T15:55:05.595Z"
   },
   {
    "duration": 0,
    "start_time": "2023-05-02T15:55:05.596Z"
   },
   {
    "duration": 0,
    "start_time": "2023-05-02T15:55:05.597Z"
   },
   {
    "duration": 0,
    "start_time": "2023-05-02T15:55:05.598Z"
   },
   {
    "duration": 0,
    "start_time": "2023-05-02T15:55:05.599Z"
   },
   {
    "duration": 210,
    "start_time": "2023-05-02T15:58:27.830Z"
   },
   {
    "duration": 9,
    "start_time": "2023-05-02T16:08:23.039Z"
   },
   {
    "duration": 1117,
    "start_time": "2023-05-02T16:08:50.353Z"
   },
   {
    "duration": 70,
    "start_time": "2023-05-02T16:08:51.473Z"
   },
   {
    "duration": 22,
    "start_time": "2023-05-02T16:08:51.547Z"
   },
   {
    "duration": 16,
    "start_time": "2023-05-02T16:08:51.570Z"
   },
   {
    "duration": 24,
    "start_time": "2023-05-02T16:08:51.587Z"
   },
   {
    "duration": 11,
    "start_time": "2023-05-02T16:08:51.612Z"
   },
   {
    "duration": 9,
    "start_time": "2023-05-02T16:08:51.624Z"
   },
   {
    "duration": 14,
    "start_time": "2023-05-02T16:08:51.635Z"
   },
   {
    "duration": 12,
    "start_time": "2023-05-02T16:08:51.651Z"
   },
   {
    "duration": 75,
    "start_time": "2023-05-02T16:08:51.665Z"
   },
   {
    "duration": 13,
    "start_time": "2023-05-02T16:08:51.741Z"
   },
   {
    "duration": 15,
    "start_time": "2023-05-02T16:08:51.756Z"
   },
   {
    "duration": 24,
    "start_time": "2023-05-02T16:08:51.772Z"
   },
   {
    "duration": 4,
    "start_time": "2023-05-02T16:08:51.798Z"
   },
   {
    "duration": 15,
    "start_time": "2023-05-02T16:08:51.803Z"
   },
   {
    "duration": 8,
    "start_time": "2023-05-02T16:08:51.820Z"
   },
   {
    "duration": 9,
    "start_time": "2023-05-02T16:08:51.829Z"
   },
   {
    "duration": 58,
    "start_time": "2023-05-02T16:08:51.839Z"
   },
   {
    "duration": 170,
    "start_time": "2023-05-02T16:08:51.899Z"
   },
   {
    "duration": 154,
    "start_time": "2023-05-02T16:08:52.071Z"
   },
   {
    "duration": 11,
    "start_time": "2023-05-02T16:08:52.227Z"
   },
   {
    "duration": 14,
    "start_time": "2023-05-02T16:08:52.239Z"
   },
   {
    "duration": 290,
    "start_time": "2023-05-02T16:08:52.254Z"
   },
   {
    "duration": 194,
    "start_time": "2023-05-02T16:08:52.546Z"
   },
   {
    "duration": 316,
    "start_time": "2023-05-02T16:08:52.741Z"
   },
   {
    "duration": 221,
    "start_time": "2023-05-02T16:08:53.059Z"
   },
   {
    "duration": 354,
    "start_time": "2023-05-02T16:08:53.291Z"
   },
   {
    "duration": 10,
    "start_time": "2023-05-02T16:08:53.647Z"
   },
   {
    "duration": 194,
    "start_time": "2023-05-02T16:08:53.659Z"
   },
   {
    "duration": 219,
    "start_time": "2023-05-02T16:08:53.855Z"
   },
   {
    "duration": 6,
    "start_time": "2023-05-02T16:08:54.076Z"
   },
   {
    "duration": 245,
    "start_time": "2023-05-02T16:08:54.092Z"
   },
   {
    "duration": 162,
    "start_time": "2023-05-02T16:08:54.339Z"
   },
   {
    "duration": 160,
    "start_time": "2023-05-02T16:08:54.502Z"
   },
   {
    "duration": 4,
    "start_time": "2023-05-02T16:08:54.664Z"
   },
   {
    "duration": 241,
    "start_time": "2023-05-02T16:08:54.670Z"
   },
   {
    "duration": 153,
    "start_time": "2023-05-02T16:08:54.912Z"
   },
   {
    "duration": 4,
    "start_time": "2023-05-02T16:08:55.067Z"
   },
   {
    "duration": 36,
    "start_time": "2023-05-02T16:08:55.072Z"
   },
   {
    "duration": 8,
    "start_time": "2023-05-02T16:08:55.110Z"
   },
   {
    "duration": 117,
    "start_time": "2023-05-02T16:08:55.120Z"
   },
   {
    "duration": 0,
    "start_time": "2023-05-02T16:08:55.239Z"
   },
   {
    "duration": 0,
    "start_time": "2023-05-02T16:08:55.241Z"
   },
   {
    "duration": 0,
    "start_time": "2023-05-02T16:08:55.242Z"
   },
   {
    "duration": 12,
    "start_time": "2023-05-02T16:09:18.926Z"
   },
   {
    "duration": 887,
    "start_time": "2023-05-02T16:10:04.471Z"
   },
   {
    "duration": 98,
    "start_time": "2023-05-02T16:10:15.506Z"
   },
   {
    "duration": 144,
    "start_time": "2023-05-02T16:10:35.481Z"
   },
   {
    "duration": 14,
    "start_time": "2023-05-02T16:10:43.151Z"
   },
   {
    "duration": 11,
    "start_time": "2023-05-02T16:11:14.585Z"
   },
   {
    "duration": 14,
    "start_time": "2023-05-02T16:11:36.579Z"
   },
   {
    "duration": 15,
    "start_time": "2023-05-02T16:11:46.384Z"
   },
   {
    "duration": 11,
    "start_time": "2023-05-02T16:12:31.103Z"
   },
   {
    "duration": 10,
    "start_time": "2023-05-02T16:12:37.173Z"
   },
   {
    "duration": 13,
    "start_time": "2023-05-02T16:13:00.789Z"
   },
   {
    "duration": 15,
    "start_time": "2023-05-02T16:18:43.384Z"
   },
   {
    "duration": 17,
    "start_time": "2023-05-02T16:19:40.599Z"
   },
   {
    "duration": 14,
    "start_time": "2023-05-02T16:20:18.153Z"
   },
   {
    "duration": 9,
    "start_time": "2023-05-02T16:20:28.700Z"
   },
   {
    "duration": 14,
    "start_time": "2023-05-02T16:20:32.571Z"
   },
   {
    "duration": 12,
    "start_time": "2023-05-02T16:24:16.468Z"
   },
   {
    "duration": 10,
    "start_time": "2023-05-02T16:24:22.505Z"
   },
   {
    "duration": 9,
    "start_time": "2023-05-02T16:24:39.527Z"
   },
   {
    "duration": 10,
    "start_time": "2023-05-02T16:24:56.951Z"
   },
   {
    "duration": 11,
    "start_time": "2023-05-02T16:25:02.354Z"
   },
   {
    "duration": 113,
    "start_time": "2023-05-02T16:26:28.920Z"
   },
   {
    "duration": 12,
    "start_time": "2023-05-02T16:26:46.506Z"
   },
   {
    "duration": 1111,
    "start_time": "2023-05-02T16:26:57.836Z"
   },
   {
    "duration": 73,
    "start_time": "2023-05-02T16:26:58.949Z"
   },
   {
    "duration": 20,
    "start_time": "2023-05-02T16:26:59.024Z"
   },
   {
    "duration": 14,
    "start_time": "2023-05-02T16:26:59.046Z"
   },
   {
    "duration": 19,
    "start_time": "2023-05-02T16:26:59.061Z"
   },
   {
    "duration": 16,
    "start_time": "2023-05-02T16:26:59.082Z"
   },
   {
    "duration": 13,
    "start_time": "2023-05-02T16:26:59.100Z"
   },
   {
    "duration": 17,
    "start_time": "2023-05-02T16:26:59.115Z"
   },
   {
    "duration": 23,
    "start_time": "2023-05-02T16:26:59.133Z"
   },
   {
    "duration": 76,
    "start_time": "2023-05-02T16:26:59.159Z"
   },
   {
    "duration": 19,
    "start_time": "2023-05-02T16:26:59.238Z"
   },
   {
    "duration": 6,
    "start_time": "2023-05-02T16:26:59.259Z"
   },
   {
    "duration": 43,
    "start_time": "2023-05-02T16:26:59.267Z"
   },
   {
    "duration": 5,
    "start_time": "2023-05-02T16:26:59.312Z"
   },
   {
    "duration": 15,
    "start_time": "2023-05-02T16:26:59.319Z"
   },
   {
    "duration": 9,
    "start_time": "2023-05-02T16:26:59.335Z"
   },
   {
    "duration": 45,
    "start_time": "2023-05-02T16:26:59.346Z"
   },
   {
    "duration": 10,
    "start_time": "2023-05-02T16:26:59.394Z"
   },
   {
    "duration": 186,
    "start_time": "2023-05-02T16:26:59.406Z"
   },
   {
    "duration": 142,
    "start_time": "2023-05-02T16:26:59.594Z"
   },
   {
    "duration": 16,
    "start_time": "2023-05-02T16:26:59.739Z"
   },
   {
    "duration": 35,
    "start_time": "2023-05-02T16:26:59.757Z"
   },
   {
    "duration": 299,
    "start_time": "2023-05-02T16:26:59.795Z"
   },
   {
    "duration": 208,
    "start_time": "2023-05-02T16:27:00.096Z"
   },
   {
    "duration": 326,
    "start_time": "2023-05-02T16:27:00.306Z"
   },
   {
    "duration": 253,
    "start_time": "2023-05-02T16:27:00.635Z"
   },
   {
    "duration": 380,
    "start_time": "2023-05-02T16:27:00.890Z"
   },
   {
    "duration": 25,
    "start_time": "2023-05-02T16:27:01.275Z"
   },
   {
    "duration": 245,
    "start_time": "2023-05-02T16:27:01.302Z"
   },
   {
    "duration": 224,
    "start_time": "2023-05-02T16:27:01.549Z"
   },
   {
    "duration": 5,
    "start_time": "2023-05-02T16:27:01.775Z"
   },
   {
    "duration": 288,
    "start_time": "2023-05-02T16:27:01.792Z"
   },
   {
    "duration": 163,
    "start_time": "2023-05-02T16:27:02.090Z"
   },
   {
    "duration": 177,
    "start_time": "2023-05-02T16:27:02.255Z"
   },
   {
    "duration": 5,
    "start_time": "2023-05-02T16:27:02.433Z"
   },
   {
    "duration": 256,
    "start_time": "2023-05-02T16:27:02.440Z"
   },
   {
    "duration": 160,
    "start_time": "2023-05-02T16:27:02.697Z"
   },
   {
    "duration": 4,
    "start_time": "2023-05-02T16:27:02.859Z"
   },
   {
    "duration": 46,
    "start_time": "2023-05-02T16:27:02.864Z"
   },
   {
    "duration": 9,
    "start_time": "2023-05-02T16:27:02.912Z"
   },
   {
    "duration": 10,
    "start_time": "2023-05-02T16:27:02.922Z"
   },
   {
    "duration": 63,
    "start_time": "2023-05-02T16:27:02.933Z"
   },
   {
    "duration": 120,
    "start_time": "2023-05-02T16:27:02.997Z"
   },
   {
    "duration": 100,
    "start_time": "2023-05-02T16:27:52.576Z"
   },
   {
    "duration": 11,
    "start_time": "2023-05-02T16:28:01.606Z"
   },
   {
    "duration": 1231,
    "start_time": "2023-05-02T16:28:06.960Z"
   },
   {
    "duration": 74,
    "start_time": "2023-05-02T16:28:08.193Z"
   },
   {
    "duration": 25,
    "start_time": "2023-05-02T16:28:08.269Z"
   },
   {
    "duration": 15,
    "start_time": "2023-05-02T16:28:08.297Z"
   },
   {
    "duration": 20,
    "start_time": "2023-05-02T16:28:08.314Z"
   },
   {
    "duration": 19,
    "start_time": "2023-05-02T16:28:08.336Z"
   },
   {
    "duration": 34,
    "start_time": "2023-05-02T16:28:08.358Z"
   },
   {
    "duration": 22,
    "start_time": "2023-05-02T16:28:08.394Z"
   },
   {
    "duration": 11,
    "start_time": "2023-05-02T16:28:08.418Z"
   },
   {
    "duration": 85,
    "start_time": "2023-05-02T16:28:08.432Z"
   },
   {
    "duration": 20,
    "start_time": "2023-05-02T16:28:08.519Z"
   },
   {
    "duration": 43,
    "start_time": "2023-05-02T16:28:08.541Z"
   },
   {
    "duration": 16,
    "start_time": "2023-05-02T16:28:08.586Z"
   },
   {
    "duration": 14,
    "start_time": "2023-05-02T16:28:08.604Z"
   },
   {
    "duration": 29,
    "start_time": "2023-05-02T16:28:08.620Z"
   },
   {
    "duration": 12,
    "start_time": "2023-05-02T16:28:08.651Z"
   },
   {
    "duration": 29,
    "start_time": "2023-05-02T16:28:08.665Z"
   },
   {
    "duration": 13,
    "start_time": "2023-05-02T16:28:08.696Z"
   },
   {
    "duration": 266,
    "start_time": "2023-05-02T16:28:08.711Z"
   },
   {
    "duration": 137,
    "start_time": "2023-05-02T16:28:08.979Z"
   },
   {
    "duration": 12,
    "start_time": "2023-05-02T16:28:09.119Z"
   },
   {
    "duration": 14,
    "start_time": "2023-05-02T16:28:09.133Z"
   },
   {
    "duration": 325,
    "start_time": "2023-05-02T16:28:09.150Z"
   },
   {
    "duration": 219,
    "start_time": "2023-05-02T16:28:09.477Z"
   },
   {
    "duration": 357,
    "start_time": "2023-05-02T16:28:09.698Z"
   },
   {
    "duration": 232,
    "start_time": "2023-05-02T16:28:10.057Z"
   },
   {
    "duration": 378,
    "start_time": "2023-05-02T16:28:10.292Z"
   },
   {
    "duration": 19,
    "start_time": "2023-05-02T16:28:10.674Z"
   },
   {
    "duration": 196,
    "start_time": "2023-05-02T16:28:10.695Z"
   },
   {
    "duration": 232,
    "start_time": "2023-05-02T16:28:10.893Z"
   },
   {
    "duration": 6,
    "start_time": "2023-05-02T16:28:11.127Z"
   },
   {
    "duration": 263,
    "start_time": "2023-05-02T16:28:11.135Z"
   },
   {
    "duration": 191,
    "start_time": "2023-05-02T16:28:11.400Z"
   },
   {
    "duration": 181,
    "start_time": "2023-05-02T16:28:11.593Z"
   },
   {
    "duration": 16,
    "start_time": "2023-05-02T16:28:11.776Z"
   },
   {
    "duration": 247,
    "start_time": "2023-05-02T16:28:11.794Z"
   },
   {
    "duration": 150,
    "start_time": "2023-05-02T16:28:12.042Z"
   },
   {
    "duration": 5,
    "start_time": "2023-05-02T16:28:12.194Z"
   },
   {
    "duration": 47,
    "start_time": "2023-05-02T16:28:12.201Z"
   },
   {
    "duration": 10,
    "start_time": "2023-05-02T16:28:12.253Z"
   },
   {
    "duration": 32,
    "start_time": "2023-05-02T16:28:12.265Z"
   },
   {
    "duration": 43,
    "start_time": "2023-05-02T16:28:12.300Z"
   },
   {
    "duration": 13,
    "start_time": "2023-05-02T16:28:12.344Z"
   },
   {
    "duration": 14,
    "start_time": "2023-05-02T16:29:37.818Z"
   },
   {
    "duration": 12,
    "start_time": "2023-05-02T16:29:42.272Z"
   },
   {
    "duration": 6,
    "start_time": "2023-05-02T16:30:07.383Z"
   },
   {
    "duration": 7,
    "start_time": "2023-05-02T16:30:15.169Z"
   },
   {
    "duration": 5,
    "start_time": "2023-05-02T16:30:22.407Z"
   },
   {
    "duration": 6,
    "start_time": "2023-05-02T16:30:27.408Z"
   },
   {
    "duration": 4,
    "start_time": "2023-05-02T16:32:43.484Z"
   },
   {
    "duration": 5,
    "start_time": "2023-05-02T16:32:48.460Z"
   },
   {
    "duration": 5,
    "start_time": "2023-05-02T16:32:59.425Z"
   },
   {
    "duration": 6,
    "start_time": "2023-05-02T16:34:25.731Z"
   },
   {
    "duration": 10,
    "start_time": "2023-05-02T16:35:22.977Z"
   },
   {
    "duration": 12,
    "start_time": "2023-05-02T16:35:36.456Z"
   },
   {
    "duration": 13,
    "start_time": "2023-05-02T16:35:43.660Z"
   },
   {
    "duration": 1771,
    "start_time": "2023-05-02T17:06:45.434Z"
   },
   {
    "duration": 362,
    "start_time": "2023-05-02T17:06:47.208Z"
   },
   {
    "duration": 28,
    "start_time": "2023-05-02T17:06:47.579Z"
   },
   {
    "duration": 17,
    "start_time": "2023-05-02T17:06:47.609Z"
   },
   {
    "duration": 72,
    "start_time": "2023-05-02T17:06:47.628Z"
   },
   {
    "duration": 11,
    "start_time": "2023-05-02T17:06:47.702Z"
   },
   {
    "duration": 22,
    "start_time": "2023-05-02T17:06:47.715Z"
   },
   {
    "duration": 69,
    "start_time": "2023-05-02T17:06:47.740Z"
   },
   {
    "duration": 28,
    "start_time": "2023-05-02T17:06:47.811Z"
   },
   {
    "duration": 137,
    "start_time": "2023-05-02T17:06:47.840Z"
   },
   {
    "duration": 26,
    "start_time": "2023-05-02T17:06:47.979Z"
   },
   {
    "duration": 62,
    "start_time": "2023-05-02T17:06:48.008Z"
   },
   {
    "duration": 33,
    "start_time": "2023-05-02T17:06:48.078Z"
   },
   {
    "duration": 34,
    "start_time": "2023-05-02T17:06:48.115Z"
   },
   {
    "duration": 70,
    "start_time": "2023-05-02T17:06:48.151Z"
   },
   {
    "duration": 82,
    "start_time": "2023-05-02T17:06:48.224Z"
   },
   {
    "duration": 10,
    "start_time": "2023-05-02T17:06:48.308Z"
   },
   {
    "duration": 12,
    "start_time": "2023-05-02T17:06:48.319Z"
   },
   {
    "duration": 234,
    "start_time": "2023-05-02T17:06:48.333Z"
   },
   {
    "duration": 160,
    "start_time": "2023-05-02T17:06:48.569Z"
   },
   {
    "duration": 25,
    "start_time": "2023-05-02T17:06:48.731Z"
   },
   {
    "duration": 55,
    "start_time": "2023-05-02T17:06:48.760Z"
   },
   {
    "duration": 386,
    "start_time": "2023-05-02T17:06:48.816Z"
   },
   {
    "duration": 284,
    "start_time": "2023-05-02T17:06:49.204Z"
   },
   {
    "duration": 412,
    "start_time": "2023-05-02T17:06:49.490Z"
   },
   {
    "duration": 309,
    "start_time": "2023-05-02T17:06:49.904Z"
   },
   {
    "duration": 457,
    "start_time": "2023-05-02T17:06:50.214Z"
   },
   {
    "duration": 26,
    "start_time": "2023-05-02T17:06:50.673Z"
   },
   {
    "duration": 264,
    "start_time": "2023-05-02T17:06:50.701Z"
   },
   {
    "duration": 324,
    "start_time": "2023-05-02T17:06:50.976Z"
   },
   {
    "duration": 8,
    "start_time": "2023-05-02T17:06:51.302Z"
   },
   {
    "duration": 361,
    "start_time": "2023-05-02T17:06:51.312Z"
   },
   {
    "duration": 208,
    "start_time": "2023-05-02T17:06:51.681Z"
   },
   {
    "duration": 213,
    "start_time": "2023-05-02T17:06:51.891Z"
   },
   {
    "duration": 5,
    "start_time": "2023-05-02T17:06:52.106Z"
   },
   {
    "duration": 310,
    "start_time": "2023-05-02T17:06:52.113Z"
   },
   {
    "duration": 179,
    "start_time": "2023-05-02T17:06:52.425Z"
   },
   {
    "duration": 4,
    "start_time": "2023-05-02T17:06:52.606Z"
   },
   {
    "duration": 111,
    "start_time": "2023-05-02T17:06:52.612Z"
   },
   {
    "duration": 31,
    "start_time": "2023-05-02T17:06:52.724Z"
   },
   {
    "duration": 47,
    "start_time": "2023-05-02T17:06:52.769Z"
   },
   {
    "duration": 60,
    "start_time": "2023-05-02T17:06:52.818Z"
   },
   {
    "duration": 23,
    "start_time": "2023-05-02T17:06:52.890Z"
   }
  ],
  "kernelspec": {
   "display_name": "Python 3 (ipykernel)",
   "language": "python",
   "name": "python3"
  },
  "language_info": {
   "codemirror_mode": {
    "name": "ipython",
    "version": 3
   },
   "file_extension": ".py",
   "mimetype": "text/x-python",
   "name": "python",
   "nbconvert_exporter": "python",
   "pygments_lexer": "ipython3",
   "version": "3.11.4"
  },
  "toc": {
   "base_numbering": 1,
   "nav_menu": {
    "height": "614.4px",
    "width": "1035.4px"
   },
   "number_sections": true,
   "sideBar": true,
   "skip_h1_title": true,
   "title_cell": "Table of Contents",
   "title_sidebar": "Contents",
   "toc_cell": false,
   "toc_position": {},
   "toc_section_display": true,
   "toc_window_display": true
  }
 },
 "nbformat": 4,
 "nbformat_minor": 2
}
