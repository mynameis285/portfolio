{
 "cells": [
  {
   "cell_type": "markdown",
   "id": "8e0e2efa",
   "metadata": {},
   "source": [
    "[Презентация](https://drive.google.com/file/d/1fto0wf6p8eq5G0PlRxjEfsJjuWyvSdN2/view?usp=sharing)\n",
    "\n",
    "[Дашборд](https://public.tableau.com/views/Dash_bank_16895912547900/sheet1?:language=en-US&:display_count=n&:origin=viz_share_link)"
   ]
  },
  {
   "cell_type": "markdown",
   "id": "d70a5698",
   "metadata": {},
   "source": [
    "# Анализ оттока клиентов"
   ]
  },
  {
   "cell_type": "markdown",
   "id": "139f496a",
   "metadata": {},
   "source": [
    "В нашем распоряжении файл `bank_scrooge.csv`, содержащий информацию о клиентах регионального банка.\n",
    "\n",
    "Необходимо проанализировать клиентов банка и выделить сегменты клиентов, которые склонны уходить из банка.\n",
    "\n",
    "Описание данных\n",
    "файла `bank_scrooge.csv`:\n",
    "- `userid` — идентификатор пользователя;\n",
    "- `score` — баллы кредитного скоринга;\n",
    "- `city` - город;\n",
    "- `gender` - пол;\n",
    "- `age` - возраст;\n",
    "- `equity` - количество баллов собственности;\n",
    "- `balance` - баланс на счёте;\n",
    "- `products` - количество продуктов, которыми пользуется клиент;\n",
    "- `credit_card` - есть ли кредитная карта (1 - есть, 0 - нет);\n",
    "- `last_activity` - активный клиент (1 - активный, 0 - не активный);\n",
    "- `estimated_salary` - заработная плата клиента;\n",
    "- `churn` - ушел или нет (1 - ушел, 0 - нет).\n",
    "\n",
    "\n",
    "**Ход исследования**\n",
    "\n",
    "О качестве данных ничего неизвестно, поэтому, перед тем как перейти к исследованию, необходимо будет провести обзор данных.\n",
    "\n",
    "Проведем обзор данных и поищем возможность исправить ошибки, которые могут привести к искажению конечных результатов. Проведем исследовательский анализ и проверку гипотез. В конце дадим рекомендации, оформим результаты в презентации и сделаем дашборд.\n",
    "\n",
    "Таким образом, наше исследование пройдет в 10 этапов:\n",
    "\n",
    "- Обзор данных;\n",
    "- Предобработка данных;\n",
    "- Анализ отточности клиентов по параметрам;\n",
    "- Корреляционный анализ;\n",
    "- Проверка гипотез;\n",
    "- Сегментация;\n",
    "- Общий вывод;\n",
    "- Рекомендации;\n",
    "- Подготовка презентации;\n",
    "- Дашборд."
   ]
  },
  {
   "cell_type": "markdown",
   "id": "d3c897fd",
   "metadata": {},
   "source": [
    "## Загрузка и первичный осмотр данных."
   ]
  },
  {
   "cell_type": "markdown",
   "id": "af0a3aa1",
   "metadata": {},
   "source": [
    "### Загрузка данных из файла в датафрейм."
   ]
  },
  {
   "cell_type": "code",
   "execution_count": 1,
   "id": "b7c5c71f",
   "metadata": {},
   "outputs": [],
   "source": [
    "#импорт библиотек\n",
    "\n",
    "import pandas as pd\n",
    "import matplotlib.pyplot as plt\n",
    "import numpy as np\n",
    "import seaborn as sns\n",
    "import scipy.stats as stats\n",
    "from scipy import stats as st\n",
    "import phik"
   ]
  },
  {
   "cell_type": "code",
   "execution_count": 2,
   "id": "b2efa0d7",
   "metadata": {},
   "outputs": [],
   "source": [
    "#чтение файла и сохранение в data\n",
    "\n",
    "data = pd.read_csv('https://code.s3.yandex.net/datasets/bank_scrooge.csv')"
   ]
  },
  {
   "cell_type": "markdown",
   "id": "5fb8282a",
   "metadata": {},
   "source": [
    "### Изучение общей информации о полученном датафрейме."
   ]
  },
  {
   "cell_type": "code",
   "execution_count": 3,
   "id": "10acc1f1",
   "metadata": {},
   "outputs": [
    {
     "data": {
      "text/html": [
       "<div>\n",
       "<style scoped>\n",
       "    .dataframe tbody tr th:only-of-type {\n",
       "        vertical-align: middle;\n",
       "    }\n",
       "\n",
       "    .dataframe tbody tr th {\n",
       "        vertical-align: top;\n",
       "    }\n",
       "\n",
       "    .dataframe thead th {\n",
       "        text-align: right;\n",
       "    }\n",
       "</style>\n",
       "<table border=\"1\" class=\"dataframe\">\n",
       "  <thead>\n",
       "    <tr style=\"text-align: right;\">\n",
       "      <th></th>\n",
       "      <th>USERID</th>\n",
       "      <th>score</th>\n",
       "      <th>city</th>\n",
       "      <th>gender</th>\n",
       "      <th>age</th>\n",
       "      <th>equity</th>\n",
       "      <th>balance</th>\n",
       "      <th>products</th>\n",
       "      <th>credit_card</th>\n",
       "      <th>last_activity</th>\n",
       "      <th>EST_SALARY</th>\n",
       "      <th>churn</th>\n",
       "    </tr>\n",
       "  </thead>\n",
       "  <tbody>\n",
       "    <tr>\n",
       "      <th>0</th>\n",
       "      <td>183012</td>\n",
       "      <td>850.0</td>\n",
       "      <td>Рыбинск</td>\n",
       "      <td>Ж</td>\n",
       "      <td>25.0</td>\n",
       "      <td>1</td>\n",
       "      <td>59214.82</td>\n",
       "      <td>2</td>\n",
       "      <td>0</td>\n",
       "      <td>1</td>\n",
       "      <td>75719.14</td>\n",
       "      <td>1</td>\n",
       "    </tr>\n",
       "    <tr>\n",
       "      <th>1</th>\n",
       "      <td>146556</td>\n",
       "      <td>861.0</td>\n",
       "      <td>Рыбинск</td>\n",
       "      <td>Ж</td>\n",
       "      <td>37.0</td>\n",
       "      <td>5</td>\n",
       "      <td>850594.33</td>\n",
       "      <td>3</td>\n",
       "      <td>1</td>\n",
       "      <td>0</td>\n",
       "      <td>86621.77</td>\n",
       "      <td>0</td>\n",
       "    </tr>\n",
       "    <tr>\n",
       "      <th>2</th>\n",
       "      <td>120722</td>\n",
       "      <td>892.0</td>\n",
       "      <td>Рыбинск</td>\n",
       "      <td>Ж</td>\n",
       "      <td>30.0</td>\n",
       "      <td>0</td>\n",
       "      <td>NaN</td>\n",
       "      <td>1</td>\n",
       "      <td>1</td>\n",
       "      <td>1</td>\n",
       "      <td>107683.34</td>\n",
       "      <td>0</td>\n",
       "    </tr>\n",
       "    <tr>\n",
       "      <th>3</th>\n",
       "      <td>225363</td>\n",
       "      <td>866.0</td>\n",
       "      <td>Ярославль</td>\n",
       "      <td>Ж</td>\n",
       "      <td>51.0</td>\n",
       "      <td>5</td>\n",
       "      <td>1524746.26</td>\n",
       "      <td>2</td>\n",
       "      <td>0</td>\n",
       "      <td>1</td>\n",
       "      <td>174423.53</td>\n",
       "      <td>1</td>\n",
       "    </tr>\n",
       "    <tr>\n",
       "      <th>4</th>\n",
       "      <td>157978</td>\n",
       "      <td>730.0</td>\n",
       "      <td>Ярославль</td>\n",
       "      <td>М</td>\n",
       "      <td>34.0</td>\n",
       "      <td>5</td>\n",
       "      <td>174.00</td>\n",
       "      <td>1</td>\n",
       "      <td>1</td>\n",
       "      <td>0</td>\n",
       "      <td>67353.16</td>\n",
       "      <td>1</td>\n",
       "    </tr>\n",
       "  </tbody>\n",
       "</table>\n",
       "</div>"
      ],
      "text/plain": [
       "   USERID  score       city gender   age  equity     balance  products  \\\n",
       "0  183012  850.0    Рыбинск      Ж  25.0       1    59214.82         2   \n",
       "1  146556  861.0    Рыбинск      Ж  37.0       5   850594.33         3   \n",
       "2  120722  892.0    Рыбинск      Ж  30.0       0         NaN         1   \n",
       "3  225363  866.0  Ярославль      Ж  51.0       5  1524746.26         2   \n",
       "4  157978  730.0  Ярославль      М  34.0       5      174.00         1   \n",
       "\n",
       "   credit_card  last_activity  EST_SALARY  churn  \n",
       "0            0              1    75719.14      1  \n",
       "1            1              0    86621.77      0  \n",
       "2            1              1   107683.34      0  \n",
       "3            0              1   174423.53      1  \n",
       "4            1              0    67353.16      1  "
      ]
     },
     "execution_count": 3,
     "metadata": {},
     "output_type": "execute_result"
    }
   ],
   "source": [
    "#первые 5 строк\n",
    "\n",
    "data.head(5)"
   ]
  },
  {
   "cell_type": "code",
   "execution_count": 4,
   "id": "55cfdfb7",
   "metadata": {},
   "outputs": [
    {
     "name": "stdout",
     "output_type": "stream",
     "text": [
      "<class 'pandas.core.frame.DataFrame'>\n",
      "RangeIndex: 10000 entries, 0 to 9999\n",
      "Data columns (total 12 columns):\n",
      " #   Column         Non-Null Count  Dtype  \n",
      "---  ------         --------------  -----  \n",
      " 0   USERID         10000 non-null  int64  \n",
      " 1   score          10000 non-null  float64\n",
      " 2   city           10000 non-null  object \n",
      " 3   gender         10000 non-null  object \n",
      " 4   age            9974 non-null   float64\n",
      " 5   equity         10000 non-null  int64  \n",
      " 6   balance        7705 non-null   float64\n",
      " 7   products       10000 non-null  int64  \n",
      " 8   credit_card    10000 non-null  int64  \n",
      " 9   last_activity  10000 non-null  int64  \n",
      " 10  EST_SALARY     10000 non-null  float64\n",
      " 11  churn          10000 non-null  int64  \n",
      "dtypes: float64(4), int64(6), object(2)\n",
      "memory usage: 937.6+ KB\n"
     ]
    }
   ],
   "source": [
    "#общая информация о данных\n",
    "\n",
    "data.info()"
   ]
  },
  {
   "cell_type": "code",
   "execution_count": 5,
   "id": "ebbd000c",
   "metadata": {
    "scrolled": true
   },
   "outputs": [
    {
     "data": {
      "text/html": [
       "<div>\n",
       "<style scoped>\n",
       "    .dataframe tbody tr th:only-of-type {\n",
       "        vertical-align: middle;\n",
       "    }\n",
       "\n",
       "    .dataframe tbody tr th {\n",
       "        vertical-align: top;\n",
       "    }\n",
       "\n",
       "    .dataframe thead th {\n",
       "        text-align: right;\n",
       "    }\n",
       "</style>\n",
       "<table border=\"1\" class=\"dataframe\">\n",
       "  <thead>\n",
       "    <tr style=\"text-align: right;\">\n",
       "      <th></th>\n",
       "      <th>USERID</th>\n",
       "      <th>score</th>\n",
       "      <th>age</th>\n",
       "      <th>equity</th>\n",
       "      <th>balance</th>\n",
       "      <th>products</th>\n",
       "      <th>credit_card</th>\n",
       "      <th>last_activity</th>\n",
       "      <th>EST_SALARY</th>\n",
       "      <th>churn</th>\n",
       "    </tr>\n",
       "  </thead>\n",
       "  <tbody>\n",
       "    <tr>\n",
       "      <th>count</th>\n",
       "      <td>10000.00000</td>\n",
       "      <td>10000.000000</td>\n",
       "      <td>9974.000000</td>\n",
       "      <td>10000.000000</td>\n",
       "      <td>7.705000e+03</td>\n",
       "      <td>10000.000000</td>\n",
       "      <td>10000.000000</td>\n",
       "      <td>10000.000000</td>\n",
       "      <td>1.000000e+04</td>\n",
       "      <td>10000.000000</td>\n",
       "    </tr>\n",
       "    <tr>\n",
       "      <th>mean</th>\n",
       "      <td>171814.71260</td>\n",
       "      <td>848.699400</td>\n",
       "      <td>42.734409</td>\n",
       "      <td>2.627600</td>\n",
       "      <td>8.277943e+05</td>\n",
       "      <td>1.870100</td>\n",
       "      <td>0.680400</td>\n",
       "      <td>0.523500</td>\n",
       "      <td>1.478669e+05</td>\n",
       "      <td>0.182000</td>\n",
       "    </tr>\n",
       "    <tr>\n",
       "      <th>std</th>\n",
       "      <td>33708.23812</td>\n",
       "      <td>65.448519</td>\n",
       "      <td>12.179971</td>\n",
       "      <td>1.980836</td>\n",
       "      <td>1.980614e+06</td>\n",
       "      <td>0.792647</td>\n",
       "      <td>0.466345</td>\n",
       "      <td>0.499472</td>\n",
       "      <td>1.393885e+05</td>\n",
       "      <td>0.385864</td>\n",
       "    </tr>\n",
       "    <tr>\n",
       "      <th>min</th>\n",
       "      <td>94561.00000</td>\n",
       "      <td>642.000000</td>\n",
       "      <td>18.000000</td>\n",
       "      <td>0.000000</td>\n",
       "      <td>0.000000e+00</td>\n",
       "      <td>0.000000</td>\n",
       "      <td>0.000000</td>\n",
       "      <td>0.000000</td>\n",
       "      <td>2.546300e+03</td>\n",
       "      <td>0.000000</td>\n",
       "    </tr>\n",
       "    <tr>\n",
       "      <th>25%</th>\n",
       "      <td>142810.25000</td>\n",
       "      <td>802.000000</td>\n",
       "      <td>33.000000</td>\n",
       "      <td>0.000000</td>\n",
       "      <td>2.955542e+05</td>\n",
       "      <td>1.000000</td>\n",
       "      <td>0.000000</td>\n",
       "      <td>0.000000</td>\n",
       "      <td>7.525190e+04</td>\n",
       "      <td>0.000000</td>\n",
       "    </tr>\n",
       "    <tr>\n",
       "      <th>50%</th>\n",
       "      <td>172728.00000</td>\n",
       "      <td>853.000000</td>\n",
       "      <td>40.000000</td>\n",
       "      <td>3.000000</td>\n",
       "      <td>5.242722e+05</td>\n",
       "      <td>2.000000</td>\n",
       "      <td>1.000000</td>\n",
       "      <td>1.000000</td>\n",
       "      <td>1.196581e+05</td>\n",
       "      <td>0.000000</td>\n",
       "    </tr>\n",
       "    <tr>\n",
       "      <th>75%</th>\n",
       "      <td>201261.75000</td>\n",
       "      <td>900.000000</td>\n",
       "      <td>51.000000</td>\n",
       "      <td>4.000000</td>\n",
       "      <td>9.807058e+05</td>\n",
       "      <td>2.000000</td>\n",
       "      <td>1.000000</td>\n",
       "      <td>1.000000</td>\n",
       "      <td>1.745005e+05</td>\n",
       "      <td>0.000000</td>\n",
       "    </tr>\n",
       "    <tr>\n",
       "      <th>max</th>\n",
       "      <td>229145.00000</td>\n",
       "      <td>1000.000000</td>\n",
       "      <td>86.000000</td>\n",
       "      <td>9.000000</td>\n",
       "      <td>1.191136e+08</td>\n",
       "      <td>5.000000</td>\n",
       "      <td>1.000000</td>\n",
       "      <td>1.000000</td>\n",
       "      <td>1.395064e+06</td>\n",
       "      <td>1.000000</td>\n",
       "    </tr>\n",
       "  </tbody>\n",
       "</table>\n",
       "</div>"
      ],
      "text/plain": [
       "             USERID         score          age        equity       balance  \\\n",
       "count   10000.00000  10000.000000  9974.000000  10000.000000  7.705000e+03   \n",
       "mean   171814.71260    848.699400    42.734409      2.627600  8.277943e+05   \n",
       "std     33708.23812     65.448519    12.179971      1.980836  1.980614e+06   \n",
       "min     94561.00000    642.000000    18.000000      0.000000  0.000000e+00   \n",
       "25%    142810.25000    802.000000    33.000000      0.000000  2.955542e+05   \n",
       "50%    172728.00000    853.000000    40.000000      3.000000  5.242722e+05   \n",
       "75%    201261.75000    900.000000    51.000000      4.000000  9.807058e+05   \n",
       "max    229145.00000   1000.000000    86.000000      9.000000  1.191136e+08   \n",
       "\n",
       "           products   credit_card  last_activity    EST_SALARY         churn  \n",
       "count  10000.000000  10000.000000   10000.000000  1.000000e+04  10000.000000  \n",
       "mean       1.870100      0.680400       0.523500  1.478669e+05      0.182000  \n",
       "std        0.792647      0.466345       0.499472  1.393885e+05      0.385864  \n",
       "min        0.000000      0.000000       0.000000  2.546300e+03      0.000000  \n",
       "25%        1.000000      0.000000       0.000000  7.525190e+04      0.000000  \n",
       "50%        2.000000      1.000000       1.000000  1.196581e+05      0.000000  \n",
       "75%        2.000000      1.000000       1.000000  1.745005e+05      0.000000  \n",
       "max        5.000000      1.000000       1.000000  1.395064e+06      1.000000  "
      ]
     },
     "execution_count": 5,
     "metadata": {},
     "output_type": "execute_result"
    }
   ],
   "source": [
    "#взглянем на максимальные, минимальные, средние и медианные значения\n",
    "\n",
    "data.describe()"
   ]
  },
  {
   "cell_type": "markdown",
   "id": "efb179d7",
   "metadata": {},
   "source": [
    "**Вывод:** при первичном осмотре мы видим, что нескольким столбцам необходимо редактировать наименование, есть пропуски, можно изменить тип данных столбца возвраста. Приступим к предобработке."
   ]
  },
  {
   "cell_type": "markdown",
   "id": "cf344bc9",
   "metadata": {},
   "source": [
    "## Предобработка данных."
   ]
  },
  {
   "cell_type": "markdown",
   "id": "9d6a7c47",
   "metadata": {},
   "source": [
    "### Наименование колонок."
   ]
  },
  {
   "cell_type": "code",
   "execution_count": 6,
   "id": "f77409ea",
   "metadata": {
    "scrolled": true
   },
   "outputs": [
    {
     "data": {
      "text/html": [
       "<div>\n",
       "<style scoped>\n",
       "    .dataframe tbody tr th:only-of-type {\n",
       "        vertical-align: middle;\n",
       "    }\n",
       "\n",
       "    .dataframe tbody tr th {\n",
       "        vertical-align: top;\n",
       "    }\n",
       "\n",
       "    .dataframe thead th {\n",
       "        text-align: right;\n",
       "    }\n",
       "</style>\n",
       "<table border=\"1\" class=\"dataframe\">\n",
       "  <thead>\n",
       "    <tr style=\"text-align: right;\">\n",
       "      <th></th>\n",
       "      <th>user_id</th>\n",
       "      <th>score</th>\n",
       "      <th>city</th>\n",
       "      <th>gender</th>\n",
       "      <th>age</th>\n",
       "      <th>equity</th>\n",
       "      <th>balance</th>\n",
       "      <th>products</th>\n",
       "      <th>credit_card</th>\n",
       "      <th>last_activity</th>\n",
       "      <th>salary</th>\n",
       "      <th>churn</th>\n",
       "    </tr>\n",
       "  </thead>\n",
       "  <tbody>\n",
       "    <tr>\n",
       "      <th>0</th>\n",
       "      <td>183012</td>\n",
       "      <td>850.0</td>\n",
       "      <td>Рыбинск</td>\n",
       "      <td>Ж</td>\n",
       "      <td>25.0</td>\n",
       "      <td>1</td>\n",
       "      <td>59214.82</td>\n",
       "      <td>2</td>\n",
       "      <td>0</td>\n",
       "      <td>1</td>\n",
       "      <td>75719.14</td>\n",
       "      <td>1</td>\n",
       "    </tr>\n",
       "  </tbody>\n",
       "</table>\n",
       "</div>"
      ],
      "text/plain": [
       "   user_id  score     city gender   age  equity   balance  products  \\\n",
       "0   183012  850.0  Рыбинск      Ж  25.0       1  59214.82         2   \n",
       "\n",
       "   credit_card  last_activity    salary  churn  \n",
       "0            0              1  75719.14      1  "
      ]
     },
     "execution_count": 6,
     "metadata": {},
     "output_type": "execute_result"
    }
   ],
   "source": [
    "#поменяем названия на более удобное и стилистически правильное\n",
    "\n",
    "data = data.rename(columns={'USERID':'user_id', 'EST_SALARY':'salary'})\n",
    "data.head(1)"
   ]
  },
  {
   "cell_type": "markdown",
   "id": "30688e6b",
   "metadata": {},
   "source": [
    "### Пропущенные значения."
   ]
  },
  {
   "cell_type": "code",
   "execution_count": 7,
   "id": "03dacb4e",
   "metadata": {
    "scrolled": true
   },
   "outputs": [
    {
     "data": {
      "text/plain": [
       "user_id             0\n",
       "score               0\n",
       "city                0\n",
       "gender              0\n",
       "age                26\n",
       "equity              0\n",
       "balance          2295\n",
       "products            0\n",
       "credit_card         0\n",
       "last_activity       0\n",
       "salary              0\n",
       "churn               0\n",
       "dtype: int64"
      ]
     },
     "execution_count": 7,
     "metadata": {},
     "output_type": "execute_result"
    }
   ],
   "source": [
    "# определим количество пропущенных значений\n",
    "\n",
    "data.isna().sum()"
   ]
  },
  {
   "cell_type": "code",
   "execution_count": 8,
   "id": "382d7bdf",
   "metadata": {
    "scrolled": false
   },
   "outputs": [
    {
     "data": {
      "text/html": [
       "<style type=\"text/css\">\n",
       "#T_ca4eb_row0_col0, #T_ca4eb_row1_col0, #T_ca4eb_row2_col0, #T_ca4eb_row3_col0, #T_ca4eb_row5_col0, #T_ca4eb_row7_col0, #T_ca4eb_row8_col0, #T_ca4eb_row9_col0, #T_ca4eb_row10_col0, #T_ca4eb_row11_col0 {\n",
       "  background-color: #3b4cc0;\n",
       "  color: #f1f1f1;\n",
       "}\n",
       "#T_ca4eb_row4_col0 {\n",
       "  background-color: #3d50c3;\n",
       "  color: #f1f1f1;\n",
       "}\n",
       "#T_ca4eb_row6_col0 {\n",
       "  background-color: #b40426;\n",
       "  color: #f1f1f1;\n",
       "}\n",
       "</style>\n",
       "<table id=\"T_ca4eb\">\n",
       "  <thead>\n",
       "    <tr>\n",
       "      <th class=\"blank level0\" >&nbsp;</th>\n",
       "      <th id=\"T_ca4eb_level0_col0\" class=\"col_heading level0 col0\" >0</th>\n",
       "    </tr>\n",
       "  </thead>\n",
       "  <tbody>\n",
       "    <tr>\n",
       "      <th id=\"T_ca4eb_level0_row0\" class=\"row_heading level0 row0\" >user_id</th>\n",
       "      <td id=\"T_ca4eb_row0_col0\" class=\"data row0 col0\" >0.000000</td>\n",
       "    </tr>\n",
       "    <tr>\n",
       "      <th id=\"T_ca4eb_level0_row1\" class=\"row_heading level0 row1\" >score</th>\n",
       "      <td id=\"T_ca4eb_row1_col0\" class=\"data row1 col0\" >0.000000</td>\n",
       "    </tr>\n",
       "    <tr>\n",
       "      <th id=\"T_ca4eb_level0_row2\" class=\"row_heading level0 row2\" >city</th>\n",
       "      <td id=\"T_ca4eb_row2_col0\" class=\"data row2 col0\" >0.000000</td>\n",
       "    </tr>\n",
       "    <tr>\n",
       "      <th id=\"T_ca4eb_level0_row3\" class=\"row_heading level0 row3\" >gender</th>\n",
       "      <td id=\"T_ca4eb_row3_col0\" class=\"data row3 col0\" >0.000000</td>\n",
       "    </tr>\n",
       "    <tr>\n",
       "      <th id=\"T_ca4eb_level0_row4\" class=\"row_heading level0 row4\" >age</th>\n",
       "      <td id=\"T_ca4eb_row4_col0\" class=\"data row4 col0\" >0.260000</td>\n",
       "    </tr>\n",
       "    <tr>\n",
       "      <th id=\"T_ca4eb_level0_row5\" class=\"row_heading level0 row5\" >equity</th>\n",
       "      <td id=\"T_ca4eb_row5_col0\" class=\"data row5 col0\" >0.000000</td>\n",
       "    </tr>\n",
       "    <tr>\n",
       "      <th id=\"T_ca4eb_level0_row6\" class=\"row_heading level0 row6\" >balance</th>\n",
       "      <td id=\"T_ca4eb_row6_col0\" class=\"data row6 col0\" >22.950000</td>\n",
       "    </tr>\n",
       "    <tr>\n",
       "      <th id=\"T_ca4eb_level0_row7\" class=\"row_heading level0 row7\" >products</th>\n",
       "      <td id=\"T_ca4eb_row7_col0\" class=\"data row7 col0\" >0.000000</td>\n",
       "    </tr>\n",
       "    <tr>\n",
       "      <th id=\"T_ca4eb_level0_row8\" class=\"row_heading level0 row8\" >credit_card</th>\n",
       "      <td id=\"T_ca4eb_row8_col0\" class=\"data row8 col0\" >0.000000</td>\n",
       "    </tr>\n",
       "    <tr>\n",
       "      <th id=\"T_ca4eb_level0_row9\" class=\"row_heading level0 row9\" >last_activity</th>\n",
       "      <td id=\"T_ca4eb_row9_col0\" class=\"data row9 col0\" >0.000000</td>\n",
       "    </tr>\n",
       "    <tr>\n",
       "      <th id=\"T_ca4eb_level0_row10\" class=\"row_heading level0 row10\" >salary</th>\n",
       "      <td id=\"T_ca4eb_row10_col0\" class=\"data row10 col0\" >0.000000</td>\n",
       "    </tr>\n",
       "    <tr>\n",
       "      <th id=\"T_ca4eb_level0_row11\" class=\"row_heading level0 row11\" >churn</th>\n",
       "      <td id=\"T_ca4eb_row11_col0\" class=\"data row11 col0\" >0.000000</td>\n",
       "    </tr>\n",
       "  </tbody>\n",
       "</table>\n"
      ],
      "text/plain": [
       "<pandas.io.formats.style.Styler at 0x2465be8d450>"
      ]
     },
     "execution_count": 8,
     "metadata": {},
     "output_type": "execute_result"
    }
   ],
   "source": [
    "# посмотрим на количество пропусков в %\n",
    "\n",
    "pd.DataFrame(round(data.isna().mean()*100,2)).style.background_gradient('coolwarm') # посмотрим процентное соотношение"
   ]
  },
  {
   "cell_type": "markdown",
   "id": "0763e613",
   "metadata": {},
   "source": [
    "Как мы видели ранее, есть пропуски в столбцах с балансом и возрастом. Пропуски в балансе оставим и никак заполнять не будем, к сожалению, у нас нет данных о имеющихся банковских продуктах, возможно, какие-то продукты не подразумевают наличие баланса на счете, например это может быть страхование или кредитный счет, на который, в день погашения очередного платежа, происходит зачисление с дебетового счета(автоплатеж). Может быть баланс указан только у владельцев дебетовой карты. Какие-то закономерности сложно отследить - города разные, значения количества продуктов и наличия кредитной карты тоже. Заполнять значения средним в такой ситуации будет некорректно.\n",
    "\n",
    "В столбце возраста удалим строки с пропусками, их немного."
   ]
  },
  {
   "cell_type": "code",
   "execution_count": 9,
   "id": "7dc53a36",
   "metadata": {},
   "outputs": [],
   "source": [
    "# удаляем пропуски\n",
    "\n",
    "data = data.dropna(subset=['age']) "
   ]
  },
  {
   "cell_type": "markdown",
   "id": "13830d61",
   "metadata": {},
   "source": [
    "### Типы данных."
   ]
  },
  {
   "cell_type": "code",
   "execution_count": 10,
   "id": "54d55804",
   "metadata": {},
   "outputs": [
    {
     "data": {
      "text/plain": [
       "user_id            int64\n",
       "score            float64\n",
       "city              object\n",
       "gender            object\n",
       "age                 int8\n",
       "equity             int64\n",
       "balance          float64\n",
       "products           int64\n",
       "credit_card        int64\n",
       "last_activity      int64\n",
       "salary           float64\n",
       "churn              int64\n",
       "dtype: object"
      ]
     },
     "execution_count": 10,
     "metadata": {},
     "output_type": "execute_result"
    }
   ],
   "source": [
    "#меняем тип данных\n",
    "\n",
    "data['age'] = data['age'].astype('int8')\n",
    "data.dtypes"
   ]
  },
  {
   "cell_type": "markdown",
   "id": "f39d5b73",
   "metadata": {},
   "source": [
    "### Явные и неявные дубликаты."
   ]
  },
  {
   "cell_type": "code",
   "execution_count": 11,
   "id": "ea087e35",
   "metadata": {
    "scrolled": true
   },
   "outputs": [
    {
     "data": {
      "text/plain": [
       "0"
      ]
     },
     "execution_count": 11,
     "metadata": {},
     "output_type": "execute_result"
    }
   ],
   "source": [
    "#посмотрим на количество дубликатов\n",
    "\n",
    "data.duplicated().sum()"
   ]
  },
  {
   "cell_type": "markdown",
   "id": "45415bda",
   "metadata": {},
   "source": [
    "Явных дубликатов не наблюдаем. Посмотрим, есть ли дубликаты в столбце `user_id`"
   ]
  },
  {
   "cell_type": "code",
   "execution_count": 12,
   "id": "075c4e59",
   "metadata": {
    "scrolled": true
   },
   "outputs": [
    {
     "name": "stdout",
     "output_type": "stream",
     "text": [
      "Количество уникальных значений в столбце user_id: 9924\n"
     ]
    }
   ],
   "source": [
    "print('Количество уникальных значений в столбце user_id:', data['user_id'].nunique())"
   ]
  },
  {
   "cell_type": "markdown",
   "id": "0e6d4d4d",
   "metadata": {},
   "source": [
    "Следовательно, есть 50 дубликатов user_id, постараемся выяснить природу их возникновения и далее решим, что с ними делать."
   ]
  },
  {
   "cell_type": "code",
   "execution_count": 13,
   "id": "14a79dab",
   "metadata": {},
   "outputs": [
    {
     "data": {
      "text/html": [
       "<div>\n",
       "<style scoped>\n",
       "    .dataframe tbody tr th:only-of-type {\n",
       "        vertical-align: middle;\n",
       "    }\n",
       "\n",
       "    .dataframe tbody tr th {\n",
       "        vertical-align: top;\n",
       "    }\n",
       "\n",
       "    .dataframe thead th {\n",
       "        text-align: right;\n",
       "    }\n",
       "</style>\n",
       "<table border=\"1\" class=\"dataframe\">\n",
       "  <thead>\n",
       "    <tr style=\"text-align: right;\">\n",
       "      <th></th>\n",
       "      <th>user_id</th>\n",
       "      <th>score</th>\n",
       "      <th>city</th>\n",
       "      <th>gender</th>\n",
       "      <th>age</th>\n",
       "      <th>equity</th>\n",
       "      <th>balance</th>\n",
       "      <th>products</th>\n",
       "      <th>credit_card</th>\n",
       "      <th>last_activity</th>\n",
       "      <th>salary</th>\n",
       "      <th>churn</th>\n",
       "    </tr>\n",
       "  </thead>\n",
       "  <tbody>\n",
       "    <tr>\n",
       "      <th>8497</th>\n",
       "      <td>227795</td>\n",
       "      <td>839.0</td>\n",
       "      <td>Ярославль</td>\n",
       "      <td>М</td>\n",
       "      <td>34</td>\n",
       "      <td>2</td>\n",
       "      <td>326593.14</td>\n",
       "      <td>2</td>\n",
       "      <td>1</td>\n",
       "      <td>0</td>\n",
       "      <td>103314.92</td>\n",
       "      <td>0</td>\n",
       "    </tr>\n",
       "    <tr>\n",
       "      <th>8205</th>\n",
       "      <td>227795</td>\n",
       "      <td>840.0</td>\n",
       "      <td>Рыбинск</td>\n",
       "      <td>М</td>\n",
       "      <td>34</td>\n",
       "      <td>2</td>\n",
       "      <td>350768.03</td>\n",
       "      <td>1</td>\n",
       "      <td>1</td>\n",
       "      <td>0</td>\n",
       "      <td>102036.14</td>\n",
       "      <td>1</td>\n",
       "    </tr>\n",
       "    <tr>\n",
       "      <th>4216</th>\n",
       "      <td>226719</td>\n",
       "      <td>903.0</td>\n",
       "      <td>Рыбинск</td>\n",
       "      <td>Ж</td>\n",
       "      <td>63</td>\n",
       "      <td>0</td>\n",
       "      <td>NaN</td>\n",
       "      <td>1</td>\n",
       "      <td>1</td>\n",
       "      <td>0</td>\n",
       "      <td>138582.58</td>\n",
       "      <td>0</td>\n",
       "    </tr>\n",
       "    <tr>\n",
       "      <th>2597</th>\n",
       "      <td>226719</td>\n",
       "      <td>990.0</td>\n",
       "      <td>Ярославль</td>\n",
       "      <td>М</td>\n",
       "      <td>37</td>\n",
       "      <td>4</td>\n",
       "      <td>14648692.14</td>\n",
       "      <td>2</td>\n",
       "      <td>0</td>\n",
       "      <td>0</td>\n",
       "      <td>934412.61</td>\n",
       "      <td>1</td>\n",
       "    </tr>\n",
       "    <tr>\n",
       "      <th>2302</th>\n",
       "      <td>220816</td>\n",
       "      <td>934.0</td>\n",
       "      <td>Рыбинск</td>\n",
       "      <td>Ж</td>\n",
       "      <td>74</td>\n",
       "      <td>5</td>\n",
       "      <td>1294285.39</td>\n",
       "      <td>3</td>\n",
       "      <td>1</td>\n",
       "      <td>0</td>\n",
       "      <td>95606.80</td>\n",
       "      <td>0</td>\n",
       "    </tr>\n",
       "    <tr>\n",
       "      <th>1740</th>\n",
       "      <td>220816</td>\n",
       "      <td>840.0</td>\n",
       "      <td>Ярославль</td>\n",
       "      <td>Ж</td>\n",
       "      <td>41</td>\n",
       "      <td>3</td>\n",
       "      <td>1193287.13</td>\n",
       "      <td>2</td>\n",
       "      <td>1</td>\n",
       "      <td>1</td>\n",
       "      <td>76434.94</td>\n",
       "      <td>1</td>\n",
       "    </tr>\n",
       "    <tr>\n",
       "      <th>9406</th>\n",
       "      <td>217826</td>\n",
       "      <td>790.0</td>\n",
       "      <td>Рыбинск</td>\n",
       "      <td>Ж</td>\n",
       "      <td>46</td>\n",
       "      <td>4</td>\n",
       "      <td>430414.80</td>\n",
       "      <td>2</td>\n",
       "      <td>1</td>\n",
       "      <td>1</td>\n",
       "      <td>49400.37</td>\n",
       "      <td>0</td>\n",
       "    </tr>\n",
       "    <tr>\n",
       "      <th>4623</th>\n",
       "      <td>217826</td>\n",
       "      <td>842.0</td>\n",
       "      <td>Ярославль</td>\n",
       "      <td>М</td>\n",
       "      <td>39</td>\n",
       "      <td>4</td>\n",
       "      <td>439747.65</td>\n",
       "      <td>2</td>\n",
       "      <td>0</td>\n",
       "      <td>1</td>\n",
       "      <td>116736.75</td>\n",
       "      <td>1</td>\n",
       "    </tr>\n",
       "    <tr>\n",
       "      <th>1970</th>\n",
       "      <td>217643</td>\n",
       "      <td>845.0</td>\n",
       "      <td>Ярославль</td>\n",
       "      <td>М</td>\n",
       "      <td>29</td>\n",
       "      <td>5</td>\n",
       "      <td>733098.45</td>\n",
       "      <td>4</td>\n",
       "      <td>1</td>\n",
       "      <td>1</td>\n",
       "      <td>41443.01</td>\n",
       "      <td>1</td>\n",
       "    </tr>\n",
       "    <tr>\n",
       "      <th>4186</th>\n",
       "      <td>217643</td>\n",
       "      <td>804.0</td>\n",
       "      <td>Рыбинск</td>\n",
       "      <td>Ж</td>\n",
       "      <td>40</td>\n",
       "      <td>2</td>\n",
       "      <td>301836.65</td>\n",
       "      <td>2</td>\n",
       "      <td>1</td>\n",
       "      <td>1</td>\n",
       "      <td>81137.22</td>\n",
       "      <td>0</td>\n",
       "    </tr>\n",
       "    <tr>\n",
       "      <th>5807</th>\n",
       "      <td>217619</td>\n",
       "      <td>766.0</td>\n",
       "      <td>Ярославль</td>\n",
       "      <td>М</td>\n",
       "      <td>52</td>\n",
       "      <td>2</td>\n",
       "      <td>218199.47</td>\n",
       "      <td>1</td>\n",
       "      <td>1</td>\n",
       "      <td>0</td>\n",
       "      <td>120356.44</td>\n",
       "      <td>0</td>\n",
       "    </tr>\n",
       "    <tr>\n",
       "      <th>4611</th>\n",
       "      <td>217619</td>\n",
       "      <td>903.0</td>\n",
       "      <td>Рыбинск</td>\n",
       "      <td>Ж</td>\n",
       "      <td>59</td>\n",
       "      <td>5</td>\n",
       "      <td>844055.83</td>\n",
       "      <td>2</td>\n",
       "      <td>0</td>\n",
       "      <td>1</td>\n",
       "      <td>133999.76</td>\n",
       "      <td>1</td>\n",
       "    </tr>\n",
       "    <tr>\n",
       "      <th>9880</th>\n",
       "      <td>217412</td>\n",
       "      <td>886.0</td>\n",
       "      <td>Ярославль</td>\n",
       "      <td>Ж</td>\n",
       "      <td>35</td>\n",
       "      <td>3</td>\n",
       "      <td>1026172.14</td>\n",
       "      <td>2</td>\n",
       "      <td>1</td>\n",
       "      <td>0</td>\n",
       "      <td>53099.16</td>\n",
       "      <td>0</td>\n",
       "    </tr>\n",
       "    <tr>\n",
       "      <th>7055</th>\n",
       "      <td>217412</td>\n",
       "      <td>879.0</td>\n",
       "      <td>Рыбинск</td>\n",
       "      <td>М</td>\n",
       "      <td>42</td>\n",
       "      <td>5</td>\n",
       "      <td>568140.15</td>\n",
       "      <td>3</td>\n",
       "      <td>0</td>\n",
       "      <td>0</td>\n",
       "      <td>231658.67</td>\n",
       "      <td>1</td>\n",
       "    </tr>\n",
       "    <tr>\n",
       "      <th>1359</th>\n",
       "      <td>211130</td>\n",
       "      <td>833.0</td>\n",
       "      <td>Ярославль</td>\n",
       "      <td>М</td>\n",
       "      <td>55</td>\n",
       "      <td>3</td>\n",
       "      <td>1231184.90</td>\n",
       "      <td>4</td>\n",
       "      <td>0</td>\n",
       "      <td>1</td>\n",
       "      <td>187758.38</td>\n",
       "      <td>1</td>\n",
       "    </tr>\n",
       "    <tr>\n",
       "      <th>3817</th>\n",
       "      <td>211130</td>\n",
       "      <td>918.0</td>\n",
       "      <td>Рыбинск</td>\n",
       "      <td>Ж</td>\n",
       "      <td>55</td>\n",
       "      <td>0</td>\n",
       "      <td>NaN</td>\n",
       "      <td>2</td>\n",
       "      <td>1</td>\n",
       "      <td>1</td>\n",
       "      <td>244202.04</td>\n",
       "      <td>0</td>\n",
       "    </tr>\n",
       "    <tr>\n",
       "      <th>7814</th>\n",
       "      <td>210792</td>\n",
       "      <td>839.0</td>\n",
       "      <td>Ярославль</td>\n",
       "      <td>М</td>\n",
       "      <td>42</td>\n",
       "      <td>2</td>\n",
       "      <td>662646.97</td>\n",
       "      <td>1</td>\n",
       "      <td>1</td>\n",
       "      <td>0</td>\n",
       "      <td>138403.60</td>\n",
       "      <td>0</td>\n",
       "    </tr>\n",
       "    <tr>\n",
       "      <th>4986</th>\n",
       "      <td>210792</td>\n",
       "      <td>884.0</td>\n",
       "      <td>Рыбинск</td>\n",
       "      <td>М</td>\n",
       "      <td>48</td>\n",
       "      <td>4</td>\n",
       "      <td>2228037.20</td>\n",
       "      <td>2</td>\n",
       "      <td>0</td>\n",
       "      <td>1</td>\n",
       "      <td>207978.09</td>\n",
       "      <td>1</td>\n",
       "    </tr>\n",
       "    <tr>\n",
       "      <th>869</th>\n",
       "      <td>210662</td>\n",
       "      <td>962.0</td>\n",
       "      <td>Ярославль</td>\n",
       "      <td>Ж</td>\n",
       "      <td>54</td>\n",
       "      <td>5</td>\n",
       "      <td>5069231.39</td>\n",
       "      <td>1</td>\n",
       "      <td>1</td>\n",
       "      <td>1</td>\n",
       "      <td>955144.85</td>\n",
       "      <td>1</td>\n",
       "    </tr>\n",
       "    <tr>\n",
       "      <th>1837</th>\n",
       "      <td>210662</td>\n",
       "      <td>896.0</td>\n",
       "      <td>Рыбинск</td>\n",
       "      <td>Ж</td>\n",
       "      <td>37</td>\n",
       "      <td>0</td>\n",
       "      <td>NaN</td>\n",
       "      <td>2</td>\n",
       "      <td>0</td>\n",
       "      <td>0</td>\n",
       "      <td>90916.04</td>\n",
       "      <td>0</td>\n",
       "    </tr>\n",
       "    <tr>\n",
       "      <th>7453</th>\n",
       "      <td>210627</td>\n",
       "      <td>864.0</td>\n",
       "      <td>Ярославль</td>\n",
       "      <td>Ж</td>\n",
       "      <td>38</td>\n",
       "      <td>4</td>\n",
       "      <td>1527225.32</td>\n",
       "      <td>4</td>\n",
       "      <td>1</td>\n",
       "      <td>1</td>\n",
       "      <td>162999.17</td>\n",
       "      <td>1</td>\n",
       "    </tr>\n",
       "    <tr>\n",
       "      <th>8521</th>\n",
       "      <td>210627</td>\n",
       "      <td>804.0</td>\n",
       "      <td>Рыбинск</td>\n",
       "      <td>М</td>\n",
       "      <td>30</td>\n",
       "      <td>2</td>\n",
       "      <td>347818.88</td>\n",
       "      <td>3</td>\n",
       "      <td>1</td>\n",
       "      <td>0</td>\n",
       "      <td>129015.25</td>\n",
       "      <td>0</td>\n",
       "    </tr>\n",
       "    <tr>\n",
       "      <th>3350</th>\n",
       "      <td>208815</td>\n",
       "      <td>877.0</td>\n",
       "      <td>Рыбинск</td>\n",
       "      <td>М</td>\n",
       "      <td>25</td>\n",
       "      <td>4</td>\n",
       "      <td>239421.18</td>\n",
       "      <td>1</td>\n",
       "      <td>1</td>\n",
       "      <td>1</td>\n",
       "      <td>48638.00</td>\n",
       "      <td>1</td>\n",
       "    </tr>\n",
       "    <tr>\n",
       "      <th>5570</th>\n",
       "      <td>208815</td>\n",
       "      <td>773.0</td>\n",
       "      <td>Ярославль</td>\n",
       "      <td>М</td>\n",
       "      <td>39</td>\n",
       "      <td>4</td>\n",
       "      <td>288110.09</td>\n",
       "      <td>2</td>\n",
       "      <td>1</td>\n",
       "      <td>0</td>\n",
       "      <td>56971.91</td>\n",
       "      <td>0</td>\n",
       "    </tr>\n",
       "    <tr>\n",
       "      <th>5840</th>\n",
       "      <td>208738</td>\n",
       "      <td>839.0</td>\n",
       "      <td>Ярославль</td>\n",
       "      <td>М</td>\n",
       "      <td>60</td>\n",
       "      <td>5</td>\n",
       "      <td>1102438.37</td>\n",
       "      <td>2</td>\n",
       "      <td>0</td>\n",
       "      <td>1</td>\n",
       "      <td>116500.81</td>\n",
       "      <td>0</td>\n",
       "    </tr>\n",
       "    <tr>\n",
       "      <th>1580</th>\n",
       "      <td>208738</td>\n",
       "      <td>897.0</td>\n",
       "      <td>Рыбинск</td>\n",
       "      <td>Ж</td>\n",
       "      <td>45</td>\n",
       "      <td>5</td>\n",
       "      <td>859018.19</td>\n",
       "      <td>2</td>\n",
       "      <td>1</td>\n",
       "      <td>1</td>\n",
       "      <td>145510.08</td>\n",
       "      <td>1</td>\n",
       "    </tr>\n",
       "    <tr>\n",
       "      <th>2998</th>\n",
       "      <td>208081</td>\n",
       "      <td>821.0</td>\n",
       "      <td>Рыбинск</td>\n",
       "      <td>Ж</td>\n",
       "      <td>62</td>\n",
       "      <td>3</td>\n",
       "      <td>493608.26</td>\n",
       "      <td>2</td>\n",
       "      <td>1</td>\n",
       "      <td>1</td>\n",
       "      <td>33491.45</td>\n",
       "      <td>0</td>\n",
       "    </tr>\n",
       "    <tr>\n",
       "      <th>1513</th>\n",
       "      <td>208081</td>\n",
       "      <td>873.0</td>\n",
       "      <td>Ярославль</td>\n",
       "      <td>М</td>\n",
       "      <td>31</td>\n",
       "      <td>2</td>\n",
       "      <td>232814.75</td>\n",
       "      <td>2</td>\n",
       "      <td>1</td>\n",
       "      <td>1</td>\n",
       "      <td>122505.86</td>\n",
       "      <td>1</td>\n",
       "    </tr>\n",
       "    <tr>\n",
       "      <th>9175</th>\n",
       "      <td>200863</td>\n",
       "      <td>832.0</td>\n",
       "      <td>Ярославль</td>\n",
       "      <td>М</td>\n",
       "      <td>42</td>\n",
       "      <td>5</td>\n",
       "      <td>620064.73</td>\n",
       "      <td>2</td>\n",
       "      <td>0</td>\n",
       "      <td>0</td>\n",
       "      <td>188054.46</td>\n",
       "      <td>0</td>\n",
       "    </tr>\n",
       "    <tr>\n",
       "      <th>9035</th>\n",
       "      <td>200863</td>\n",
       "      <td>933.0</td>\n",
       "      <td>Рыбинск</td>\n",
       "      <td>М</td>\n",
       "      <td>29</td>\n",
       "      <td>7</td>\n",
       "      <td>766924.56</td>\n",
       "      <td>2</td>\n",
       "      <td>0</td>\n",
       "      <td>1</td>\n",
       "      <td>89323.33</td>\n",
       "      <td>1</td>\n",
       "    </tr>\n",
       "  </tbody>\n",
       "</table>\n",
       "</div>"
      ],
      "text/plain": [
       "      user_id  score       city gender  age  equity      balance  products  \\\n",
       "8497   227795  839.0  Ярославль      М   34       2    326593.14         2   \n",
       "8205   227795  840.0    Рыбинск      М   34       2    350768.03         1   \n",
       "4216   226719  903.0    Рыбинск      Ж   63       0          NaN         1   \n",
       "2597   226719  990.0  Ярославль      М   37       4  14648692.14         2   \n",
       "2302   220816  934.0    Рыбинск      Ж   74       5   1294285.39         3   \n",
       "1740   220816  840.0  Ярославль      Ж   41       3   1193287.13         2   \n",
       "9406   217826  790.0    Рыбинск      Ж   46       4    430414.80         2   \n",
       "4623   217826  842.0  Ярославль      М   39       4    439747.65         2   \n",
       "1970   217643  845.0  Ярославль      М   29       5    733098.45         4   \n",
       "4186   217643  804.0    Рыбинск      Ж   40       2    301836.65         2   \n",
       "5807   217619  766.0  Ярославль      М   52       2    218199.47         1   \n",
       "4611   217619  903.0    Рыбинск      Ж   59       5    844055.83         2   \n",
       "9880   217412  886.0  Ярославль      Ж   35       3   1026172.14         2   \n",
       "7055   217412  879.0    Рыбинск      М   42       5    568140.15         3   \n",
       "1359   211130  833.0  Ярославль      М   55       3   1231184.90         4   \n",
       "3817   211130  918.0    Рыбинск      Ж   55       0          NaN         2   \n",
       "7814   210792  839.0  Ярославль      М   42       2    662646.97         1   \n",
       "4986   210792  884.0    Рыбинск      М   48       4   2228037.20         2   \n",
       "869    210662  962.0  Ярославль      Ж   54       5   5069231.39         1   \n",
       "1837   210662  896.0    Рыбинск      Ж   37       0          NaN         2   \n",
       "7453   210627  864.0  Ярославль      Ж   38       4   1527225.32         4   \n",
       "8521   210627  804.0    Рыбинск      М   30       2    347818.88         3   \n",
       "3350   208815  877.0    Рыбинск      М   25       4    239421.18         1   \n",
       "5570   208815  773.0  Ярославль      М   39       4    288110.09         2   \n",
       "5840   208738  839.0  Ярославль      М   60       5   1102438.37         2   \n",
       "1580   208738  897.0    Рыбинск      Ж   45       5    859018.19         2   \n",
       "2998   208081  821.0    Рыбинск      Ж   62       3    493608.26         2   \n",
       "1513   208081  873.0  Ярославль      М   31       2    232814.75         2   \n",
       "9175   200863  832.0  Ярославль      М   42       5    620064.73         2   \n",
       "9035   200863  933.0    Рыбинск      М   29       7    766924.56         2   \n",
       "\n",
       "      credit_card  last_activity     salary  churn  \n",
       "8497            1              0  103314.92      0  \n",
       "8205            1              0  102036.14      1  \n",
       "4216            1              0  138582.58      0  \n",
       "2597            0              0  934412.61      1  \n",
       "2302            1              0   95606.80      0  \n",
       "1740            1              1   76434.94      1  \n",
       "9406            1              1   49400.37      0  \n",
       "4623            0              1  116736.75      1  \n",
       "1970            1              1   41443.01      1  \n",
       "4186            1              1   81137.22      0  \n",
       "5807            1              0  120356.44      0  \n",
       "4611            0              1  133999.76      1  \n",
       "9880            1              0   53099.16      0  \n",
       "7055            0              0  231658.67      1  \n",
       "1359            0              1  187758.38      1  \n",
       "3817            1              1  244202.04      0  \n",
       "7814            1              0  138403.60      0  \n",
       "4986            0              1  207978.09      1  \n",
       "869             1              1  955144.85      1  \n",
       "1837            0              0   90916.04      0  \n",
       "7453            1              1  162999.17      1  \n",
       "8521            1              0  129015.25      0  \n",
       "3350            1              1   48638.00      1  \n",
       "5570            1              0   56971.91      0  \n",
       "5840            0              1  116500.81      0  \n",
       "1580            1              1  145510.08      1  \n",
       "2998            1              1   33491.45      0  \n",
       "1513            1              1  122505.86      1  \n",
       "9175            0              0  188054.46      0  \n",
       "9035            0              1   89323.33      1  "
      ]
     },
     "execution_count": 13,
     "metadata": {},
     "output_type": "execute_result"
    }
   ],
   "source": [
    "#отберем те id, которые встречаются в датафрейме более 1 раза.\n",
    "\n",
    "dupl = (\n",
    "    data['user_id'].value_counts()\n",
    "    .reset_index()\n",
    "    .query('user_id > 1') \n",
    ")\n",
    "\n",
    "\n",
    "#создадим из них список\n",
    "\n",
    "\n",
    "dupl = dupl['index'].tolist() \n",
    "\n",
    "\n",
    "#сохраним датафрейм, состоящий только из id дубликатов\n",
    "#и отсортируем, чтобы id в таблице были рядом\n",
    "\n",
    "\n",
    "dupl = (\n",
    "    data\n",
    "    .query('user_id==@dupl')\n",
    "    .sort_values('user_id',ascending=False) \n",
    ")\n",
    "\n",
    "\n",
    "#глянем на первые 15 пар дубликатов, постараемся найти какие-то особенности.\n",
    "\n",
    "dupl.head(30)"
   ]
  },
  {
   "cell_type": "markdown",
   "id": "06df2676",
   "metadata": {},
   "source": [
    "Мы видим, что каждая пара дубликатов состоит из двух городов Ярославль и Рыбинск. Среди этих пар есть особенность - один из контрагентов ушел из банка. Можно предположить, что после ухода клиента из банка, его id может быть присвоен другому - новоприбывшему.\n",
    "\n",
    "Таким образом, однозначно установить причину не представляется возможным (не забываем еще про вероятность технической ошибки). Исходя из того, теория имеет место быть, удалять дубликаты не будем, их не так много."
   ]
  },
  {
   "cell_type": "markdown",
   "id": "6c514a51",
   "metadata": {},
   "source": [
    "### Аномальные значения.\n",
    "\n",
    "еще раз посмотри на фрейм методом `describe()`"
   ]
  },
  {
   "cell_type": "code",
   "execution_count": 14,
   "id": "856372c2",
   "metadata": {
    "scrolled": false
   },
   "outputs": [
    {
     "data": {
      "text/html": [
       "<div>\n",
       "<style scoped>\n",
       "    .dataframe tbody tr th:only-of-type {\n",
       "        vertical-align: middle;\n",
       "    }\n",
       "\n",
       "    .dataframe tbody tr th {\n",
       "        vertical-align: top;\n",
       "    }\n",
       "\n",
       "    .dataframe thead th {\n",
       "        text-align: right;\n",
       "    }\n",
       "</style>\n",
       "<table border=\"1\" class=\"dataframe\">\n",
       "  <thead>\n",
       "    <tr style=\"text-align: right;\">\n",
       "      <th></th>\n",
       "      <th>user_id</th>\n",
       "      <th>score</th>\n",
       "      <th>age</th>\n",
       "      <th>equity</th>\n",
       "      <th>balance</th>\n",
       "      <th>products</th>\n",
       "      <th>credit_card</th>\n",
       "      <th>last_activity</th>\n",
       "      <th>salary</th>\n",
       "      <th>churn</th>\n",
       "    </tr>\n",
       "  </thead>\n",
       "  <tbody>\n",
       "    <tr>\n",
       "      <th>count</th>\n",
       "      <td>9974.000000</td>\n",
       "      <td>9974.000000</td>\n",
       "      <td>9974.000000</td>\n",
       "      <td>9974.000000</td>\n",
       "      <td>7.695000e+03</td>\n",
       "      <td>9974.000000</td>\n",
       "      <td>9974.000000</td>\n",
       "      <td>9974.000000</td>\n",
       "      <td>9.974000e+03</td>\n",
       "      <td>9974.000000</td>\n",
       "    </tr>\n",
       "    <tr>\n",
       "      <th>mean</th>\n",
       "      <td>171755.218669</td>\n",
       "      <td>848.682575</td>\n",
       "      <td>42.734409</td>\n",
       "      <td>2.630840</td>\n",
       "      <td>8.272456e+05</td>\n",
       "      <td>1.871466</td>\n",
       "      <td>0.680168</td>\n",
       "      <td>0.522859</td>\n",
       "      <td>1.477868e+05</td>\n",
       "      <td>0.182374</td>\n",
       "    </tr>\n",
       "    <tr>\n",
       "      <th>std</th>\n",
       "      <td>33695.527126</td>\n",
       "      <td>65.399720</td>\n",
       "      <td>12.179971</td>\n",
       "      <td>1.979965</td>\n",
       "      <td>1.980327e+06</td>\n",
       "      <td>0.792729</td>\n",
       "      <td>0.466435</td>\n",
       "      <td>0.499502</td>\n",
       "      <td>1.392855e+05</td>\n",
       "      <td>0.386172</td>\n",
       "    </tr>\n",
       "    <tr>\n",
       "      <th>min</th>\n",
       "      <td>94561.000000</td>\n",
       "      <td>642.000000</td>\n",
       "      <td>18.000000</td>\n",
       "      <td>0.000000</td>\n",
       "      <td>0.000000e+00</td>\n",
       "      <td>0.000000</td>\n",
       "      <td>0.000000</td>\n",
       "      <td>0.000000</td>\n",
       "      <td>2.546300e+03</td>\n",
       "      <td>0.000000</td>\n",
       "    </tr>\n",
       "    <tr>\n",
       "      <th>25%</th>\n",
       "      <td>142760.000000</td>\n",
       "      <td>802.000000</td>\n",
       "      <td>33.000000</td>\n",
       "      <td>0.000000</td>\n",
       "      <td>2.956987e+05</td>\n",
       "      <td>1.000000</td>\n",
       "      <td>0.000000</td>\n",
       "      <td>0.000000</td>\n",
       "      <td>7.525166e+04</td>\n",
       "      <td>0.000000</td>\n",
       "    </tr>\n",
       "    <tr>\n",
       "      <th>50%</th>\n",
       "      <td>172643.000000</td>\n",
       "      <td>853.000000</td>\n",
       "      <td>40.000000</td>\n",
       "      <td>3.000000</td>\n",
       "      <td>5.242953e+05</td>\n",
       "      <td>2.000000</td>\n",
       "      <td>1.000000</td>\n",
       "      <td>1.000000</td>\n",
       "      <td>1.196268e+05</td>\n",
       "      <td>0.000000</td>\n",
       "    </tr>\n",
       "    <tr>\n",
       "      <th>75%</th>\n",
       "      <td>201163.750000</td>\n",
       "      <td>900.000000</td>\n",
       "      <td>51.000000</td>\n",
       "      <td>4.000000</td>\n",
       "      <td>9.800512e+05</td>\n",
       "      <td>2.000000</td>\n",
       "      <td>1.000000</td>\n",
       "      <td>1.000000</td>\n",
       "      <td>1.744998e+05</td>\n",
       "      <td>0.000000</td>\n",
       "    </tr>\n",
       "    <tr>\n",
       "      <th>max</th>\n",
       "      <td>229145.000000</td>\n",
       "      <td>1000.000000</td>\n",
       "      <td>86.000000</td>\n",
       "      <td>9.000000</td>\n",
       "      <td>1.191136e+08</td>\n",
       "      <td>5.000000</td>\n",
       "      <td>1.000000</td>\n",
       "      <td>1.000000</td>\n",
       "      <td>1.395064e+06</td>\n",
       "      <td>1.000000</td>\n",
       "    </tr>\n",
       "  </tbody>\n",
       "</table>\n",
       "</div>"
      ],
      "text/plain": [
       "             user_id        score          age       equity       balance  \\\n",
       "count    9974.000000  9974.000000  9974.000000  9974.000000  7.695000e+03   \n",
       "mean   171755.218669   848.682575    42.734409     2.630840  8.272456e+05   \n",
       "std     33695.527126    65.399720    12.179971     1.979965  1.980327e+06   \n",
       "min     94561.000000   642.000000    18.000000     0.000000  0.000000e+00   \n",
       "25%    142760.000000   802.000000    33.000000     0.000000  2.956987e+05   \n",
       "50%    172643.000000   853.000000    40.000000     3.000000  5.242953e+05   \n",
       "75%    201163.750000   900.000000    51.000000     4.000000  9.800512e+05   \n",
       "max    229145.000000  1000.000000    86.000000     9.000000  1.191136e+08   \n",
       "\n",
       "          products  credit_card  last_activity        salary        churn  \n",
       "count  9974.000000  9974.000000    9974.000000  9.974000e+03  9974.000000  \n",
       "mean      1.871466     0.680168       0.522859  1.477868e+05     0.182374  \n",
       "std       0.792729     0.466435       0.499502  1.392855e+05     0.386172  \n",
       "min       0.000000     0.000000       0.000000  2.546300e+03     0.000000  \n",
       "25%       1.000000     0.000000       0.000000  7.525166e+04     0.000000  \n",
       "50%       2.000000     1.000000       1.000000  1.196268e+05     0.000000  \n",
       "75%       2.000000     1.000000       1.000000  1.744998e+05     0.000000  \n",
       "max       5.000000     1.000000       1.000000  1.395064e+06     1.000000  "
      ]
     },
     "execution_count": 14,
     "metadata": {},
     "output_type": "execute_result"
    }
   ],
   "source": [
    "data.describe()"
   ]
  },
  {
   "cell_type": "markdown",
   "id": "d4242c98",
   "metadata": {},
   "source": [
    "Пройдемся по каждому пункту и заодно ближе познакомимся со структурой:\n",
    "   * минимальное и максимальное значение кредитного скоринга - 642 и 1000. Вероятно это внутренняя система оценки клиентов банка, т.к. системы оценки бывают разные, например 0-100, 1-999. В нашем случае, видимо, 1-1000;\n",
    "   * максимальный возраст - 86 лет. Контрагент может быть держателем сбережений, или например, получать на карту какие-то пособия;\n",
    "   * шкала оценки баллов собственности 0-9;\n",
    "   * максимальный баланс - 119 млн. Сумма большая, но вполне может быть реальным значением;\n",
    "   * количество продуктов - от 0 до 5;\n",
    "   * зарплаты - от 2,5 тыс. до 1,4 млн. Значения также могут быть реальными.\n",
    "\n",
    "Можно было бы убрать 1% аномальных значений по столбцу с зарплатой, но, разделив фрейм на ушедших и оставшихся, я заметил, что соотношение данных до и после очистки особо не поменяется и таким образом не повлияет на исследование. Решено было не отделять аномалии."
   ]
  },
  {
   "cell_type": "markdown",
   "id": "0c816e78",
   "metadata": {},
   "source": [
    "**Вывод:**\n",
    "\n",
    "* переименовали несколько столбцов;\n",
    "* проанализировали пропуски, заполнили пропуски в столбце с возрастом;\n",
    "* изменили тип данных столбца с возрастом;\n",
    "* нашли и проанализировали 73 дубликата столбца `user_id`.\n",
    "* взглянули на выбросы по всем параметрам. Решено было не удалять выбросы."
   ]
  },
  {
   "cell_type": "markdown",
   "id": "b6c3d072",
   "metadata": {},
   "source": [
    "## Исследовательский анализ данных."
   ]
  },
  {
   "cell_type": "markdown",
   "id": "8e69c11d",
   "metadata": {},
   "source": [
    "### Доля оттока.\n",
    "\n",
    "Для начала разделим фрейм на оставшихся и ушедших и посмотрим долю клиентов, ушедших из банка."
   ]
  },
  {
   "cell_type": "code",
   "execution_count": 15,
   "id": "2535ab13",
   "metadata": {},
   "outputs": [
    {
     "name": "stdout",
     "output_type": "stream",
     "text": [
      "Доля клиентов, ушедших из банка: 18.2%\n",
      "\n",
      "В натуральных единицах, количество ушедших клиентов: 1819\n"
     ]
    }
   ],
   "source": [
    "#остались\n",
    "\n",
    "stayed = data.query('churn==0')\n",
    "\n",
    "#ушли\n",
    "\n",
    "gone = data.query('churn==1')\n",
    "\n",
    "#найдем долю\n",
    "\n",
    "\n",
    "share = len(gone)/len(data)\n",
    "\n",
    "print('Доля клиентов, ушедших из банка: {0:.1%}'.format(share))\n",
    "print()\n",
    "print('В натуральных единицах, количество ушедших клиентов:', len(gone))"
   ]
  },
  {
   "cell_type": "markdown",
   "id": "6019aa1d",
   "metadata": {},
   "source": [
    "Проанализируем данные по каждому столбцу, визуализируем анализ с помощью нормализованных гистограмм плотностей."
   ]
  },
  {
   "cell_type": "markdown",
   "id": "be0d7133",
   "metadata": {},
   "source": [
    "### Скоринг"
   ]
  },
  {
   "cell_type": "code",
   "execution_count": 16,
   "id": "2cb7e3d7",
   "metadata": {
    "scrolled": false
   },
   "outputs": [
    {
     "data": {
      "image/png": "[encoded data removed]",
      "text/plain": [
       "<Figure size 1500x700 with 1 Axes>"
      ]
     },
     "metadata": {},
     "output_type": "display_data"
    }
   ],
   "source": [
    "plt.rcParams['figure.figsize']=15,7\n",
    "ax = sns.histplot(data=data, x=\"score\", hue=\"churn\", stat = \"density\", common_norm =False, palette='flag')\n",
    "ax.set(xlabel=\"Баллы скоринга\", ylabel = \"Плотность частоты\",title = \"Нормализованная гистограмма плотности вероятностей - баллы скоринга\")\n",
    "plt.show()"
   ]
  },
  {
   "cell_type": "markdown",
   "id": "2d7806f7",
   "metadata": {},
   "source": [
    "Клиенты, имеющие от 820 до 900 баллов скоринга уходят из банка чаще. Можно также выделить небольшую зону с 920-930."
   ]
  },
  {
   "cell_type": "markdown",
   "id": "64c5e675",
   "metadata": {},
   "source": [
    "### Город"
   ]
  },
  {
   "cell_type": "markdown",
   "id": "2405e085",
   "metadata": {},
   "source": [
    "Посмотрим, какие города представлены в фрейме и как распределены доли."
   ]
  },
  {
   "cell_type": "code",
   "execution_count": 17,
   "id": "17899da7",
   "metadata": {
    "scrolled": false
   },
   "outputs": [
    {
     "data": {
      "text/html": [
       "<div>\n",
       "<style scoped>\n",
       "    .dataframe tbody tr th:only-of-type {\n",
       "        vertical-align: middle;\n",
       "    }\n",
       "\n",
       "    .dataframe tbody tr th {\n",
       "        vertical-align: top;\n",
       "    }\n",
       "\n",
       "    .dataframe thead th {\n",
       "        text-align: right;\n",
       "    }\n",
       "</style>\n",
       "<table border=\"1\" class=\"dataframe\">\n",
       "  <thead>\n",
       "    <tr style=\"text-align: right;\">\n",
       "      <th></th>\n",
       "      <th>city</th>\n",
       "      <th>count</th>\n",
       "      <th>share, %</th>\n",
       "    </tr>\n",
       "  </thead>\n",
       "  <tbody>\n",
       "    <tr>\n",
       "      <th>0</th>\n",
       "      <td>Ярославль</td>\n",
       "      <td>5875</td>\n",
       "      <td>58.9</td>\n",
       "    </tr>\n",
       "    <tr>\n",
       "      <th>1</th>\n",
       "      <td>Рыбинск</td>\n",
       "      <td>2683</td>\n",
       "      <td>26.9</td>\n",
       "    </tr>\n",
       "    <tr>\n",
       "      <th>2</th>\n",
       "      <td>Ростов</td>\n",
       "      <td>1416</td>\n",
       "      <td>14.2</td>\n",
       "    </tr>\n",
       "  </tbody>\n",
       "</table>\n",
       "</div>"
      ],
      "text/plain": [
       "        city  count  share, %\n",
       "0  Ярославль   5875      58.9\n",
       "1    Рыбинск   2683      26.9\n",
       "2     Ростов   1416      14.2"
      ]
     },
     "execution_count": 17,
     "metadata": {},
     "output_type": "execute_result"
    }
   ],
   "source": [
    "city = data.groupby('city')['user_id'].agg(count=('count')).sort_values('count', ascending=False).reset_index()\n",
    "city['share, %'] = round(city['count']/len(data)*100,1)\n",
    "city"
   ]
  },
  {
   "cell_type": "markdown",
   "id": "414498c0",
   "metadata": {},
   "source": [
    "И распределение в оттоке."
   ]
  },
  {
   "cell_type": "code",
   "execution_count": 18,
   "id": "40116e6b",
   "metadata": {},
   "outputs": [
    {
     "data": {
      "text/html": [
       "<div>\n",
       "<style scoped>\n",
       "    .dataframe tbody tr th:only-of-type {\n",
       "        vertical-align: middle;\n",
       "    }\n",
       "\n",
       "    .dataframe tbody tr th {\n",
       "        vertical-align: top;\n",
       "    }\n",
       "\n",
       "    .dataframe thead th {\n",
       "        text-align: right;\n",
       "    }\n",
       "</style>\n",
       "<table border=\"1\" class=\"dataframe\">\n",
       "  <thead>\n",
       "    <tr style=\"text-align: right;\">\n",
       "      <th></th>\n",
       "      <th>city</th>\n",
       "      <th>count</th>\n",
       "      <th>share, %</th>\n",
       "    </tr>\n",
       "  </thead>\n",
       "  <tbody>\n",
       "    <tr>\n",
       "      <th>0</th>\n",
       "      <td>Ярославль</td>\n",
       "      <td>1117</td>\n",
       "      <td>61.4</td>\n",
       "    </tr>\n",
       "    <tr>\n",
       "      <th>1</th>\n",
       "      <td>Рыбинск</td>\n",
       "      <td>437</td>\n",
       "      <td>24.0</td>\n",
       "    </tr>\n",
       "    <tr>\n",
       "      <th>2</th>\n",
       "      <td>Ростов</td>\n",
       "      <td>265</td>\n",
       "      <td>14.6</td>\n",
       "    </tr>\n",
       "  </tbody>\n",
       "</table>\n",
       "</div>"
      ],
      "text/plain": [
       "        city  count  share, %\n",
       "0  Ярославль   1117      61.4\n",
       "1    Рыбинск    437      24.0\n",
       "2     Ростов    265      14.6"
      ]
     },
     "execution_count": 18,
     "metadata": {},
     "output_type": "execute_result"
    }
   ],
   "source": [
    "city_gone = gone.groupby('city')['user_id'].agg(count=('count')).sort_values('count', ascending=False).reset_index()\n",
    "city_gone['share, %'] = round(city_gone['count']/len(gone)*100,1)\n",
    "city_gone"
   ]
  },
  {
   "cell_type": "code",
   "execution_count": 19,
   "id": "c0822a4e",
   "metadata": {
    "scrolled": false
   },
   "outputs": [
    {
     "data": {
      "image/png": "[encoded data removed]",
      "text/plain": [
       "<Figure size 800x500 with 1 Axes>"
      ]
     },
     "metadata": {},
     "output_type": "display_data"
    }
   ],
   "source": [
    "plt.rcParams['figure.figsize']=8,5\n",
    "ax = sns.histplot(data=data, x=\"city\", hue=\"churn\", stat = \"density\", common_norm =False, palette='flag')\n",
    "ax.set(xlabel=\"Города\", ylabel = \"Плотность частоты\",title = \"Нормализованная гистограмма плотности вероятностей - город\")\n",
    "plt.show()"
   ]
  },
  {
   "cell_type": "markdown",
   "id": "50c63cfd",
   "metadata": {},
   "source": [
    "В датафрейме представлены данные о клиентах из трех городов: Ярославль, Рыбинск и Ростов(Ярославская обл.)\n",
    "\n",
    "Как мы видим, распределение между клиентами ушедшими и оставшимися приблизительно одинаковое. Больше всего клиентов из Ярославля, отточных клиентов соответственно тоже."
   ]
  },
  {
   "cell_type": "markdown",
   "id": "6595e226",
   "metadata": {},
   "source": [
    "### Пол контрагента"
   ]
  },
  {
   "cell_type": "code",
   "execution_count": 20,
   "id": "71efae8a",
   "metadata": {},
   "outputs": [
    {
     "data": {
      "text/html": [
       "<div>\n",
       "<style scoped>\n",
       "    .dataframe tbody tr th:only-of-type {\n",
       "        vertical-align: middle;\n",
       "    }\n",
       "\n",
       "    .dataframe tbody tr th {\n",
       "        vertical-align: top;\n",
       "    }\n",
       "\n",
       "    .dataframe thead th {\n",
       "        text-align: right;\n",
       "    }\n",
       "</style>\n",
       "<table border=\"1\" class=\"dataframe\">\n",
       "  <thead>\n",
       "    <tr style=\"text-align: right;\">\n",
       "      <th></th>\n",
       "      <th>gender</th>\n",
       "      <th>count</th>\n",
       "      <th>share, %</th>\n",
       "    </tr>\n",
       "  </thead>\n",
       "  <tbody>\n",
       "    <tr>\n",
       "      <th>0</th>\n",
       "      <td>М</td>\n",
       "      <td>4991</td>\n",
       "      <td>50.0</td>\n",
       "    </tr>\n",
       "    <tr>\n",
       "      <th>1</th>\n",
       "      <td>Ж</td>\n",
       "      <td>4983</td>\n",
       "      <td>50.0</td>\n",
       "    </tr>\n",
       "  </tbody>\n",
       "</table>\n",
       "</div>"
      ],
      "text/plain": [
       "  gender  count  share, %\n",
       "0      М   4991      50.0\n",
       "1      Ж   4983      50.0"
      ]
     },
     "execution_count": 20,
     "metadata": {},
     "output_type": "execute_result"
    }
   ],
   "source": [
    "gender = data.groupby('gender')['user_id'].agg(count=('count')).sort_values('count', ascending=False).reset_index()\n",
    "gender['share, %'] = round(gender['count']/len(data)*100,1)\n",
    "gender"
   ]
  },
  {
   "cell_type": "markdown",
   "id": "12368bfe",
   "metadata": {},
   "source": [
    "Распределение по гендеру одинаковое\n",
    "\n",
    "Посмотрим распределение в оттоке."
   ]
  },
  {
   "cell_type": "code",
   "execution_count": 21,
   "id": "20ebc1b6",
   "metadata": {
    "scrolled": false
   },
   "outputs": [
    {
     "data": {
      "text/html": [
       "<div>\n",
       "<style scoped>\n",
       "    .dataframe tbody tr th:only-of-type {\n",
       "        vertical-align: middle;\n",
       "    }\n",
       "\n",
       "    .dataframe tbody tr th {\n",
       "        vertical-align: top;\n",
       "    }\n",
       "\n",
       "    .dataframe thead th {\n",
       "        text-align: right;\n",
       "    }\n",
       "</style>\n",
       "<table border=\"1\" class=\"dataframe\">\n",
       "  <thead>\n",
       "    <tr style=\"text-align: right;\">\n",
       "      <th></th>\n",
       "      <th>gender</th>\n",
       "      <th>count</th>\n",
       "      <th>share, %</th>\n",
       "    </tr>\n",
       "  </thead>\n",
       "  <tbody>\n",
       "    <tr>\n",
       "      <th>0</th>\n",
       "      <td>М</td>\n",
       "      <td>1183</td>\n",
       "      <td>65.0</td>\n",
       "    </tr>\n",
       "    <tr>\n",
       "      <th>1</th>\n",
       "      <td>Ж</td>\n",
       "      <td>636</td>\n",
       "      <td>35.0</td>\n",
       "    </tr>\n",
       "  </tbody>\n",
       "</table>\n",
       "</div>"
      ],
      "text/plain": [
       "  gender  count  share, %\n",
       "0      М   1183      65.0\n",
       "1      Ж    636      35.0"
      ]
     },
     "execution_count": 21,
     "metadata": {},
     "output_type": "execute_result"
    }
   ],
   "source": [
    "gender_gone = gone.groupby('gender')['user_id'].agg(count=('count')).sort_values('count', ascending=False).reset_index()\n",
    "gender_gone['share, %'] = round(gender_gone['count']/len(gone)*100,1)\n",
    "gender_gone"
   ]
  },
  {
   "cell_type": "code",
   "execution_count": 22,
   "id": "50de073e",
   "metadata": {},
   "outputs": [
    {
     "data": {
      "image/png": "[encoded data removed]",
      "text/plain": [
       "<Figure size 800x500 with 1 Axes>"
      ]
     },
     "metadata": {},
     "output_type": "display_data"
    }
   ],
   "source": [
    "plt.rcParams['figure.figsize']=8,5\n",
    "ax = sns.histplot(data=data, x=\"gender\", hue=\"churn\", stat = \"density\", common_norm =False, palette='flag')\n",
    "ax.set(xlabel=\"Пол\", ylabel = \"Плотность частоты\",title = \"Нормализованная гистограмма плотности вероятностей - пол\")\n",
    "plt.show()"
   ]
  },
  {
   "cell_type": "markdown",
   "id": "6b630613",
   "metadata": {},
   "source": [
    "Распределение мужчин и женщин в датафрейме одинаковое, однако, в разрезе оттока мы видим, что среди клиентов мужского пола большее количество ушедших."
   ]
  },
  {
   "cell_type": "markdown",
   "id": "0ebce01b",
   "metadata": {},
   "source": [
    "### Возраст"
   ]
  },
  {
   "cell_type": "code",
   "execution_count": 23,
   "id": "01b8effd",
   "metadata": {
    "scrolled": false
   },
   "outputs": [
    {
     "data": {
      "image/png": "[encoded data removed]",
      "text/plain": [
       "<Figure size 1500x700 with 1 Axes>"
      ]
     },
     "metadata": {},
     "output_type": "display_data"
    }
   ],
   "source": [
    "plt.rcParams['figure.figsize']=15,7\n",
    "ax = sns.histplot(data=data, x=\"age\", hue=\"churn\", stat = \"density\", common_norm =False, palette='flag')\n",
    "ax.set(xlabel=\"Возраст\", ylabel = \"Плотность частоты\",title = \"Нормализованная гистограмма плотности вероятностей - возраст клиентов\")\n",
    "plt.show()"
   ]
  },
  {
   "cell_type": "markdown",
   "id": "dcadf433",
   "metadata": {},
   "source": [
    "Мы видим, что чаще всего банк покидали клиенты двух возрастных категорий: ~23-36 и ~50-60 лет."
   ]
  },
  {
   "cell_type": "markdown",
   "id": "968736bf",
   "metadata": {},
   "source": [
    "### Баллы собственности"
   ]
  },
  {
   "cell_type": "code",
   "execution_count": 24,
   "id": "7d42d355",
   "metadata": {},
   "outputs": [
    {
     "data": {
      "image/png": "[encoded data removed]",
      "text/plain": [
       "<Figure size 1500x700 with 1 Axes>"
      ]
     },
     "metadata": {},
     "output_type": "display_data"
    }
   ],
   "source": [
    "ax = sns.histplot(data=data, x=\"equity\", hue=\"churn\", stat = \"density\", common_norm =False, palette='flag', binwidth= 0.5)\n",
    "ax.set(xlabel=\"Баллы собственности\", ylabel = \"Плотность частоты\",title = \"Нормализованная гистограмма плотности вероятностей - баллы собственности\")\n",
    "plt.show()"
   ]
  },
  {
   "cell_type": "markdown",
   "id": "04d9c3f7",
   "metadata": {},
   "source": [
    "Банк покидают клиенты, имеющие, как правило, 3 и более баллов собственности."
   ]
  },
  {
   "cell_type": "markdown",
   "id": "b18fe584",
   "metadata": {},
   "source": [
    "### Баланс"
   ]
  },
  {
   "cell_type": "code",
   "execution_count": 25,
   "id": "1711efb2",
   "metadata": {
    "scrolled": false
   },
   "outputs": [
    {
     "data": {
      "image/png": "[encoded data removed]",
      "text/plain": [
       "<Figure size 1500x700 with 1 Axes>"
      ]
     },
     "metadata": {},
     "output_type": "display_data"
    }
   ],
   "source": [
    "ax = sns.histplot(data=data, x=\"balance\", hue=\"churn\", stat = \"density\", common_norm =False, palette='flag')\n",
    "ax.set_xlim(1, 5000000)\n",
    "ax.set(xlabel=\"Баланс в млн.\", ylabel = \"Плотность частоты\",title = \"Нормализованная гистограмма плотности вероятностей - баланс на счете\")\n",
    "plt.show()"
   ]
  },
  {
   "cell_type": "markdown",
   "id": "fa231bf4",
   "metadata": {},
   "source": [
    "К оттоку склонны клиенты, имеющие на своих счетах внушительные суммы (приближаясь к миллиону и далее)."
   ]
  },
  {
   "cell_type": "markdown",
   "id": "9fa7a9a8",
   "metadata": {},
   "source": [
    "### Количество банковских продуктов"
   ]
  },
  {
   "cell_type": "code",
   "execution_count": 26,
   "id": "a16bbfd1",
   "metadata": {
    "scrolled": false
   },
   "outputs": [
    {
     "data": {
      "image/png": "[encoded data removed]",
      "text/plain": [
       "<Figure size 800x500 with 1 Axes>"
      ]
     },
     "metadata": {},
     "output_type": "display_data"
    }
   ],
   "source": [
    "plt.rcParams['figure.figsize']=8,5\n",
    "ax = sns.histplot(data=data, x=\"products\", hue=\"churn\", stat = \"density\", common_norm =False, palette='flag', binwidth= 0.4)\n",
    "ax.set(xlabel=\"Количество продуктов\", ylabel = \"Плотность частоты\",title = \"Нормализованная гистограмма плотности вероятностей - количество банковских продуктов\")\n",
    "plt.show()"
   ]
  },
  {
   "cell_type": "markdown",
   "id": "c0038fec",
   "metadata": {},
   "source": [
    "Количество продуктов также является значимым критерием, особенно это заметно среди клиентов, имеющих от 3-х продуктов."
   ]
  },
  {
   "cell_type": "markdown",
   "id": "eb0e6119",
   "metadata": {},
   "source": [
    "### Кредитная карта"
   ]
  },
  {
   "cell_type": "code",
   "execution_count": 27,
   "id": "4ffbc4cd",
   "metadata": {
    "scrolled": false
   },
   "outputs": [
    {
     "data": {
      "image/png": "[encoded data removed]",
      "text/plain": [
       "<Figure size 800x500 with 1 Axes>"
      ]
     },
     "metadata": {},
     "output_type": "display_data"
    }
   ],
   "source": [
    "plt.rcParams['figure.figsize']=8,5\n",
    "ax = sns.histplot(data=data, x=\"credit_card\", hue=\"churn\", stat = \"density\", common_norm =False, palette='flag')\n",
    "ax.set(xlabel=\"Наличие кредитной карты, 1-есть, 0-нет\", ylabel = \"Плотность частоты\",title = \"Нормализованная гистограмма плотности вероятностей - наличие кредитной карты\")\n",
    "plt.show()"
   ]
  },
  {
   "cell_type": "markdown",
   "id": "62c53a1a",
   "metadata": {},
   "source": [
    "Наличие кредитной карты имеет меньшее значение - чаще уходят клиенты, не имеющие кредиток."
   ]
  },
  {
   "cell_type": "markdown",
   "id": "e64a9fcc",
   "metadata": {},
   "source": [
    "### Активность клиента"
   ]
  },
  {
   "cell_type": "code",
   "execution_count": 28,
   "id": "cb3884ae",
   "metadata": {
    "scrolled": false
   },
   "outputs": [
    {
     "data": {
      "image/png": "[encoded data removed]",
      "text/plain": [
       "<Figure size 800x500 with 1 Axes>"
      ]
     },
     "metadata": {},
     "output_type": "display_data"
    }
   ],
   "source": [
    "plt.rcParams['figure.figsize']=8,5\n",
    "ax = sns.histplot(data=data, x=\"last_activity\", hue=\"churn\", stat = \"density\", common_norm =False, palette='flag')\n",
    "ax.set(xlabel=\"Активность клиента, 1-активный, 0-не активный\", ylabel = \"Плотность частоты\",title = \"Нормализованная гистограмма плотности вероятностей - активность клиента\")\n",
    "plt.show()"
   ]
  },
  {
   "cell_type": "markdown",
   "id": "1b5f0b9a",
   "metadata": {},
   "source": [
    "Чаще уходят активные клиенты, чем неактивные - это логично, если клиент совсем не пользуется банковскими продуктами, он врядли станет делать лишние шаги и оформлять свой уход из банка официально."
   ]
  },
  {
   "cell_type": "markdown",
   "id": "4a563422",
   "metadata": {},
   "source": [
    "### Заработная плата"
   ]
  },
  {
   "cell_type": "code",
   "execution_count": 29,
   "id": "5ebef596",
   "metadata": {
    "scrolled": false
   },
   "outputs": [
    {
     "data": {
      "image/png": "[encoded data removed]",
      "text/plain": [
       "<Figure size 1500x700 with 1 Axes>"
      ]
     },
     "metadata": {},
     "output_type": "display_data"
    }
   ],
   "source": [
    "plt.rcParams['figure.figsize']=15,7\n",
    "ax = sns.histplot(data=data, x=\"salary\", hue=\"churn\", stat = \"density\", common_norm =False, palette='flag')\n",
    "ax.set_xlim(1, 600000)\n",
    "ax.set(xlabel=\"Зарплата в тыс.\", ylabel = \"Плотность частоты\",title = \"Нормализованная гистограмма плотности вероятностей - заработная плата\")\n",
    "plt.show()"
   ]
  },
  {
   "cell_type": "markdown",
   "id": "28dc4253",
   "metadata": {},
   "source": [
    "Клиенты, имеющие зарплаты ближе к 100тыс. и далее более склонны к оттоку."
   ]
  },
  {
   "cell_type": "markdown",
   "id": "210bbe32",
   "metadata": {},
   "source": [
    "**Вывод:**\n",
    "\n",
    "к оттоку склонны клиенты:\n",
    "* имеющие от 820 до 900 баллов скоринга;\n",
    "* мужского пола;\n",
    "* возвраста ~23-36 и ~50-60 лет;\n",
    "* имеющие 3 и более баллов собственности;\n",
    "* с балансом на счете свыше 800тыс.;\n",
    "* имеющие 3 и более банковских продуктов;\n",
    "* не имеющие кредитной карты;\n",
    "* активные;\n",
    "* получающие зарплаты свыше 80 тыс."
   ]
  },
  {
   "cell_type": "markdown",
   "id": "8efcaed2",
   "metadata": {},
   "source": [
    "### Корреляция"
   ]
  },
  {
   "cell_type": "markdown",
   "id": "99b61430",
   "metadata": {},
   "source": [
    "Посмотрим матрицу корреялции по всему датафрейму."
   ]
  },
  {
   "cell_type": "code",
   "execution_count": 30,
   "id": "7dc5c085",
   "metadata": {
    "scrolled": false
   },
   "outputs": [
    {
     "name": "stdout",
     "output_type": "stream",
     "text": [
      "interval columns not set, guessing: ['score', 'age', 'equity', 'balance', 'products', 'credit_card', 'last_activity', 'salary', 'churn']\n"
     ]
    },
    {
     "data": {
      "image/png": "[encoded data removed]",
      "text/plain": [
       "<Figure size 1500x700 with 2 Axes>"
      ]
     },
     "metadata": {},
     "output_type": "display_data"
    }
   ],
   "source": [
    "#убираем столбец user_id\n",
    "\n",
    "data_corr = data.drop('user_id', axis=1) \n",
    "\n",
    "plt.rcParams['figure.figsize']=15,7\n",
    "ax = sns.heatmap(data_corr.phik_matrix(), annot = True, fmt='.0%', center= 0, cmap= 'coolwarm', linewidths=1, linecolor='black')\n",
    "ax.set(title = \"Матрица корреляции\")\n",
    "plt.show()"
   ]
  },
  {
   "cell_type": "markdown",
   "id": "c6771343",
   "metadata": {},
   "source": [
    "Матрица выглядит логично. Например, баланс на счете больше всего зависит от зарплаты, а наличие кредитной карты от количества продуктов. Для себя можем отметить также, что на значение баллов скоринга влияет зарплата, наличие имущества и количество продуктов.\n",
    "\n",
    "Выведем отдельным столбцом отток."
   ]
  },
  {
   "cell_type": "code",
   "execution_count": 31,
   "id": "51fe6623",
   "metadata": {
    "scrolled": false
   },
   "outputs": [
    {
     "name": "stdout",
     "output_type": "stream",
     "text": [
      "interval columns not set, guessing: ['score', 'age', 'equity', 'balance', 'products', 'credit_card', 'last_activity', 'salary', 'churn']\n"
     ]
    },
    {
     "data": {
      "image/png": "[encoded data removed]",
      "text/plain": [
       "<Figure size 1500x700 with 2 Axes>"
      ]
     },
     "metadata": {},
     "output_type": "display_data"
    }
   ],
   "source": [
    "ax = sns.heatmap(data_corr.phik_matrix().loc[:,['churn']].drop('churn').sort_values('churn'),\n",
    "            annot=True, fmt='.0%',cmap='coolwarm',center=0, linewidths=1, linecolor='black')\n",
    "ax.set(title = \"Корреляция оттока\")\n",
    "plt.show()"
   ]
  },
  {
   "cell_type": "markdown",
   "id": "1335d421",
   "metadata": {},
   "source": [
    "**Вывод:** отдельно по столбцу оттока мы видим влияние тех или иных параметров. Наиболее значимым оказался параметр количества продуктов, следом идет параметр баллов имущества, ну и конечно, клиент активный."
   ]
  },
  {
   "cell_type": "markdown",
   "id": "553fdbbc",
   "metadata": {},
   "source": [
    "## Проверка гипотез"
   ]
  },
  {
   "cell_type": "markdown",
   "id": "e10e0a84",
   "metadata": {},
   "source": [
    "Проверять гипотезы будем при помощи t-теста.\n",
    "Проверим, равны ли средние значения двух генеральных совокупностей выборок. Использовать будем функцию ttest_ind библиотеки scipy.\n",
    "\n",
    "В параметре equal_var укажем значение False, т.к. выборки не равны между собой по размеру.\n",
    "\n",
    "Создадим функцию для проверки гипотез, ведь у нас их будет четыре."
   ]
  },
  {
   "cell_type": "code",
   "execution_count": 32,
   "id": "c9fe5932",
   "metadata": {},
   "outputs": [],
   "source": [
    "def pvalue_stat (group_a, group_b): \n",
    "    \"\"\"\n",
    "    \n",
    "    Функция для проверки статистических гипотез\n",
    "    \n",
    "    \"\"\"\n",
    "    alpha = 0.5\n",
    "    results = st.ttest_ind(group_a, group_b, equal_var=False)\n",
    "    print('pvalue:', results.pvalue)\n",
    "    if results.pvalue < alpha:\n",
    "          print('Отвергаем нулевую гипотезу')\n",
    "    else:\n",
    "          print('Не получилось отвергнуть нулевую гипотезу')\n",
    "    print('Относительная разница средних значений:{0:.2%}'.format(group_b.mean() / group_a.mean() - 1))"
   ]
  },
  {
   "cell_type": "markdown",
   "id": "6aadc212",
   "metadata": {},
   "source": [
    "### Доход"
   ]
  },
  {
   "cell_type": "markdown",
   "id": "590183d0",
   "metadata": {},
   "source": [
    "Сформулируем основную статистическую гипотезу и альтернативную:\n",
    "\n",
    "* H_0: различий дохода между теми клиентами которые остались и теми, которые ушли нет\n",
    "* H_1: различия дохода между теми клиентами которые остались и теми, которые ушли есть"
   ]
  },
  {
   "cell_type": "code",
   "execution_count": 33,
   "id": "dee862c0",
   "metadata": {
    "scrolled": true
   },
   "outputs": [
    {
     "name": "stdout",
     "output_type": "stream",
     "text": [
      "pvalue: 0.8515799588935961\n",
      "Не получилось отвергнуть нулевую гипотезу\n",
      "Относительная разница средних значений:0.42%\n"
     ]
    }
   ],
   "source": [
    "pvalue_stat(stayed['salary'].dropna(), gone['salary'].dropna())"
   ]
  },
  {
   "cell_type": "markdown",
   "id": "e4ccbf3f",
   "metadata": {},
   "source": [
    "### Активность"
   ]
  },
  {
   "cell_type": "markdown",
   "id": "a5920e8a",
   "metadata": {},
   "source": [
    "Сформулируем основную статистическую гипотезу и альтернативную:\n",
    "\n",
    "* H_0: различий параметра активности между теми клиентами которые остались и теми, которые ушли нет\n",
    "* H_1: различия параметра активности между теми клиентами которые остались и теми, которые ушли есть"
   ]
  },
  {
   "cell_type": "code",
   "execution_count": 34,
   "id": "1ebe9935",
   "metadata": {
    "scrolled": true
   },
   "outputs": [
    {
     "name": "stdout",
     "output_type": "stream",
     "text": [
      "pvalue: 8.100190763155924e-70\n",
      "Отвергаем нулевую гипотезу\n",
      "Относительная разница средних значений:45.38%\n"
     ]
    }
   ],
   "source": [
    "pvalue_stat(stayed['last_activity'].dropna(), gone['last_activity'].dropna())"
   ]
  },
  {
   "cell_type": "markdown",
   "id": "79515114",
   "metadata": {},
   "source": [
    "### Скорринг"
   ]
  },
  {
   "cell_type": "markdown",
   "id": "f166721b",
   "metadata": {},
   "source": [
    "Сформулируем основную статистическую гипотезу и альтернативную:\n",
    "\n",
    "* H_0: различий баллов кредитного скоринга между теми клиентами которые остались и теми, которые ушли нет\n",
    "* H_1: различия баллов кредитного скоринга между теми клиентами которые остались и теми, которые ушли есть"
   ]
  },
  {
   "cell_type": "code",
   "execution_count": 35,
   "id": "c85caaf9",
   "metadata": {
    "scrolled": true
   },
   "outputs": [
    {
     "name": "stdout",
     "output_type": "stream",
     "text": [
      "pvalue: 8.60332714629934e-38\n",
      "Отвергаем нулевую гипотезу\n",
      "Относительная разница средних значений:2.13%\n"
     ]
    }
   ],
   "source": [
    "pvalue_stat(stayed['score'].dropna(), gone['score'].dropna())"
   ]
  },
  {
   "cell_type": "markdown",
   "id": "03d976f2",
   "metadata": {},
   "source": [
    "### Количество продуктов"
   ]
  },
  {
   "cell_type": "markdown",
   "id": "6d0085df",
   "metadata": {},
   "source": [
    "Сформулируем основную статистическую гипотезу и альтернативную:\n",
    "\n",
    "* H_0: различий количества имеющихся банковских продуктов между теми клиентами которые остались и теми, которые ушли нет\n",
    "* H_1: различия в количестве имеющихся банковских продуктов между теми клиентами которые остались и теми, которые ушли есть"
   ]
  },
  {
   "cell_type": "code",
   "execution_count": 36,
   "id": "39fe20f1",
   "metadata": {
    "scrolled": true
   },
   "outputs": [
    {
     "name": "stdout",
     "output_type": "stream",
     "text": [
      "pvalue: 7.537464337201273e-138\n",
      "Отвергаем нулевую гипотезу\n",
      "Относительная разница средних значений:35.08%\n"
     ]
    }
   ],
   "source": [
    "pvalue_stat(stayed['products'].dropna(), gone['products'].dropna())"
   ]
  },
  {
   "cell_type": "markdown",
   "id": "d6a489ea",
   "metadata": {},
   "source": [
    "**Вывод**: таким образом, мы можем сделать вывод, что различий дохода между теми клиентами которые остались и теми, которые ушли нет. По остальным параметрам (активность клиента, балы скоринга и количество продуктов) различия наблюдаются. При этом, не смотря на то, что относительная разница средних значений скоринга в двух выборках близка к равной, средние значения двух генеральных совокупностей не равны."
   ]
  },
  {
   "cell_type": "markdown",
   "id": "46c688ef",
   "metadata": {},
   "source": [
    "## Сегментация"
   ]
  },
  {
   "cell_type": "markdown",
   "id": "1c572016",
   "metadata": {},
   "source": [
    "Полагаясь на результаты исследования сделаем срезы и постараемся найти несколько сегментов, более склонных к уходу из банка."
   ]
  },
  {
   "cell_type": "markdown",
   "id": "0afaaa33",
   "metadata": {},
   "source": [
    "### Сегмент №1"
   ]
  },
  {
   "cell_type": "code",
   "execution_count": 37,
   "id": "e0f3c0de",
   "metadata": {
    "scrolled": false
   },
   "outputs": [
    {
     "name": "stdout",
     "output_type": "stream",
     "text": [
      "\n",
      "Описание сегмента №1:\n",
      "\n",
      "1. Баллы кредитного скоринга - 860 и выше\n",
      "2. Баллы собственности - 3 и выше\n",
      "3. Пол - мужской\n",
      "4. Возраст от 23 до 40 лет\n",
      "\n",
      "Количество клиентов в сегменте всего: 659\n",
      "\n",
      "Доля отточных клиентов в сегменте : 55.2%\n",
      "\n",
      "Что больше от общей доли оттока по банку на 37.0%\n"
     ]
    },
    {
     "data": {
      "text/html": [
       "<style type=\"text/css\">\n",
       "#T_0a26b_row0_col0, #T_0a26b_row0_col1, #T_0a26b_row0_col2 {\n",
       "  background-color: #fff5f0;\n",
       "  color: #000000;\n",
       "}\n",
       "#T_0a26b_row1_col0, #T_0a26b_row1_col1, #T_0a26b_row1_col2 {\n",
       "  background-color: #67000d;\n",
       "  color: #f1f1f1;\n",
       "}\n",
       "</style>\n",
       "<table id=\"T_0a26b\">\n",
       "  <thead>\n",
       "    <tr>\n",
       "      <th class=\"blank level0\" >&nbsp;</th>\n",
       "      <th id=\"T_0a26b_level0_col0\" class=\"col_heading level0 col0\" >churn</th>\n",
       "      <th id=\"T_0a26b_level0_col1\" class=\"col_heading level0 col1\" >count</th>\n",
       "      <th id=\"T_0a26b_level0_col2\" class=\"col_heading level0 col2\" >share, %</th>\n",
       "    </tr>\n",
       "  </thead>\n",
       "  <tbody>\n",
       "    <tr>\n",
       "      <th id=\"T_0a26b_level0_row0\" class=\"row_heading level0 row0\" >0</th>\n",
       "      <td id=\"T_0a26b_row0_col0\" class=\"data row0 col0\" >0</td>\n",
       "      <td id=\"T_0a26b_row0_col1\" class=\"data row0 col1\" >295</td>\n",
       "      <td id=\"T_0a26b_row0_col2\" class=\"data row0 col2\" >44.760000</td>\n",
       "    </tr>\n",
       "    <tr>\n",
       "      <th id=\"T_0a26b_level0_row1\" class=\"row_heading level0 row1\" >1</th>\n",
       "      <td id=\"T_0a26b_row1_col0\" class=\"data row1 col0\" >1</td>\n",
       "      <td id=\"T_0a26b_row1_col1\" class=\"data row1 col1\" >364</td>\n",
       "      <td id=\"T_0a26b_row1_col2\" class=\"data row1 col2\" >55.240000</td>\n",
       "    </tr>\n",
       "  </tbody>\n",
       "</table>\n"
      ],
      "text/plain": [
       "<pandas.io.formats.style.Styler at 0x2465df8dc10>"
      ]
     },
     "metadata": {},
     "output_type": "display_data"
    }
   ],
   "source": [
    "seg_1 = data.query('score >= 860 and equity >=3 and gender==\"М\" and age > 23 and age <40')\n",
    "seg_1 = (\n",
    "    seg_1\n",
    "    .pivot_table(index='churn', values='user_id', aggfunc='count')\n",
    "    .rename(columns={'user_id':'count'})\n",
    "    .reset_index()\n",
    ")\n",
    "seg_1['share, %'] = round(seg_1['count']/sum(seg_1['count'])*100,2)\n",
    "\n",
    "seg_1_share = seg_1['count'][1]/sum(seg_1['count'])\n",
    "\n",
    "print()\n",
    "print('Описание сегмента №1:')\n",
    "print()\n",
    "print('1. Баллы кредитного скоринга - 860 и выше')\n",
    "print('2. Баллы собственности - 3 и выше')\n",
    "print('3. Пол - мужской')\n",
    "print('4. Возраст от 23 до 40 лет')\n",
    "\n",
    "print()\n",
    "print('Количество клиентов в сегменте всего:', (sum(seg_1['count'])))\n",
    "print()\n",
    "print('Доля отточных клиентов в сегменте : {0:.1%}'.format(seg_1_share))\n",
    "print()\n",
    "print('Что больше от общей доли оттока по банку на {0:.1%}'.format(seg_1_share - share))\n",
    "      \n",
    "display(seg_1.style.background_gradient('Reds'))"
   ]
  },
  {
   "cell_type": "markdown",
   "id": "971c98a8",
   "metadata": {},
   "source": [
    "### Сегмент №2"
   ]
  },
  {
   "cell_type": "code",
   "execution_count": 38,
   "id": "8dc3be1c",
   "metadata": {
    "scrolled": true
   },
   "outputs": [
    {
     "name": "stdout",
     "output_type": "stream",
     "text": [
      "\n",
      "Описание сегмента №2:\n",
      "\n",
      "1. Активный клиент\n",
      "2. Имеет 2 банковских продукта и более\n",
      "3. Баланс свыше 1.2млн.\n",
      "\n",
      "Количество клиентов в сегменте всего: 647\n",
      "\n",
      "Доля отточных клиентов в сегменте : 58.7%\n",
      "\n",
      "Что больше от общей доли оттока по банку на 40.5%\n"
     ]
    },
    {
     "data": {
      "text/html": [
       "<style type=\"text/css\">\n",
       "#T_41c01_row0_col0, #T_41c01_row0_col1, #T_41c01_row0_col2 {\n",
       "  background-color: #fff5f0;\n",
       "  color: #000000;\n",
       "}\n",
       "#T_41c01_row1_col0, #T_41c01_row1_col1, #T_41c01_row1_col2 {\n",
       "  background-color: #67000d;\n",
       "  color: #f1f1f1;\n",
       "}\n",
       "</style>\n",
       "<table id=\"T_41c01\">\n",
       "  <thead>\n",
       "    <tr>\n",
       "      <th class=\"blank level0\" >&nbsp;</th>\n",
       "      <th id=\"T_41c01_level0_col0\" class=\"col_heading level0 col0\" >churn</th>\n",
       "      <th id=\"T_41c01_level0_col1\" class=\"col_heading level0 col1\" >count</th>\n",
       "      <th id=\"T_41c01_level0_col2\" class=\"col_heading level0 col2\" >share, %</th>\n",
       "    </tr>\n",
       "  </thead>\n",
       "  <tbody>\n",
       "    <tr>\n",
       "      <th id=\"T_41c01_level0_row0\" class=\"row_heading level0 row0\" >0</th>\n",
       "      <td id=\"T_41c01_row0_col0\" class=\"data row0 col0\" >0</td>\n",
       "      <td id=\"T_41c01_row0_col1\" class=\"data row0 col1\" >267</td>\n",
       "      <td id=\"T_41c01_row0_col2\" class=\"data row0 col2\" >41.270000</td>\n",
       "    </tr>\n",
       "    <tr>\n",
       "      <th id=\"T_41c01_level0_row1\" class=\"row_heading level0 row1\" >1</th>\n",
       "      <td id=\"T_41c01_row1_col0\" class=\"data row1 col0\" >1</td>\n",
       "      <td id=\"T_41c01_row1_col1\" class=\"data row1 col1\" >380</td>\n",
       "      <td id=\"T_41c01_row1_col2\" class=\"data row1 col2\" >58.730000</td>\n",
       "    </tr>\n",
       "  </tbody>\n",
       "</table>\n"
      ],
      "text/plain": [
       "<pandas.io.formats.style.Styler at 0x24661962610>"
      ]
     },
     "metadata": {},
     "output_type": "display_data"
    }
   ],
   "source": [
    "seg_2 = data.query('last_activity == 1 and products >=2 and balance > 1200000')\n",
    "seg_2 = (\n",
    "    seg_2\n",
    "    .pivot_table(index='churn', values='user_id', aggfunc='count')\n",
    "    .rename(columns={'user_id':'count'})\n",
    "    .reset_index()\n",
    ")\n",
    "seg_2['share, %'] = round(seg_2['count']/sum(seg_2['count'])*100,2)\n",
    "\n",
    "seg_2_share = seg_2['count'][1]/sum(seg_2['count'])\n",
    "\n",
    "print()\n",
    "print('Описание сегмента №2:')\n",
    "print()\n",
    "print('1. Активный клиент')\n",
    "print('2. Имеет 2 банковских продукта и более')\n",
    "print('3. Баланс свыше 1.2млн.')\n",
    "\n",
    "print()\n",
    "print('Количество клиентов в сегменте всего:', (sum(seg_2['count'])))\n",
    "print()\n",
    "print('Доля отточных клиентов в сегменте : {0:.1%}'.format(seg_2_share))\n",
    "print()\n",
    "print('Что больше от общей доли оттока по банку на {0:.1%}'.format(seg_2_share - share))\n",
    "      \n",
    "display(seg_2.style.background_gradient('Reds'))"
   ]
  },
  {
   "cell_type": "markdown",
   "id": "8c6dbdab",
   "metadata": {},
   "source": [
    "### Сегмент №3"
   ]
  },
  {
   "cell_type": "code",
   "execution_count": 39,
   "id": "daa05e96",
   "metadata": {
    "scrolled": false
   },
   "outputs": [
    {
     "name": "stdout",
     "output_type": "stream",
     "text": [
      "\n",
      "Описание сегмента №3:\n",
      "\n",
      "1. Пол - женский\n",
      "2. Нет кредитной карты\n",
      "3. Баллы кредитного скоринга - 860 и выше\n",
      "4. Количество продуктов - 2 и выше\n",
      "\n",
      "Количество клиентов в сегменте всего: 690\n",
      "\n",
      "Доля отточных клиентов в сегменте : 30.6%\n",
      "\n",
      "Что больше от общей доли оттока по банку на 12.3%\n"
     ]
    },
    {
     "data": {
      "text/html": [
       "<style type=\"text/css\">\n",
       "#T_b50ee_row0_col0, #T_b50ee_row1_col1, #T_b50ee_row1_col2 {\n",
       "  background-color: #fff5f0;\n",
       "  color: #000000;\n",
       "}\n",
       "#T_b50ee_row0_col1, #T_b50ee_row0_col2, #T_b50ee_row1_col0 {\n",
       "  background-color: #67000d;\n",
       "  color: #f1f1f1;\n",
       "}\n",
       "</style>\n",
       "<table id=\"T_b50ee\">\n",
       "  <thead>\n",
       "    <tr>\n",
       "      <th class=\"blank level0\" >&nbsp;</th>\n",
       "      <th id=\"T_b50ee_level0_col0\" class=\"col_heading level0 col0\" >churn</th>\n",
       "      <th id=\"T_b50ee_level0_col1\" class=\"col_heading level0 col1\" >count</th>\n",
       "      <th id=\"T_b50ee_level0_col2\" class=\"col_heading level0 col2\" >share, %</th>\n",
       "    </tr>\n",
       "  </thead>\n",
       "  <tbody>\n",
       "    <tr>\n",
       "      <th id=\"T_b50ee_level0_row0\" class=\"row_heading level0 row0\" >0</th>\n",
       "      <td id=\"T_b50ee_row0_col0\" class=\"data row0 col0\" >0</td>\n",
       "      <td id=\"T_b50ee_row0_col1\" class=\"data row0 col1\" >479</td>\n",
       "      <td id=\"T_b50ee_row0_col2\" class=\"data row0 col2\" >69.420000</td>\n",
       "    </tr>\n",
       "    <tr>\n",
       "      <th id=\"T_b50ee_level0_row1\" class=\"row_heading level0 row1\" >1</th>\n",
       "      <td id=\"T_b50ee_row1_col0\" class=\"data row1 col0\" >1</td>\n",
       "      <td id=\"T_b50ee_row1_col1\" class=\"data row1 col1\" >211</td>\n",
       "      <td id=\"T_b50ee_row1_col2\" class=\"data row1 col2\" >30.580000</td>\n",
       "    </tr>\n",
       "  </tbody>\n",
       "</table>\n"
      ],
      "text/plain": [
       "<pandas.io.formats.style.Styler at 0x2465cde1910>"
      ]
     },
     "metadata": {},
     "output_type": "display_data"
    }
   ],
   "source": [
    "seg_3 = data.query('gender ==\"Ж\" and products >=2 and score >=860 and credit_card == 0')\n",
    "seg_3 = (\n",
    "    seg_3\n",
    "    .pivot_table(index='churn', values='user_id', aggfunc='count')\n",
    "    .rename(columns={'user_id':'count'})\n",
    "    .reset_index()\n",
    ")\n",
    "seg_3['share, %'] = round(seg_3['count']/sum(seg_3['count'])*100,2)\n",
    "\n",
    "seg_3_share = seg_3['count'][1]/sum(seg_3['count'])\n",
    "\n",
    "print()\n",
    "print('Описание сегмента №3:')\n",
    "print()\n",
    "print('1. Пол - женский')\n",
    "print('2. Нет кредитной карты')\n",
    "print('3. Баллы кредитного скоринга - 860 и выше')\n",
    "print('4. Количество продуктов - 2 и выше')\n",
    "\n",
    "print()\n",
    "print('Количество клиентов в сегменте всего:', (sum(seg_3['count'])))\n",
    "print()\n",
    "print('Доля отточных клиентов в сегменте : {0:.1%}'.format(seg_3_share))\n",
    "print()\n",
    "print('Что больше от общей доли оттока по банку на {0:.1%}'.format(seg_3_share - share))\n",
    "      \n",
    "display(seg_3.style.background_gradient('Reds'))"
   ]
  },
  {
   "cell_type": "markdown",
   "id": "07523e39",
   "metadata": {},
   "source": [
    "**Вывод:** составлены три сегметных группы, приблизительно равных по размеру. Во всех группах доля отточных клиентов свыше 30%"
   ]
  },
  {
   "cell_type": "markdown",
   "id": "f280d9b6",
   "metadata": {},
   "source": [
    "## Общий вывод"
   ]
  },
  {
   "cell_type": "markdown",
   "id": "3dbc09e0",
   "metadata": {},
   "source": [
    "**Нами был проведен анализ оттока клиентов регионального банка, выделим основные моменты:**\n",
    "\n",
    "* К данным не так много претензий, однако, в работе мы столкнулись с немалым количеством пропусков в столбце с балансом (23%) и некоторым количеством задублированных id.\n",
    "* По результатам исследовательского анализа выяснили, что к оттоку больше склонны клиенты:\n",
    "   * имеющие от 820 до 900 баллов скоринга;\n",
    "   * мужского пола;\n",
    "   * возвраста ~23-36 и ~50-60 лет;\n",
    "   * имеющие 3 и более баллов собственности;\n",
    "   * с балансом на счете свыше 800тыс.;\n",
    "   * имеющие 3 и более банковских продуктов;\n",
    "   * не имеющие кредитной карты;\n",
    "   * активные;\n",
    "   * получающие зарплаты свыше 80 тыс.\n",
    "* Наиболее влияющим на отток оказался параметр количества продуктов, следом идет параметр баллов имущества и параметр активности клиента.\n",
    "* Различий дохода между теми клиентами которые остались и теми, которые ушли нет.\n",
    "* Выделили три сегмента, более склонных к уходу из банка.\n"
   ]
  },
  {
   "cell_type": "markdown",
   "id": "bbe01d32",
   "metadata": {},
   "source": [
    "## Рекомендации"
   ]
  },
  {
   "cell_type": "markdown",
   "id": "2c38432d",
   "metadata": {},
   "source": [
    "\n",
    "**1.** *Проанализировать, почему происходит отток. Можно провести опрос покинувших банк клиентов, например посредством телефонных звонков или электронной почты.*\n",
    "\n",
    "**2.** *Проинформировать персонал, что при обращении клиента с намерением прекратить отношения с банком, сотрудник также должен постараться выяснить причину ухода, провести работу с возражениями, постараться вернуть лояльность клиента.*\n",
    "\n",
    "**3.** *Обратить внимание на претензионную работу - каждая претензия это сигнал, что что-то где-то может работать не должным образом.*\n",
    "\n",
    "**4.** *Выделить самых ценных клиентов для банка и рассмотреть возможность предоставления им дополнительных стимулов и льгот.*\n",
    "\n",
    "**5.** *Сравнить условия ближайших конкурентов.*\n",
    "\n",
    "\n",
    "\n",
    "\n",
    "К сожалению, в нашей работе нет разбивки по продуктам, но оттакливаясь от параметров сегментов, могу предположить, что сегмент№1:\n",
    "* скоринг от 860\n",
    "* баллы собственности 3 и выше\n",
    "* мужско пол\n",
    "* возраст 23-40\n",
    "\n",
    "это в основном кредитные заемщики, например ипотечные или авто, потому что информация о наличии собственности просто так в банк не предоставляется, ее указывают, в случае выделения какой-то большой суммы или при передаче под залог.\n",
    "\n",
    "Возможно другие кредиторы предложили лучшие условия по кредитованию.\n",
    "\n",
    "Что касается сегмента№2:\n",
    "* активный клиент\n",
    "* имеет более 2х банковских продуктов\n",
    "* баланс свыше 1.2млн.\n",
    "\n",
    "Речь явно может идти о держателях вкладов. Опять же, возможно конкуретны предлагают более приемлимые условия."
   ]
  }
 ],
 "metadata": {
  "ExecuteTimeLog": [
   {
    "duration": 1303,
    "start_time": "2023-07-16T15:01:09.992Z"
   },
   {
    "duration": 0,
    "start_time": "2023-07-16T15:01:11.297Z"
   },
   {
    "duration": 0,
    "start_time": "2023-07-16T15:01:11.299Z"
   },
   {
    "duration": 0,
    "start_time": "2023-07-16T15:01:11.300Z"
   },
   {
    "duration": 0,
    "start_time": "2023-07-16T15:01:11.301Z"
   },
   {
    "duration": 0,
    "start_time": "2023-07-16T15:01:11.302Z"
   },
   {
    "duration": 0,
    "start_time": "2023-07-16T15:01:11.303Z"
   },
   {
    "duration": 0,
    "start_time": "2023-07-16T15:01:11.304Z"
   },
   {
    "duration": 0,
    "start_time": "2023-07-16T15:01:11.304Z"
   },
   {
    "duration": 0,
    "start_time": "2023-07-16T15:01:11.305Z"
   },
   {
    "duration": 0,
    "start_time": "2023-07-16T15:01:11.326Z"
   },
   {
    "duration": 0,
    "start_time": "2023-07-16T15:01:11.326Z"
   },
   {
    "duration": 0,
    "start_time": "2023-07-16T15:01:11.327Z"
   },
   {
    "duration": 0,
    "start_time": "2023-07-16T15:01:11.327Z"
   },
   {
    "duration": 1,
    "start_time": "2023-07-16T15:01:11.327Z"
   },
   {
    "duration": 0,
    "start_time": "2023-07-16T15:01:11.328Z"
   },
   {
    "duration": 0,
    "start_time": "2023-07-16T15:01:11.328Z"
   },
   {
    "duration": 0,
    "start_time": "2023-07-16T15:01:11.329Z"
   },
   {
    "duration": 0,
    "start_time": "2023-07-16T15:01:11.329Z"
   },
   {
    "duration": 0,
    "start_time": "2023-07-16T15:01:11.330Z"
   },
   {
    "duration": 0,
    "start_time": "2023-07-16T15:01:11.334Z"
   },
   {
    "duration": 0,
    "start_time": "2023-07-16T15:01:11.335Z"
   },
   {
    "duration": 0,
    "start_time": "2023-07-16T15:01:11.336Z"
   },
   {
    "duration": 0,
    "start_time": "2023-07-16T15:01:11.338Z"
   },
   {
    "duration": 0,
    "start_time": "2023-07-16T15:01:11.339Z"
   },
   {
    "duration": 0,
    "start_time": "2023-07-16T15:01:11.340Z"
   },
   {
    "duration": 0,
    "start_time": "2023-07-16T15:01:11.341Z"
   },
   {
    "duration": 0,
    "start_time": "2023-07-16T15:01:11.341Z"
   },
   {
    "duration": 0,
    "start_time": "2023-07-16T15:01:11.342Z"
   },
   {
    "duration": 0,
    "start_time": "2023-07-16T15:01:11.343Z"
   },
   {
    "duration": 0,
    "start_time": "2023-07-16T15:01:11.344Z"
   },
   {
    "duration": 0,
    "start_time": "2023-07-16T15:01:11.345Z"
   },
   {
    "duration": 0,
    "start_time": "2023-07-16T15:01:11.346Z"
   },
   {
    "duration": 0,
    "start_time": "2023-07-16T15:01:11.347Z"
   },
   {
    "duration": 0,
    "start_time": "2023-07-16T15:01:11.347Z"
   },
   {
    "duration": 0,
    "start_time": "2023-07-16T15:01:11.348Z"
   },
   {
    "duration": 0,
    "start_time": "2023-07-16T15:01:11.349Z"
   },
   {
    "duration": 0,
    "start_time": "2023-07-16T15:01:11.350Z"
   },
   {
    "duration": 2985,
    "start_time": "2023-07-16T15:01:53.933Z"
   },
   {
    "duration": 31,
    "start_time": "2023-07-16T15:02:06.659Z"
   },
   {
    "duration": 1083,
    "start_time": "2023-07-16T15:02:12.618Z"
   },
   {
    "duration": 66,
    "start_time": "2023-07-16T15:02:13.703Z"
   },
   {
    "duration": 15,
    "start_time": "2023-07-16T15:02:13.771Z"
   },
   {
    "duration": 16,
    "start_time": "2023-07-16T15:02:13.788Z"
   },
   {
    "duration": 35,
    "start_time": "2023-07-16T15:02:13.805Z"
   },
   {
    "duration": 10,
    "start_time": "2023-07-16T15:02:13.842Z"
   },
   {
    "duration": 7,
    "start_time": "2023-07-16T15:02:13.854Z"
   },
   {
    "duration": 73,
    "start_time": "2023-07-16T15:02:13.862Z"
   },
   {
    "duration": 4,
    "start_time": "2023-07-16T15:02:13.936Z"
   },
   {
    "duration": 8,
    "start_time": "2023-07-16T15:02:13.942Z"
   },
   {
    "duration": 15,
    "start_time": "2023-07-16T15:02:13.952Z"
   },
   {
    "duration": 4,
    "start_time": "2023-07-16T15:02:13.968Z"
   },
   {
    "duration": 52,
    "start_time": "2023-07-16T15:02:13.973Z"
   },
   {
    "duration": 33,
    "start_time": "2023-07-16T15:02:14.033Z"
   },
   {
    "duration": 8,
    "start_time": "2023-07-16T15:02:14.067Z"
   },
   {
    "duration": 306,
    "start_time": "2023-07-16T15:02:14.076Z"
   },
   {
    "duration": 11,
    "start_time": "2023-07-16T15:02:14.383Z"
   },
   {
    "duration": 51,
    "start_time": "2023-07-16T15:02:14.395Z"
   },
   {
    "duration": 163,
    "start_time": "2023-07-16T15:02:14.448Z"
   },
   {
    "duration": 16,
    "start_time": "2023-07-16T15:02:14.613Z"
   },
   {
    "duration": 12,
    "start_time": "2023-07-16T15:02:14.634Z"
   },
   {
    "duration": 151,
    "start_time": "2023-07-16T15:02:14.647Z"
   },
   {
    "duration": 297,
    "start_time": "2023-07-16T15:02:14.799Z"
   },
   {
    "duration": 283,
    "start_time": "2023-07-16T15:02:15.098Z"
   },
   {
    "duration": 4790,
    "start_time": "2023-07-16T15:02:15.382Z"
   },
   {
    "duration": 217,
    "start_time": "2023-07-16T15:02:20.173Z"
   },
   {
    "duration": 205,
    "start_time": "2023-07-16T15:02:20.391Z"
   },
   {
    "duration": 198,
    "start_time": "2023-07-16T15:02:20.599Z"
   },
   {
    "duration": 563,
    "start_time": "2023-07-16T15:02:20.799Z"
   },
   {
    "duration": 1386,
    "start_time": "2023-07-16T15:02:21.364Z"
   },
   {
    "duration": 803,
    "start_time": "2023-07-16T15:02:22.751Z"
   },
   {
    "duration": 4,
    "start_time": "2023-07-16T15:02:23.555Z"
   },
   {
    "duration": 53,
    "start_time": "2023-07-16T15:02:23.560Z"
   },
   {
    "duration": 70,
    "start_time": "2023-07-16T15:02:23.615Z"
   },
   {
    "duration": 48,
    "start_time": "2023-07-16T15:02:23.687Z"
   },
   {
    "duration": 32,
    "start_time": "2023-07-16T15:02:23.736Z"
   },
   {
    "duration": 61,
    "start_time": "2023-07-16T15:02:23.770Z"
   },
   {
    "duration": 73,
    "start_time": "2023-07-16T15:02:23.833Z"
   },
   {
    "duration": 253,
    "start_time": "2023-07-16T15:02:35.858Z"
   },
   {
    "duration": 202,
    "start_time": "2023-07-16T15:02:47.638Z"
   },
   {
    "duration": 212,
    "start_time": "2023-07-16T15:03:00.554Z"
   },
   {
    "duration": 191,
    "start_time": "2023-07-16T15:03:06.516Z"
   },
   {
    "duration": 201,
    "start_time": "2023-07-16T15:03:14.495Z"
   },
   {
    "duration": 180,
    "start_time": "2023-07-16T15:03:17.492Z"
   },
   {
    "duration": 518,
    "start_time": "2023-07-16T15:03:52.394Z"
   },
   {
    "duration": 195,
    "start_time": "2023-07-16T15:04:00.177Z"
   },
   {
    "duration": 200,
    "start_time": "2023-07-16T15:04:11.079Z"
   },
   {
    "duration": 1613,
    "start_time": "2023-07-17T06:55:58.182Z"
   },
   {
    "duration": 0,
    "start_time": "2023-07-17T06:55:59.799Z"
   },
   {
    "duration": 0,
    "start_time": "2023-07-17T06:55:59.800Z"
   },
   {
    "duration": 0,
    "start_time": "2023-07-17T06:55:59.802Z"
   },
   {
    "duration": 0,
    "start_time": "2023-07-17T06:55:59.803Z"
   },
   {
    "duration": 0,
    "start_time": "2023-07-17T06:55:59.804Z"
   },
   {
    "duration": 0,
    "start_time": "2023-07-17T06:55:59.805Z"
   },
   {
    "duration": 0,
    "start_time": "2023-07-17T06:55:59.807Z"
   },
   {
    "duration": 0,
    "start_time": "2023-07-17T06:55:59.808Z"
   },
   {
    "duration": 0,
    "start_time": "2023-07-17T06:55:59.809Z"
   },
   {
    "duration": 0,
    "start_time": "2023-07-17T06:55:59.811Z"
   },
   {
    "duration": 1,
    "start_time": "2023-07-17T06:55:59.812Z"
   },
   {
    "duration": 0,
    "start_time": "2023-07-17T06:55:59.813Z"
   },
   {
    "duration": 0,
    "start_time": "2023-07-17T06:55:59.815Z"
   },
   {
    "duration": 0,
    "start_time": "2023-07-17T06:55:59.817Z"
   },
   {
    "duration": 0,
    "start_time": "2023-07-17T06:55:59.852Z"
   },
   {
    "duration": 0,
    "start_time": "2023-07-17T06:55:59.854Z"
   },
   {
    "duration": 0,
    "start_time": "2023-07-17T06:55:59.855Z"
   },
   {
    "duration": 0,
    "start_time": "2023-07-17T06:55:59.856Z"
   },
   {
    "duration": 0,
    "start_time": "2023-07-17T06:55:59.857Z"
   },
   {
    "duration": 0,
    "start_time": "2023-07-17T06:55:59.858Z"
   },
   {
    "duration": 0,
    "start_time": "2023-07-17T06:55:59.860Z"
   },
   {
    "duration": 0,
    "start_time": "2023-07-17T06:55:59.861Z"
   },
   {
    "duration": 0,
    "start_time": "2023-07-17T06:55:59.862Z"
   },
   {
    "duration": 0,
    "start_time": "2023-07-17T06:55:59.863Z"
   },
   {
    "duration": 0,
    "start_time": "2023-07-17T06:55:59.864Z"
   },
   {
    "duration": 0,
    "start_time": "2023-07-17T06:55:59.866Z"
   },
   {
    "duration": 0,
    "start_time": "2023-07-17T06:55:59.867Z"
   },
   {
    "duration": 0,
    "start_time": "2023-07-17T06:55:59.868Z"
   },
   {
    "duration": 0,
    "start_time": "2023-07-17T06:55:59.869Z"
   },
   {
    "duration": 0,
    "start_time": "2023-07-17T06:55:59.870Z"
   },
   {
    "duration": 0,
    "start_time": "2023-07-17T06:55:59.871Z"
   },
   {
    "duration": 0,
    "start_time": "2023-07-17T06:55:59.872Z"
   },
   {
    "duration": 0,
    "start_time": "2023-07-17T06:55:59.873Z"
   },
   {
    "duration": 0,
    "start_time": "2023-07-17T06:55:59.874Z"
   },
   {
    "duration": 0,
    "start_time": "2023-07-17T06:55:59.875Z"
   },
   {
    "duration": 0,
    "start_time": "2023-07-17T06:55:59.877Z"
   },
   {
    "duration": 0,
    "start_time": "2023-07-17T06:55:59.877Z"
   },
   {
    "duration": 3259,
    "start_time": "2023-07-17T06:56:46.895Z"
   },
   {
    "duration": 2250,
    "start_time": "2023-07-17T06:56:53.358Z"
   },
   {
    "duration": 1243,
    "start_time": "2023-07-17T06:56:55.610Z"
   },
   {
    "duration": 65,
    "start_time": "2023-07-17T06:56:56.855Z"
   },
   {
    "duration": 18,
    "start_time": "2023-07-17T06:56:56.922Z"
   },
   {
    "duration": 14,
    "start_time": "2023-07-17T06:56:56.942Z"
   },
   {
    "duration": 50,
    "start_time": "2023-07-17T06:56:56.958Z"
   },
   {
    "duration": 12,
    "start_time": "2023-07-17T06:56:57.010Z"
   },
   {
    "duration": 30,
    "start_time": "2023-07-17T06:56:57.023Z"
   },
   {
    "duration": 65,
    "start_time": "2023-07-17T06:56:57.055Z"
   },
   {
    "duration": 3,
    "start_time": "2023-07-17T06:56:57.123Z"
   },
   {
    "duration": 131,
    "start_time": "2023-07-17T06:56:57.151Z"
   },
   {
    "duration": 0,
    "start_time": "2023-07-17T06:56:57.284Z"
   },
   {
    "duration": 0,
    "start_time": "2023-07-17T06:56:57.286Z"
   },
   {
    "duration": 0,
    "start_time": "2023-07-17T06:56:57.287Z"
   },
   {
    "duration": 0,
    "start_time": "2023-07-17T06:56:57.288Z"
   },
   {
    "duration": 0,
    "start_time": "2023-07-17T06:56:57.290Z"
   },
   {
    "duration": 0,
    "start_time": "2023-07-17T06:56:57.291Z"
   },
   {
    "duration": 0,
    "start_time": "2023-07-17T06:56:57.293Z"
   },
   {
    "duration": 0,
    "start_time": "2023-07-17T06:56:57.294Z"
   },
   {
    "duration": 0,
    "start_time": "2023-07-17T06:56:57.295Z"
   },
   {
    "duration": 0,
    "start_time": "2023-07-17T06:56:57.296Z"
   },
   {
    "duration": 0,
    "start_time": "2023-07-17T06:56:57.297Z"
   },
   {
    "duration": 1,
    "start_time": "2023-07-17T06:56:57.298Z"
   },
   {
    "duration": 0,
    "start_time": "2023-07-17T06:56:57.300Z"
   },
   {
    "duration": 0,
    "start_time": "2023-07-17T06:56:57.301Z"
   },
   {
    "duration": 0,
    "start_time": "2023-07-17T06:56:57.302Z"
   },
   {
    "duration": 0,
    "start_time": "2023-07-17T06:56:57.303Z"
   },
   {
    "duration": 0,
    "start_time": "2023-07-17T06:56:57.304Z"
   },
   {
    "duration": 0,
    "start_time": "2023-07-17T06:56:57.305Z"
   },
   {
    "duration": 0,
    "start_time": "2023-07-17T06:56:57.306Z"
   },
   {
    "duration": 0,
    "start_time": "2023-07-17T06:56:57.307Z"
   },
   {
    "duration": 0,
    "start_time": "2023-07-17T06:56:57.308Z"
   },
   {
    "duration": 0,
    "start_time": "2023-07-17T06:56:57.309Z"
   },
   {
    "duration": 0,
    "start_time": "2023-07-17T06:56:57.310Z"
   },
   {
    "duration": 0,
    "start_time": "2023-07-17T06:56:57.310Z"
   },
   {
    "duration": 0,
    "start_time": "2023-07-17T06:56:57.311Z"
   },
   {
    "duration": 0,
    "start_time": "2023-07-17T06:56:57.311Z"
   },
   {
    "duration": 0,
    "start_time": "2023-07-17T06:56:57.312Z"
   },
   {
    "duration": 0,
    "start_time": "2023-07-17T06:56:57.313Z"
   },
   {
    "duration": 6,
    "start_time": "2023-07-17T06:59:49.516Z"
   },
   {
    "duration": 8,
    "start_time": "2023-07-17T06:59:51.637Z"
   },
   {
    "duration": 19,
    "start_time": "2023-07-17T07:00:03.451Z"
   },
   {
    "duration": 2587,
    "start_time": "2023-07-17T07:02:50.513Z"
   },
   {
    "duration": 1249,
    "start_time": "2023-07-17T07:02:53.103Z"
   },
   {
    "duration": 65,
    "start_time": "2023-07-17T07:02:54.354Z"
   },
   {
    "duration": 20,
    "start_time": "2023-07-17T07:02:54.422Z"
   },
   {
    "duration": 16,
    "start_time": "2023-07-17T07:02:54.444Z"
   },
   {
    "duration": 42,
    "start_time": "2023-07-17T07:02:54.463Z"
   },
   {
    "duration": 14,
    "start_time": "2023-07-17T07:02:54.507Z"
   },
   {
    "duration": 20,
    "start_time": "2023-07-17T07:02:54.552Z"
   },
   {
    "duration": 83,
    "start_time": "2023-07-17T07:02:54.575Z"
   },
   {
    "duration": 8,
    "start_time": "2023-07-17T07:02:54.662Z"
   },
   {
    "duration": 61,
    "start_time": "2023-07-17T07:02:54.672Z"
   },
   {
    "duration": 17,
    "start_time": "2023-07-17T07:02:54.735Z"
   },
   {
    "duration": 6,
    "start_time": "2023-07-17T07:02:54.755Z"
   },
   {
    "duration": 46,
    "start_time": "2023-07-17T07:02:54.763Z"
   },
   {
    "duration": 64,
    "start_time": "2023-07-17T07:02:54.811Z"
   },
   {
    "duration": 11,
    "start_time": "2023-07-17T07:02:54.877Z"
   },
   {
    "duration": 454,
    "start_time": "2023-07-17T07:02:54.890Z"
   },
   {
    "duration": 22,
    "start_time": "2023-07-17T07:02:55.347Z"
   },
   {
    "duration": 24,
    "start_time": "2023-07-17T07:02:55.371Z"
   },
   {
    "duration": 218,
    "start_time": "2023-07-17T07:02:55.397Z"
   },
   {
    "duration": 16,
    "start_time": "2023-07-17T07:02:55.618Z"
   },
   {
    "duration": 29,
    "start_time": "2023-07-17T07:02:55.636Z"
   },
   {
    "duration": 199,
    "start_time": "2023-07-17T07:02:55.667Z"
   },
   {
    "duration": 364,
    "start_time": "2023-07-17T07:02:55.868Z"
   },
   {
    "duration": 377,
    "start_time": "2023-07-17T07:02:56.234Z"
   },
   {
    "duration": 6516,
    "start_time": "2023-07-17T07:02:56.613Z"
   },
   {
    "duration": 258,
    "start_time": "2023-07-17T07:03:03.131Z"
   },
   {
    "duration": 245,
    "start_time": "2023-07-17T07:03:03.393Z"
   },
   {
    "duration": 243,
    "start_time": "2023-07-17T07:03:03.640Z"
   },
   {
    "duration": 715,
    "start_time": "2023-07-17T07:03:03.885Z"
   },
   {
    "duration": 1721,
    "start_time": "2023-07-17T07:03:04.603Z"
   },
   {
    "duration": 983,
    "start_time": "2023-07-17T07:03:06.326Z"
   },
   {
    "duration": 7,
    "start_time": "2023-07-17T07:03:07.312Z"
   },
   {
    "duration": 12,
    "start_time": "2023-07-17T07:03:07.320Z"
   },
   {
    "duration": 7,
    "start_time": "2023-07-17T07:03:07.352Z"
   },
   {
    "duration": 34,
    "start_time": "2023-07-17T07:03:07.361Z"
   },
   {
    "duration": 28,
    "start_time": "2023-07-17T07:03:07.397Z"
   },
   {
    "duration": 44,
    "start_time": "2023-07-17T07:03:07.428Z"
   },
   {
    "duration": 27,
    "start_time": "2023-07-17T07:03:07.474Z"
   },
   {
    "duration": 21,
    "start_time": "2023-07-17T07:03:38.375Z"
   },
   {
    "duration": 4,
    "start_time": "2023-07-17T07:10:25.656Z"
   },
   {
    "duration": 1739,
    "start_time": "2023-07-17T07:10:26.550Z"
   },
   {
    "duration": 1529,
    "start_time": "2023-07-17T07:10:37.192Z"
   },
   {
    "duration": 876,
    "start_time": "2023-07-17T07:11:24.932Z"
   },
   {
    "duration": 948,
    "start_time": "2023-07-17T07:11:33.208Z"
   },
   {
    "duration": 908,
    "start_time": "2023-07-17T07:11:38.820Z"
   },
   {
    "duration": 921,
    "start_time": "2023-07-17T07:11:44.045Z"
   },
   {
    "duration": 940,
    "start_time": "2023-07-17T07:11:50.699Z"
   },
   {
    "duration": 20,
    "start_time": "2023-07-17T07:12:08.558Z"
   },
   {
    "duration": 12,
    "start_time": "2023-07-17T07:12:17.778Z"
   },
   {
    "duration": 31,
    "start_time": "2023-07-17T07:14:17.120Z"
   },
   {
    "duration": 29,
    "start_time": "2023-07-17T07:15:19.504Z"
   },
   {
    "duration": 30,
    "start_time": "2023-07-17T07:15:27.368Z"
   },
   {
    "duration": 41,
    "start_time": "2023-07-17T07:15:44.577Z"
   },
   {
    "duration": 32,
    "start_time": "2023-07-17T07:16:01.962Z"
   },
   {
    "duration": 49,
    "start_time": "2023-07-17T07:16:13.297Z"
   },
   {
    "duration": 43,
    "start_time": "2023-07-17T07:16:19.034Z"
   },
   {
    "duration": 31,
    "start_time": "2023-07-17T07:16:23.458Z"
   },
   {
    "duration": 30,
    "start_time": "2023-07-17T07:16:31.699Z"
   },
   {
    "duration": 30,
    "start_time": "2023-07-17T07:16:37.935Z"
   },
   {
    "duration": 31,
    "start_time": "2023-07-17T07:16:44.712Z"
   },
   {
    "duration": 30,
    "start_time": "2023-07-17T07:17:02.010Z"
   },
   {
    "duration": 29,
    "start_time": "2023-07-17T07:17:07.633Z"
   },
   {
    "duration": 36,
    "start_time": "2023-07-17T07:17:16.614Z"
   },
   {
    "duration": 33,
    "start_time": "2023-07-17T07:17:24.733Z"
   },
   {
    "duration": 31,
    "start_time": "2023-07-17T07:17:32.704Z"
   },
   {
    "duration": 45,
    "start_time": "2023-07-17T07:17:37.187Z"
   },
   {
    "duration": 28,
    "start_time": "2023-07-17T07:17:44.697Z"
   },
   {
    "duration": 32,
    "start_time": "2023-07-17T07:17:57.619Z"
   },
   {
    "duration": 29,
    "start_time": "2023-07-17T07:18:03.612Z"
   },
   {
    "duration": 33,
    "start_time": "2023-07-17T07:18:33.313Z"
   },
   {
    "duration": 29,
    "start_time": "2023-07-17T07:18:48.875Z"
   },
   {
    "duration": 152,
    "start_time": "2023-07-17T07:18:52.878Z"
   },
   {
    "duration": 34,
    "start_time": "2023-07-17T07:19:22.591Z"
   },
   {
    "duration": 41,
    "start_time": "2023-07-17T07:19:27.774Z"
   },
   {
    "duration": 31,
    "start_time": "2023-07-17T07:19:37.581Z"
   },
   {
    "duration": 53,
    "start_time": "2023-07-17T07:19:58.858Z"
   },
   {
    "duration": 38,
    "start_time": "2023-07-17T07:20:10.966Z"
   },
   {
    "duration": 39,
    "start_time": "2023-07-17T07:20:14.701Z"
   },
   {
    "duration": 31,
    "start_time": "2023-07-17T07:20:32.988Z"
   },
   {
    "duration": 39,
    "start_time": "2023-07-17T07:20:38.867Z"
   },
   {
    "duration": 29,
    "start_time": "2023-07-17T07:20:52.495Z"
   },
   {
    "duration": 30,
    "start_time": "2023-07-17T07:21:18.814Z"
   },
   {
    "duration": 42,
    "start_time": "2023-07-17T07:21:24.436Z"
   },
   {
    "duration": 37,
    "start_time": "2023-07-17T07:21:27.438Z"
   },
   {
    "duration": 30,
    "start_time": "2023-07-17T07:21:32.450Z"
   },
   {
    "duration": 27,
    "start_time": "2023-07-17T07:21:37.918Z"
   },
   {
    "duration": 32,
    "start_time": "2023-07-17T07:21:42.077Z"
   },
   {
    "duration": 28,
    "start_time": "2023-07-17T07:21:44.396Z"
   },
   {
    "duration": 30,
    "start_time": "2023-07-17T07:21:49.214Z"
   },
   {
    "duration": 29,
    "start_time": "2023-07-17T07:21:53.507Z"
   },
   {
    "duration": 31,
    "start_time": "2023-07-17T07:21:57.259Z"
   },
   {
    "duration": 29,
    "start_time": "2023-07-17T07:22:01.672Z"
   },
   {
    "duration": 28,
    "start_time": "2023-07-17T07:22:06.147Z"
   },
   {
    "duration": 131,
    "start_time": "2023-07-17T07:22:51.197Z"
   },
   {
    "duration": 31,
    "start_time": "2023-07-17T07:23:02.960Z"
   },
   {
    "duration": 31,
    "start_time": "2023-07-17T07:23:20.040Z"
   },
   {
    "duration": 45,
    "start_time": "2023-07-17T07:23:33.553Z"
   },
   {
    "duration": 35,
    "start_time": "2023-07-17T07:23:38.253Z"
   },
   {
    "duration": 10,
    "start_time": "2023-07-17T07:24:43.436Z"
   },
   {
    "duration": 24,
    "start_time": "2023-07-17T07:24:50.406Z"
   },
   {
    "duration": 40,
    "start_time": "2023-07-17T07:24:57.701Z"
   },
   {
    "duration": 16,
    "start_time": "2023-07-17T07:25:39.790Z"
   },
   {
    "duration": 28,
    "start_time": "2023-07-17T07:26:02.556Z"
   },
   {
    "duration": 28,
    "start_time": "2023-07-17T07:26:24.559Z"
   },
   {
    "duration": 39,
    "start_time": "2023-07-17T07:26:40.681Z"
   },
   {
    "duration": 32,
    "start_time": "2023-07-17T07:26:56.266Z"
   },
   {
    "duration": 39,
    "start_time": "2023-07-17T07:26:58.960Z"
   },
   {
    "duration": 81,
    "start_time": "2023-07-17T07:27:05.208Z"
   },
   {
    "duration": 31,
    "start_time": "2023-07-17T07:27:08.087Z"
   },
   {
    "duration": 28,
    "start_time": "2023-07-17T07:27:15.457Z"
   },
   {
    "duration": 34,
    "start_time": "2023-07-17T07:27:20.464Z"
   },
   {
    "duration": 28,
    "start_time": "2023-07-17T07:27:28.636Z"
   },
   {
    "duration": 44,
    "start_time": "2023-07-17T07:27:32.774Z"
   },
   {
    "duration": 40,
    "start_time": "2023-07-17T07:27:35.315Z"
   },
   {
    "duration": 42,
    "start_time": "2023-07-17T07:27:42.059Z"
   },
   {
    "duration": 49,
    "start_time": "2023-07-17T07:27:57.292Z"
   },
   {
    "duration": 40,
    "start_time": "2023-07-17T07:28:07.064Z"
   },
   {
    "duration": 32,
    "start_time": "2023-07-17T07:28:32.442Z"
   },
   {
    "duration": 34,
    "start_time": "2023-07-17T07:28:43.213Z"
   },
   {
    "duration": 45,
    "start_time": "2023-07-17T07:28:48.748Z"
   },
   {
    "duration": 32,
    "start_time": "2023-07-17T07:28:58.946Z"
   },
   {
    "duration": 30,
    "start_time": "2023-07-17T07:29:07.780Z"
   },
   {
    "duration": 28,
    "start_time": "2023-07-17T07:29:51.277Z"
   },
   {
    "duration": 30,
    "start_time": "2023-07-17T07:29:56.339Z"
   },
   {
    "duration": 30,
    "start_time": "2023-07-17T07:30:01.980Z"
   },
   {
    "duration": 31,
    "start_time": "2023-07-17T07:30:05.548Z"
   },
   {
    "duration": 29,
    "start_time": "2023-07-17T07:30:15.458Z"
   },
   {
    "duration": 29,
    "start_time": "2023-07-17T07:30:21.394Z"
   },
   {
    "duration": 31,
    "start_time": "2023-07-17T07:31:47.687Z"
   },
   {
    "duration": 29,
    "start_time": "2023-07-17T07:32:40.565Z"
   },
   {
    "duration": 27,
    "start_time": "2023-07-17T07:32:44.108Z"
   },
   {
    "duration": 32,
    "start_time": "2023-07-17T07:32:55.285Z"
   },
   {
    "duration": 27,
    "start_time": "2023-07-17T07:33:08.809Z"
   },
   {
    "duration": 28,
    "start_time": "2023-07-17T07:33:13.570Z"
   },
   {
    "duration": 30,
    "start_time": "2023-07-17T07:33:21.088Z"
   },
   {
    "duration": 29,
    "start_time": "2023-07-17T07:33:39.664Z"
   },
   {
    "duration": 29,
    "start_time": "2023-07-17T07:33:50.720Z"
   },
   {
    "duration": 29,
    "start_time": "2023-07-17T07:34:13.103Z"
   },
   {
    "duration": 30,
    "start_time": "2023-07-17T07:34:24.849Z"
   },
   {
    "duration": 29,
    "start_time": "2023-07-17T07:34:28.558Z"
   },
   {
    "duration": 31,
    "start_time": "2023-07-17T07:34:35.950Z"
   },
   {
    "duration": 30,
    "start_time": "2023-07-17T07:34:41.985Z"
   },
   {
    "duration": 26,
    "start_time": "2023-07-17T07:34:44.253Z"
   },
   {
    "duration": 28,
    "start_time": "2023-07-17T07:34:48.659Z"
   },
   {
    "duration": 30,
    "start_time": "2023-07-17T07:35:17.296Z"
   },
   {
    "duration": 29,
    "start_time": "2023-07-17T07:35:25.110Z"
   },
   {
    "duration": 29,
    "start_time": "2023-07-17T07:35:48.589Z"
   },
   {
    "duration": 29,
    "start_time": "2023-07-17T07:35:52.756Z"
   },
   {
    "duration": 29,
    "start_time": "2023-07-17T07:36:11.455Z"
   },
   {
    "duration": 28,
    "start_time": "2023-07-17T07:36:16.944Z"
   },
   {
    "duration": 29,
    "start_time": "2023-07-17T07:36:21.854Z"
   },
   {
    "duration": 27,
    "start_time": "2023-07-17T07:36:27.421Z"
   },
   {
    "duration": 30,
    "start_time": "2023-07-17T07:36:41.986Z"
   },
   {
    "duration": 30,
    "start_time": "2023-07-17T07:36:46.560Z"
   },
   {
    "duration": 33,
    "start_time": "2023-07-17T07:36:51.121Z"
   },
   {
    "duration": 28,
    "start_time": "2023-07-17T07:36:55.113Z"
   },
   {
    "duration": 28,
    "start_time": "2023-07-17T07:36:58.904Z"
   },
   {
    "duration": 31,
    "start_time": "2023-07-17T07:37:02.188Z"
   },
   {
    "duration": 29,
    "start_time": "2023-07-17T07:37:05.748Z"
   },
   {
    "duration": 29,
    "start_time": "2023-07-17T07:37:10.049Z"
   },
   {
    "duration": 30,
    "start_time": "2023-07-17T07:37:13.995Z"
   },
   {
    "duration": 31,
    "start_time": "2023-07-17T07:38:02.878Z"
   },
   {
    "duration": 7,
    "start_time": "2023-07-17T08:26:01.461Z"
   },
   {
    "duration": 12,
    "start_time": "2023-07-17T08:26:05.504Z"
   },
   {
    "duration": 9,
    "start_time": "2023-07-17T08:27:05.655Z"
   },
   {
    "duration": 25,
    "start_time": "2023-07-17T08:27:06.085Z"
   },
   {
    "duration": 9,
    "start_time": "2023-07-17T08:27:10.406Z"
   },
   {
    "duration": 23,
    "start_time": "2023-07-17T08:27:11.658Z"
   },
   {
    "duration": 13061,
    "start_time": "2023-07-17T08:33:06.833Z"
   },
   {
    "duration": 18,
    "start_time": "2023-07-17T08:33:57.889Z"
   },
   {
    "duration": 11,
    "start_time": "2023-07-17T08:34:14.669Z"
   },
   {
    "duration": 14,
    "start_time": "2023-07-17T08:34:17.270Z"
   },
   {
    "duration": 12,
    "start_time": "2023-07-17T08:34:33.455Z"
   },
   {
    "duration": 10,
    "start_time": "2023-07-17T08:34:37.141Z"
   },
   {
    "duration": 227,
    "start_time": "2023-07-17T08:36:04.180Z"
   },
   {
    "duration": 161,
    "start_time": "2023-07-17T08:36:21.856Z"
   },
   {
    "duration": 165,
    "start_time": "2023-07-17T08:37:05.285Z"
   },
   {
    "duration": 324,
    "start_time": "2023-07-17T08:39:11.219Z"
   },
   {
    "duration": 904,
    "start_time": "2023-07-17T08:39:39.784Z"
   },
   {
    "duration": 253,
    "start_time": "2023-07-17T08:43:18.902Z"
   },
   {
    "duration": 38,
    "start_time": "2023-07-17T11:33:57.855Z"
   },
   {
    "duration": 35,
    "start_time": "2023-07-17T11:34:02.357Z"
   },
   {
    "duration": 28,
    "start_time": "2023-07-17T11:34:06.566Z"
   },
   {
    "duration": 3077,
    "start_time": "2023-09-16T13:16:20.902Z"
   },
   {
    "duration": 1363,
    "start_time": "2023-09-16T13:16:23.981Z"
   },
   {
    "duration": 81,
    "start_time": "2023-09-16T13:16:25.346Z"
   },
   {
    "duration": 14,
    "start_time": "2023-09-16T13:16:25.429Z"
   },
   {
    "duration": 20,
    "start_time": "2023-09-16T13:16:25.445Z"
   },
   {
    "duration": 38,
    "start_time": "2023-09-16T13:16:25.467Z"
   },
   {
    "duration": 11,
    "start_time": "2023-09-16T13:16:25.506Z"
   },
   {
    "duration": 17,
    "start_time": "2023-09-16T13:16:25.519Z"
   },
   {
    "duration": 59,
    "start_time": "2023-09-16T13:16:25.549Z"
   },
   {
    "duration": 6,
    "start_time": "2023-09-16T13:16:25.611Z"
   },
   {
    "duration": 7,
    "start_time": "2023-09-16T13:16:25.618Z"
   },
   {
    "duration": 34,
    "start_time": "2023-09-16T13:16:25.627Z"
   },
   {
    "duration": 6,
    "start_time": "2023-09-16T13:16:25.663Z"
   },
   {
    "duration": 27,
    "start_time": "2023-09-16T13:16:25.671Z"
   },
   {
    "duration": 51,
    "start_time": "2023-09-16T13:16:25.700Z"
   },
   {
    "duration": 15,
    "start_time": "2023-09-16T13:16:25.755Z"
   },
   {
    "duration": 438,
    "start_time": "2023-09-16T13:16:25.772Z"
   },
   {
    "duration": 18,
    "start_time": "2023-09-16T13:16:26.212Z"
   },
   {
    "duration": 34,
    "start_time": "2023-09-16T13:16:26.232Z"
   },
   {
    "duration": 222,
    "start_time": "2023-09-16T13:16:26.268Z"
   },
   {
    "duration": 11,
    "start_time": "2023-09-16T13:16:26.491Z"
   },
   {
    "duration": 29,
    "start_time": "2023-09-16T13:16:26.504Z"
   },
   {
    "duration": 169,
    "start_time": "2023-09-16T13:16:26.535Z"
   },
   {
    "duration": 308,
    "start_time": "2023-09-16T13:16:26.706Z"
   },
   {
    "duration": 303,
    "start_time": "2023-09-16T13:16:27.015Z"
   },
   {
    "duration": 5679,
    "start_time": "2023-09-16T13:16:27.319Z"
   },
   {
    "duration": 231,
    "start_time": "2023-09-16T13:16:32.999Z"
   },
   {
    "duration": 324,
    "start_time": "2023-09-16T13:16:33.232Z"
   },
   {
    "duration": 321,
    "start_time": "2023-09-16T13:16:33.559Z"
   },
   {
    "duration": 723,
    "start_time": "2023-09-16T13:16:33.882Z"
   },
   {
    "duration": 1488,
    "start_time": "2023-09-16T13:16:34.607Z"
   },
   {
    "duration": 1035,
    "start_time": "2023-09-16T13:16:36.096Z"
   },
   {
    "duration": 5,
    "start_time": "2023-09-16T13:16:37.133Z"
   },
   {
    "duration": 12,
    "start_time": "2023-09-16T13:16:37.155Z"
   },
   {
    "duration": 16,
    "start_time": "2023-09-16T13:16:37.169Z"
   },
   {
    "duration": 8,
    "start_time": "2023-09-16T13:16:37.186Z"
   },
   {
    "duration": 7,
    "start_time": "2023-09-16T13:16:37.196Z"
   },
   {
    "duration": 29,
    "start_time": "2023-09-16T13:16:37.205Z"
   },
   {
    "duration": 32,
    "start_time": "2023-09-16T13:16:37.249Z"
   },
   {
    "duration": 22,
    "start_time": "2023-09-16T13:16:37.282Z"
   },
   {
    "duration": 5,
    "start_time": "2023-09-16T13:16:46.982Z"
   }
  ],
  "kernelspec": {
   "display_name": "Python 3 (ipykernel)",
   "language": "python",
   "name": "python3"
  },
  "language_info": {
   "codemirror_mode": {
    "name": "ipython",
    "version": 3
   },
   "file_extension": ".py",
   "mimetype": "text/x-python",
   "name": "python",
   "nbconvert_exporter": "python",
   "pygments_lexer": "ipython3",
   "version": "3.11.4"
  },
  "toc": {
   "base_numbering": 1,
   "nav_menu": {},
   "number_sections": true,
   "sideBar": true,
   "skip_h1_title": true,
   "title_cell": "Table of Contents",
   "title_sidebar": "Contents",
   "toc_cell": false,
   "toc_position": {},
   "toc_section_display": true,
   "toc_window_display": false
  }
 },
 "nbformat": 4,
 "nbformat_minor": 5
}
